{
 "cells": [
  {
   "cell_type": "code",
   "execution_count": null,
   "id": "a6c7ea55",
   "metadata": {},
   "outputs": [
    {
     "name": "stderr",
     "output_type": "stream",
     "text": [
      "2025-09-25 17:15:17,454 INFO [2025-09-03T00:00:00] To improve our C3S service, we need to hear from you! Please complete this very short [survey](https://confluence.ecmwf.int/x/E7uBEQ/). Thank you.\n",
      "2025-09-25 17:15:17,456 INFO [2024-09-26T00:00:00] Watch our [Forum](https://forum.ecmwf.int/) for Announcements, news and other discussed topics.\n"
     ]
    }
   ],
   "source": [
    "import cdsapi\n",
    "\n",
    "# Client import from cds, requires an api key config file, check cds website, this should be unique and private\n",
    "c = cdsapi.Client()\n",
    "\n"
   ]
  },
  {
   "cell_type": "code",
   "execution_count": null,
   "id": "f9b12f9e",
   "metadata": {},
   "outputs": [
    {
     "name": "stdout",
     "output_type": "stream",
     "text": [
      "N2W2: (-2.5, -60.5)\n",
      "N2W: (-2.5, -60.25)\n",
      "N2: (-2.5, -60.0)\n",
      "N2E: (-2.5, -59.75)\n",
      "N2E2: (-2.5, -59.5)\n",
      "NW2: (-2.75, -60.5)\n",
      "NW: (-2.75, -60.25)\n",
      "N: (-2.75, -60.0)\n",
      "NE: (-2.75, -59.75)\n",
      "NE2: (-2.75, -59.5)\n",
      "W2: (-3.0, -60.5)\n",
      "W: (-3.0, -60.25)\n",
      "C: (-3.0, -60.0)\n",
      "E: (-3.0, -59.75)\n",
      "E2: (-3.0, -59.5)\n",
      "SW2: (-3.25, -60.5)\n",
      "SW: (-3.25, -60.25)\n",
      "S: (-3.25, -60.0)\n",
      "SE: (-3.25, -59.75)\n",
      "SE2: (-3.25, -59.5)\n",
      "S2W2: (-3.5, -60.5)\n",
      "S2W: (-3.5, -60.25)\n",
      "S2: (-3.5, -60.0)\n",
      "S2E: (-3.5, -59.75)\n",
      "S2E2: (-3.5, -59.5)\n"
     ]
    }
   ],
   "source": [
    "from collections import OrderedDict\n",
    "\n",
    "# Generate a grid of points, each will be downloaded from cds\n",
    "def generate_grid(center_lat, center_lon, step, size):\n",
    "    grid = OrderedDict()\n",
    "    half = size // 2\n",
    "    for i in range(size):\n",
    "        for j in range(size):\n",
    "            lat_offset = half - i\n",
    "            lon_offset = j - half\n",
    "            lat = center_lat + lat_offset * step\n",
    "            lon = center_lon + lon_offset * step\n",
    "            label = ''\n",
    "            if lat_offset > 0:\n",
    "                label += 'N' + (str(lat_offset) if lat_offset > 1 else '')\n",
    "            elif lat_offset < 0:\n",
    "                label += 'S' + (str(abs(lat_offset)) if abs(lat_offset) > 1 else '')\n",
    "            if lon_offset > 0:\n",
    "                label += 'E' + (str(lon_offset) if lon_offset > 1 else '')\n",
    "            elif lon_offset < 0:\n",
    "                label += 'W' + (str(abs(lon_offset)) if abs(lon_offset) > 1 else '')\n",
    "            if label == '':\n",
    "                label = 'C'\n",
    "            grid[label.lower()] = (round(lat, 5), round(lon, 5))\n",
    "    return grid\n",
    "\n",
    "# 5x5 grid around (-3.0, -60.0)\n",
    "grid = generate_grid(center_lat=-3.0, center_lon=-60.0, step=0.25, size=5)\n",
    "\n",
    "# Print to see the grid\n",
    "for label, coords in grid.items():\n",
    "    print(f\"{label.upper()}: {coords}\")\n"
   ]
  },
  {
   "cell_type": "code",
   "execution_count": null,
   "id": "3c540b8f",
   "metadata": {},
   "outputs": [
    {
     "name": "stderr",
     "output_type": "stream",
     "text": [
      "2025-09-25 18:57:32,404 INFO [2025-09-03T00:00:00] To improve our C3S service, we need to hear from you! Please complete this very short [survey](https://confluence.ecmwf.int/x/E7uBEQ/). Thank you.\n",
      "2025-09-25 18:57:32,405 INFO [2024-09-26T00:00:00] Watch our [Forum](https://forum.ecmwf.int/) for Announcements, news and other discussed topics.\n"
     ]
    },
    {
     "name": "stdout",
     "output_type": "stream",
     "text": [
      "Requesting data for N2W2 at (-2.5, -60.5)\n"
     ]
    },
    {
     "name": "stderr",
     "output_type": "stream",
     "text": [
      "2025-09-25 18:57:32,617 WARNING [2025-03-17T00:00:00] Please be aware that the generation of this dataset is using an alternative source for the ERA5 data and may be subject to changes over time (e.g. file format, data file structure, deprecation etc). This dataset should therefore be regarded as “experimental” and is **not recommended for use in a production environment**. \n",
      "\n",
      "Notification of changes via this catalogue entry banner and/or in the [Forum](https://forum.ecmwf.int/) will be provided on best efforts.\n",
      "2025-09-25 18:57:32,617 INFO Request ID is ee84b3b1-922d-4da1-92c2-6e95458ae4e1\n",
      "2025-09-25 18:57:32,704 INFO status has been updated to accepted\n",
      "2025-09-25 18:58:05,702 INFO status has been updated to successful\n",
      "                                                                                          \r"
     ]
    },
    {
     "name": "stdout",
     "output_type": "stream",
     "text": [
      "Requesting data for N2W at (-2.5, -60.25)\n"
     ]
    },
    {
     "name": "stderr",
     "output_type": "stream",
     "text": [
      "2025-09-25 18:58:06,941 WARNING [2025-03-17T00:00:00] Please be aware that the generation of this dataset is using an alternative source for the ERA5 data and may be subject to changes over time (e.g. file format, data file structure, deprecation etc). This dataset should therefore be regarded as “experimental” and is **not recommended for use in a production environment**. \n",
      "\n",
      "Notification of changes via this catalogue entry banner and/or in the [Forum](https://forum.ecmwf.int/) will be provided on best efforts.\n",
      "2025-09-25 18:58:06,947 INFO Request ID is b888390c-be42-4593-862b-1866f92a978c\n",
      "2025-09-25 18:58:07,054 INFO status has been updated to accepted\n",
      "2025-09-25 18:58:15,942 INFO status has been updated to running\n",
      "2025-09-25 18:58:29,030 INFO status has been updated to successful\n",
      "2025-09-25 18:58:30,278 WARNING [2025-03-17T00:00:00] Please be aware that the generation of this dataset is using an alternative source for the ERA5 data and may be subject to changes over time (e.g. file format, data file structure, deprecation etc). This dataset should therefore be regarded as “experimental” and is **not recommended for use in a production environment**. \n",
      "\n",
      "Notification of changes via this catalogue entry banner and/or in the [Forum](https://forum.ecmwf.int/) will be provided on best efforts.\n"
     ]
    },
    {
     "name": "stdout",
     "output_type": "stream",
     "text": [
      "Requesting data for N2 at (-2.5, -60.0)\n"
     ]
    },
    {
     "name": "stderr",
     "output_type": "stream",
     "text": [
      "2025-09-25 18:58:30,280 INFO Request ID is b7c798d0-9c26-442b-abc8-34b6c0aca55e\n",
      "2025-09-25 18:58:30,355 INFO status has been updated to accepted\n",
      "2025-09-25 18:58:44,040 INFO status has been updated to successful\n",
      "                                                                                          \r"
     ]
    },
    {
     "name": "stdout",
     "output_type": "stream",
     "text": [
      "Requesting data for N2E at (-2.5, -59.75)\n"
     ]
    },
    {
     "name": "stderr",
     "output_type": "stream",
     "text": [
      "2025-09-25 18:58:45,507 WARNING [2025-03-17T00:00:00] Please be aware that the generation of this dataset is using an alternative source for the ERA5 data and may be subject to changes over time (e.g. file format, data file structure, deprecation etc). This dataset should therefore be regarded as “experimental” and is **not recommended for use in a production environment**. \n",
      "\n",
      "Notification of changes via this catalogue entry banner and/or in the [Forum](https://forum.ecmwf.int/) will be provided on best efforts.\n",
      "2025-09-25 18:58:45,513 INFO Request ID is 9ef1a10e-e8d0-4090-8171-00e6c8e1d4cf\n",
      "2025-09-25 18:58:45,591 INFO status has been updated to accepted\n",
      "2025-09-25 18:58:54,136 INFO status has been updated to running\n",
      "2025-09-25 18:59:06,952 INFO status has been updated to successful\n",
      "2025-09-25 18:59:08,101 WARNING [2025-03-17T00:00:00] Please be aware that the generation of this dataset is using an alternative source for the ERA5 data and may be subject to changes over time (e.g. file format, data file structure, deprecation etc). This dataset should therefore be regarded as “experimental” and is **not recommended for use in a production environment**. \n",
      "\n",
      "Notification of changes via this catalogue entry banner and/or in the [Forum](https://forum.ecmwf.int/) will be provided on best efforts.\n"
     ]
    },
    {
     "name": "stdout",
     "output_type": "stream",
     "text": [
      "Requesting data for N2E2 at (-2.5, -59.5)\n"
     ]
    },
    {
     "name": "stderr",
     "output_type": "stream",
     "text": [
      "2025-09-25 18:59:08,105 INFO Request ID is 595e7d3b-d665-415c-abae-c1d5112b0951\n",
      "2025-09-25 18:59:08,175 INFO status has been updated to accepted\n",
      "2025-09-25 18:59:16,904 INFO status has been updated to running\n",
      "2025-09-25 18:59:29,759 INFO status has been updated to successful\n",
      "                                                                                         \r"
     ]
    },
    {
     "name": "stdout",
     "output_type": "stream",
     "text": [
      "Requesting data for NW2 at (-2.75, -60.5)\n"
     ]
    },
    {
     "name": "stderr",
     "output_type": "stream",
     "text": [
      "2025-09-25 18:59:31,263 WARNING [2025-03-17T00:00:00] Please be aware that the generation of this dataset is using an alternative source for the ERA5 data and may be subject to changes over time (e.g. file format, data file structure, deprecation etc). This dataset should therefore be regarded as “experimental” and is **not recommended for use in a production environment**. \n",
      "\n",
      "Notification of changes via this catalogue entry banner and/or in the [Forum](https://forum.ecmwf.int/) will be provided on best efforts.\n",
      "2025-09-25 18:59:31,266 INFO Request ID is 505d6cd5-aff2-47f3-bc0f-46030463274e\n",
      "2025-09-25 18:59:31,351 INFO status has been updated to accepted\n",
      "2025-09-25 18:59:45,059 INFO status has been updated to running\n",
      "2025-09-25 18:59:52,780 INFO status has been updated to successful\n",
      "                                                                                          \r"
     ]
    },
    {
     "name": "stdout",
     "output_type": "stream",
     "text": [
      "Requesting data for NW at (-2.75, -60.25)\n"
     ]
    },
    {
     "name": "stderr",
     "output_type": "stream",
     "text": [
      "2025-09-25 18:59:54,103 WARNING [2025-03-17T00:00:00] Please be aware that the generation of this dataset is using an alternative source for the ERA5 data and may be subject to changes over time (e.g. file format, data file structure, deprecation etc). This dataset should therefore be regarded as “experimental” and is **not recommended for use in a production environment**. \n",
      "\n",
      "Notification of changes via this catalogue entry banner and/or in the [Forum](https://forum.ecmwf.int/) will be provided on best efforts.\n",
      "2025-09-25 18:59:54,111 INFO Request ID is a8743f30-0b28-484a-b9df-ad17344ce780\n",
      "2025-09-25 18:59:54,416 INFO status has been updated to accepted\n",
      "2025-09-25 19:00:08,213 INFO status has been updated to running\n",
      "2025-09-25 19:00:27,373 INFO status has been updated to successful\n",
      "2025-09-25 19:00:28,832 WARNING [2025-03-17T00:00:00] Please be aware that the generation of this dataset is using an alternative source for the ERA5 data and may be subject to changes over time (e.g. file format, data file structure, deprecation etc). This dataset should therefore be regarded as “experimental” and is **not recommended for use in a production environment**. \n",
      "\n",
      "Notification of changes via this catalogue entry banner and/or in the [Forum](https://forum.ecmwf.int/) will be provided on best efforts.\n"
     ]
    },
    {
     "name": "stdout",
     "output_type": "stream",
     "text": [
      "Requesting data for N at (-2.75, -60.0)\n"
     ]
    },
    {
     "name": "stderr",
     "output_type": "stream",
     "text": [
      "2025-09-25 19:00:28,849 INFO Request ID is 996a3be5-d6ea-444a-931c-014720a1331e\n",
      "2025-09-25 19:00:28,983 INFO status has been updated to accepted\n",
      "2025-09-25 19:00:42,590 INFO status has been updated to running\n",
      "2025-09-25 19:00:50,276 INFO status has been updated to successful\n",
      "                                                                                         \r"
     ]
    },
    {
     "name": "stdout",
     "output_type": "stream",
     "text": [
      "Requesting data for NE at (-2.75, -59.75)\n"
     ]
    },
    {
     "name": "stderr",
     "output_type": "stream",
     "text": [
      "2025-09-25 19:00:51,913 WARNING [2025-03-17T00:00:00] Please be aware that the generation of this dataset is using an alternative source for the ERA5 data and may be subject to changes over time (e.g. file format, data file structure, deprecation etc). This dataset should therefore be regarded as “experimental” and is **not recommended for use in a production environment**. \n",
      "\n",
      "Notification of changes via this catalogue entry banner and/or in the [Forum](https://forum.ecmwf.int/) will be provided on best efforts.\n",
      "2025-09-25 19:00:51,923 INFO Request ID is ad4323e5-c6b2-4bde-b42a-0af260e60c5b\n",
      "2025-09-25 19:00:52,003 INFO status has been updated to accepted\n",
      "2025-09-25 19:01:05,606 INFO status has been updated to running\n",
      "2025-09-25 19:01:13,272 INFO status has been updated to successful\n",
      "                                                                                          \r"
     ]
    },
    {
     "name": "stdout",
     "output_type": "stream",
     "text": [
      "Requesting data for NE2 at (-2.75, -59.5)\n"
     ]
    },
    {
     "name": "stderr",
     "output_type": "stream",
     "text": [
      "2025-09-25 19:01:14,941 WARNING [2025-03-17T00:00:00] Please be aware that the generation of this dataset is using an alternative source for the ERA5 data and may be subject to changes over time (e.g. file format, data file structure, deprecation etc). This dataset should therefore be regarded as “experimental” and is **not recommended for use in a production environment**. \n",
      "\n",
      "Notification of changes via this catalogue entry banner and/or in the [Forum](https://forum.ecmwf.int/) will be provided on best efforts.\n",
      "2025-09-25 19:01:14,954 INFO Request ID is 1469bf86-c848-4576-aa2a-54f27ac85da6\n",
      "2025-09-25 19:01:15,128 INFO status has been updated to accepted\n",
      "2025-09-25 19:01:23,581 INFO status has been updated to running\n",
      "2025-09-25 19:01:36,396 INFO status has been updated to successful\n",
      "2025-09-25 19:01:37,783 WARNING [2025-03-17T00:00:00] Please be aware that the generation of this dataset is using an alternative source for the ERA5 data and may be subject to changes over time (e.g. file format, data file structure, deprecation etc). This dataset should therefore be regarded as “experimental” and is **not recommended for use in a production environment**. \n",
      "\n",
      "Notification of changes via this catalogue entry banner and/or in the [Forum](https://forum.ecmwf.int/) will be provided on best efforts.\n"
     ]
    },
    {
     "name": "stdout",
     "output_type": "stream",
     "text": [
      "Requesting data for W2 at (-3.0, -60.5)\n"
     ]
    },
    {
     "name": "stderr",
     "output_type": "stream",
     "text": [
      "2025-09-25 19:01:37,794 INFO Request ID is b7f2b900-0066-4d18-b897-5b0149c9b71d\n",
      "2025-09-25 19:01:37,881 INFO status has been updated to accepted\n",
      "2025-09-25 19:01:51,582 INFO status has been updated to running\n",
      "2025-09-25 19:02:10,787 INFO status has been updated to successful\n",
      "                                                                                          \r"
     ]
    },
    {
     "name": "stdout",
     "output_type": "stream",
     "text": [
      "Requesting data for W at (-3.0, -60.25)\n"
     ]
    },
    {
     "name": "stderr",
     "output_type": "stream",
     "text": [
      "2025-09-25 19:02:12,161 WARNING [2025-03-17T00:00:00] Please be aware that the generation of this dataset is using an alternative source for the ERA5 data and may be subject to changes over time (e.g. file format, data file structure, deprecation etc). This dataset should therefore be regarded as “experimental” and is **not recommended for use in a production environment**. \n",
      "\n",
      "Notification of changes via this catalogue entry banner and/or in the [Forum](https://forum.ecmwf.int/) will be provided on best efforts.\n",
      "2025-09-25 19:02:12,172 INFO Request ID is a1ad2b77-6caa-4363-b5ee-91e3af958bff\n",
      "2025-09-25 19:02:12,413 INFO status has been updated to accepted\n",
      "2025-09-25 19:02:26,428 INFO status has been updated to running\n",
      "2025-09-25 19:02:34,114 INFO status has been updated to successful\n",
      "                                                                                          \r"
     ]
    },
    {
     "name": "stdout",
     "output_type": "stream",
     "text": [
      "Requesting data for C at (-3.0, -60.0)\n"
     ]
    },
    {
     "name": "stderr",
     "output_type": "stream",
     "text": [
      "2025-09-25 19:02:35,295 WARNING [2025-03-17T00:00:00] Please be aware that the generation of this dataset is using an alternative source for the ERA5 data and may be subject to changes over time (e.g. file format, data file structure, deprecation etc). This dataset should therefore be regarded as “experimental” and is **not recommended for use in a production environment**. \n",
      "\n",
      "Notification of changes via this catalogue entry banner and/or in the [Forum](https://forum.ecmwf.int/) will be provided on best efforts.\n",
      "2025-09-25 19:02:35,303 INFO Request ID is 6ef2d13b-2339-4cd7-b72b-663bd5805154\n",
      "2025-09-25 19:02:35,396 INFO status has been updated to accepted\n",
      "2025-09-25 19:02:49,019 INFO status has been updated to running\n",
      "2025-09-25 19:03:08,151 INFO status has been updated to successful\n",
      "                                                                                         \r"
     ]
    },
    {
     "name": "stdout",
     "output_type": "stream",
     "text": [
      "Requesting data for E at (-3.0, -59.75)\n"
     ]
    },
    {
     "name": "stderr",
     "output_type": "stream",
     "text": [
      "2025-09-25 19:03:09,328 WARNING [2025-03-17T00:00:00] Please be aware that the generation of this dataset is using an alternative source for the ERA5 data and may be subject to changes over time (e.g. file format, data file structure, deprecation etc). This dataset should therefore be regarded as “experimental” and is **not recommended for use in a production environment**. \n",
      "\n",
      "Notification of changes via this catalogue entry banner and/or in the [Forum](https://forum.ecmwf.int/) will be provided on best efforts.\n",
      "2025-09-25 19:03:09,339 INFO Request ID is 53877686-d9e8-45c6-9542-638e4bd9c641\n",
      "2025-09-25 19:03:09,639 INFO status has been updated to accepted\n",
      "2025-09-25 19:03:31,182 INFO status has been updated to running\n",
      "2025-09-25 19:03:42,721 INFO status has been updated to successful\n",
      "                                                                                          \r"
     ]
    },
    {
     "name": "stdout",
     "output_type": "stream",
     "text": [
      "Requesting data for E2 at (-3.0, -59.5)\n"
     ]
    },
    {
     "name": "stderr",
     "output_type": "stream",
     "text": [
      "2025-09-25 19:03:44,009 WARNING [2025-03-17T00:00:00] Please be aware that the generation of this dataset is using an alternative source for the ERA5 data and may be subject to changes over time (e.g. file format, data file structure, deprecation etc). This dataset should therefore be regarded as “experimental” and is **not recommended for use in a production environment**. \n",
      "\n",
      "Notification of changes via this catalogue entry banner and/or in the [Forum](https://forum.ecmwf.int/) will be provided on best efforts.\n",
      "2025-09-25 19:03:44,011 INFO Request ID is d0dafb35-d2ef-4ff4-9711-251aa8229fbd\n",
      "2025-09-25 19:03:44,083 INFO status has been updated to accepted\n",
      "2025-09-25 19:03:57,864 INFO status has been updated to running\n",
      "2025-09-25 19:04:05,565 INFO status has been updated to successful\n",
      "                                                                                          \r"
     ]
    },
    {
     "name": "stdout",
     "output_type": "stream",
     "text": [
      "Requesting data for SW2 at (-3.25, -60.5)\n"
     ]
    },
    {
     "name": "stderr",
     "output_type": "stream",
     "text": [
      "2025-09-25 19:04:06,596 WARNING [2025-03-17T00:00:00] Please be aware that the generation of this dataset is using an alternative source for the ERA5 data and may be subject to changes over time (e.g. file format, data file structure, deprecation etc). This dataset should therefore be regarded as “experimental” and is **not recommended for use in a production environment**. \n",
      "\n",
      "Notification of changes via this catalogue entry banner and/or in the [Forum](https://forum.ecmwf.int/) will be provided on best efforts.\n",
      "2025-09-25 19:04:06,603 INFO Request ID is abe52738-9cc5-4e16-9e46-0b1dc41f2903\n",
      "2025-09-25 19:04:06,688 INFO status has been updated to accepted\n",
      "2025-09-25 19:04:20,311 INFO status has been updated to running\n",
      "2025-09-25 19:04:39,468 INFO status has been updated to successful\n",
      "2025-09-25 19:04:40,556 WARNING [2025-03-17T00:00:00] Please be aware that the generation of this dataset is using an alternative source for the ERA5 data and may be subject to changes over time (e.g. file format, data file structure, deprecation etc). This dataset should therefore be regarded as “experimental” and is **not recommended for use in a production environment**. \n",
      "\n",
      "Notification of changes via this catalogue entry banner and/or in the [Forum](https://forum.ecmwf.int/) will be provided on best efforts.\n"
     ]
    },
    {
     "name": "stdout",
     "output_type": "stream",
     "text": [
      "Requesting data for SW at (-3.25, -60.25)\n"
     ]
    },
    {
     "name": "stderr",
     "output_type": "stream",
     "text": [
      "2025-09-25 19:04:40,559 INFO Request ID is 1b96aee0-4030-4fa8-be86-ee085923adcb\n",
      "2025-09-25 19:04:40,630 INFO status has been updated to accepted\n",
      "2025-09-25 19:05:13,815 INFO status has been updated to successful\n",
      "                                                                                          \r"
     ]
    },
    {
     "name": "stdout",
     "output_type": "stream",
     "text": [
      "Requesting data for S at (-3.25, -60.0)\n"
     ]
    },
    {
     "name": "stderr",
     "output_type": "stream",
     "text": [
      "2025-09-25 19:05:14,939 WARNING [2025-03-17T00:00:00] Please be aware that the generation of this dataset is using an alternative source for the ERA5 data and may be subject to changes over time (e.g. file format, data file structure, deprecation etc). This dataset should therefore be regarded as “experimental” and is **not recommended for use in a production environment**. \n",
      "\n",
      "Notification of changes via this catalogue entry banner and/or in the [Forum](https://forum.ecmwf.int/) will be provided on best efforts.\n",
      "2025-09-25 19:05:14,941 INFO Request ID is f6cc7af1-fc3a-4854-8624-d70cfd24597c\n",
      "2025-09-25 19:05:15,025 INFO status has been updated to accepted\n",
      "2025-09-25 19:05:36,370 INFO status has been updated to running\n",
      "2025-09-25 19:05:48,019 INFO status has been updated to successful\n",
      "                                                                                          \r"
     ]
    },
    {
     "name": "stdout",
     "output_type": "stream",
     "text": [
      "Requesting data for SE at (-3.25, -59.75)\n"
     ]
    },
    {
     "name": "stderr",
     "output_type": "stream",
     "text": [
      "2025-09-25 19:05:49,428 WARNING [2025-03-17T00:00:00] Please be aware that the generation of this dataset is using an alternative source for the ERA5 data and may be subject to changes over time (e.g. file format, data file structure, deprecation etc). This dataset should therefore be regarded as “experimental” and is **not recommended for use in a production environment**. \n",
      "\n",
      "Notification of changes via this catalogue entry banner and/or in the [Forum](https://forum.ecmwf.int/) will be provided on best efforts.\n",
      "2025-09-25 19:05:49,432 INFO Request ID is 95b516e7-582a-41ae-b2f3-eefd1833b882\n",
      "2025-09-25 19:05:49,555 INFO status has been updated to accepted\n",
      "2025-09-25 19:05:58,037 INFO status has been updated to running\n",
      "2025-09-25 19:06:10,827 INFO status has been updated to successful\n",
      "                                                                                          \r"
     ]
    },
    {
     "name": "stdout",
     "output_type": "stream",
     "text": [
      "Requesting data for SE2 at (-3.25, -59.5)\n"
     ]
    },
    {
     "name": "stderr",
     "output_type": "stream",
     "text": [
      "2025-09-25 19:06:12,014 WARNING [2025-03-17T00:00:00] Please be aware that the generation of this dataset is using an alternative source for the ERA5 data and may be subject to changes over time (e.g. file format, data file structure, deprecation etc). This dataset should therefore be regarded as “experimental” and is **not recommended for use in a production environment**. \n",
      "\n",
      "Notification of changes via this catalogue entry banner and/or in the [Forum](https://forum.ecmwf.int/) will be provided on best efforts.\n",
      "2025-09-25 19:06:12,024 INFO Request ID is 60e43a45-ab15-463e-a8dc-7d115c9dbb92\n",
      "2025-09-25 19:06:12,124 INFO status has been updated to accepted\n",
      "2025-09-25 19:06:20,590 INFO status has been updated to running\n",
      "2025-09-25 19:06:25,732 INFO status has been updated to successful\n",
      "                                                                                          \r"
     ]
    },
    {
     "name": "stdout",
     "output_type": "stream",
     "text": [
      "Requesting data for S2W2 at (-3.5, -60.5)\n"
     ]
    },
    {
     "name": "stderr",
     "output_type": "stream",
     "text": [
      "2025-09-25 19:06:26,972 WARNING [2025-03-17T00:00:00] Please be aware that the generation of this dataset is using an alternative source for the ERA5 data and may be subject to changes over time (e.g. file format, data file structure, deprecation etc). This dataset should therefore be regarded as “experimental” and is **not recommended for use in a production environment**. \n",
      "\n",
      "Notification of changes via this catalogue entry banner and/or in the [Forum](https://forum.ecmwf.int/) will be provided on best efforts.\n",
      "2025-09-25 19:06:26,974 INFO Request ID is 455a3168-5f62-4920-b1ce-e932caaea57a\n",
      "2025-09-25 19:06:27,059 INFO status has been updated to accepted\n",
      "2025-09-25 19:06:40,789 INFO status has been updated to running\n",
      "2025-09-25 19:06:48,459 INFO status has been updated to successful\n",
      "2025-09-25 19:06:49,536 WARNING [2025-03-17T00:00:00] Please be aware that the generation of this dataset is using an alternative source for the ERA5 data and may be subject to changes over time (e.g. file format, data file structure, deprecation etc). This dataset should therefore be regarded as “experimental” and is **not recommended for use in a production environment**. \n",
      "\n",
      "Notification of changes via this catalogue entry banner and/or in the [Forum](https://forum.ecmwf.int/) will be provided on best efforts.\n"
     ]
    },
    {
     "name": "stdout",
     "output_type": "stream",
     "text": [
      "Requesting data for S2W at (-3.5, -60.25)\n"
     ]
    },
    {
     "name": "stderr",
     "output_type": "stream",
     "text": [
      "2025-09-25 19:06:49,537 INFO Request ID is 245bd2b2-a86c-4304-8890-0dd60f69b5d2\n",
      "2025-09-25 19:06:49,640 INFO status has been updated to accepted\n",
      "2025-09-25 19:06:58,139 INFO status has been updated to running\n",
      "2025-09-25 19:07:22,463 INFO status has been updated to successful\n",
      "                                                                                          \r"
     ]
    },
    {
     "name": "stdout",
     "output_type": "stream",
     "text": [
      "Requesting data for S2 at (-3.5, -60.0)\n"
     ]
    },
    {
     "name": "stderr",
     "output_type": "stream",
     "text": [
      "2025-09-25 19:07:24,165 WARNING [2025-03-17T00:00:00] Please be aware that the generation of this dataset is using an alternative source for the ERA5 data and may be subject to changes over time (e.g. file format, data file structure, deprecation etc). This dataset should therefore be regarded as “experimental” and is **not recommended for use in a production environment**. \n",
      "\n",
      "Notification of changes via this catalogue entry banner and/or in the [Forum](https://forum.ecmwf.int/) will be provided on best efforts.\n",
      "2025-09-25 19:07:24,170 INFO Request ID is 519f7813-b2df-4820-8699-77f1638b8d9c\n",
      "2025-09-25 19:07:24,249 INFO status has been updated to accepted\n",
      "2025-09-25 19:07:37,865 INFO status has been updated to running\n",
      "2025-09-25 19:07:45,733 INFO status has been updated to successful\n",
      "                                                                                          \r"
     ]
    },
    {
     "name": "stdout",
     "output_type": "stream",
     "text": [
      "Requesting data for S2E at (-3.5, -59.75)\n"
     ]
    },
    {
     "name": "stderr",
     "output_type": "stream",
     "text": [
      "2025-09-25 19:07:47,001 WARNING [2025-03-17T00:00:00] Please be aware that the generation of this dataset is using an alternative source for the ERA5 data and may be subject to changes over time (e.g. file format, data file structure, deprecation etc). This dataset should therefore be regarded as “experimental” and is **not recommended for use in a production environment**. \n",
      "\n",
      "Notification of changes via this catalogue entry banner and/or in the [Forum](https://forum.ecmwf.int/) will be provided on best efforts.\n",
      "2025-09-25 19:07:47,009 INFO Request ID is e239875f-c38f-4ac7-817c-97c9b1e3c77b\n",
      "2025-09-25 19:07:47,087 INFO status has been updated to accepted\n",
      "2025-09-25 19:08:00,899 INFO status has been updated to running\n",
      "2025-09-25 19:08:08,571 INFO status has been updated to accepted\n",
      "2025-09-25 19:08:20,028 INFO status has been updated to successful\n",
      "2025-09-25 19:08:21,235 WARNING [2025-03-17T00:00:00] Please be aware that the generation of this dataset is using an alternative source for the ERA5 data and may be subject to changes over time (e.g. file format, data file structure, deprecation etc). This dataset should therefore be regarded as “experimental” and is **not recommended for use in a production environment**. \n",
      "\n",
      "Notification of changes via this catalogue entry banner and/or in the [Forum](https://forum.ecmwf.int/) will be provided on best efforts.\n"
     ]
    },
    {
     "name": "stdout",
     "output_type": "stream",
     "text": [
      "Requesting data for S2E2 at (-3.5, -59.5)\n"
     ]
    },
    {
     "name": "stderr",
     "output_type": "stream",
     "text": [
      "2025-09-25 19:08:21,236 INFO Request ID is 71c70c01-afe2-4dfd-97a2-fd31ea204f13\n",
      "2025-09-25 19:08:21,299 INFO status has been updated to accepted\n",
      "2025-09-25 19:08:29,760 INFO status has been updated to running\n",
      "2025-09-25 19:08:42,577 INFO status has been updated to successful\n",
      "                                                                                          \r"
     ]
    }
   ],
   "source": [
    "import cdsapi\n",
    "import os\n",
    "\n",
    "# Define the client and output directory\n",
    "\n",
    "client = cdsapi.Client()\n",
    "output_dir = \"brazil\"\n",
    "os.makedirs(output_dir, exist_ok=True)\n",
    "\n",
    "# Request datasets, for reference, go to the relevant cds webpage\n",
    "for label, (lat, lon) in grid.items():\n",
    "    request = {\n",
    "        \"variable\": [\n",
    "            \"2m_dewpoint_temperature\",\n",
    "            \"surface_pressure\",\n",
    "            \"2m_temperature\",\n",
    "            \"total_precipitation\",\n",
    "            \"10m_u_component_of_wind\",\n",
    "            \"10m_v_component_of_wind\"\n",
    "        ],\n",
    "        \"location\": {\"longitude\": lon, \"latitude\": lat},\n",
    "        \"date\": [\"2018-01-01/2025-01-01\"],\n",
    "        \"data_format\": \"csv\"\n",
    "    }\n",
    "\n",
    "    # Download section, store as .zip in correct path\n",
    "    zip_path = os.path.join(output_dir, f\"{label}.zip\")\n",
    "    print(f\"Requesting data for {label.upper()} at ({lat}, {lon})\")\n",
    "    client.retrieve(\"reanalysis-era5-single-levels-timeseries\", request).download(zip_path)\n"
   ]
  },
  {
   "cell_type": "code",
   "execution_count": null,
   "id": "30061275",
   "metadata": {},
   "outputs": [
    {
     "name": "stdout",
     "output_type": "stream",
     "text": [
      "Extracted and renamed to c.csv\n",
      "Extracted and renamed to e.csv\n",
      "Extracted and renamed to e2.csv\n",
      "Extracted and renamed to n.csv\n",
      "Extracted and renamed to n2.csv\n",
      "Extracted and renamed to n2e.csv\n",
      "Extracted and renamed to n2e2.csv\n",
      "Extracted and renamed to n2w.csv\n",
      "Extracted and renamed to n2w2.csv\n",
      "Extracted and renamed to ne.csv\n",
      "Extracted and renamed to ne2.csv\n",
      "Extracted and renamed to nw.csv\n",
      "Extracted and renamed to nw2.csv\n",
      "Extracted and renamed to s.csv\n",
      "Extracted and renamed to s2.csv\n",
      "Extracted and renamed to s2e.csv\n",
      "Extracted and renamed to s2e2.csv\n",
      "Extracted and renamed to s2w.csv\n",
      "Extracted and renamed to s2w2.csv\n",
      "Extracted and renamed to se.csv\n",
      "Extracted and renamed to se2.csv\n",
      "Extracted and renamed to sw.csv\n",
      "Extracted and renamed to sw2.csv\n",
      "Extracted and renamed to w.csv\n",
      "Extracted and renamed to w2.csv\n"
     ]
    }
   ],
   "source": [
    "import os\n",
    "import zipfile\n",
    "\n",
    "# Processing of downloaded .zip files\n",
    "input_dir = \"brazil\"\n",
    "\n",
    "# Extract each file and rename accordingly to grid\n",
    "for file_name in os.listdir(input_dir):\n",
    "    if file_name.endswith(\".zip\"):\n",
    "        label = os.path.splitext(file_name)[0]  # e.g. 'c' from 'c.zip'\n",
    "        zip_path = os.path.join(input_dir, file_name)\n",
    "        with zipfile.ZipFile(zip_path, 'r') as zip_ref:\n",
    "            # Assume only 1 file inside — extract it\n",
    "            inner_files = zip_ref.namelist()\n",
    "            if len(inner_files) == 1:\n",
    "                inner_file = inner_files[0]\n",
    "                extracted_path = zip_ref.extract(inner_file, path=input_dir)\n",
    "                new_csv_path = os.path.join(input_dir, f\"{label}.csv\")\n",
    "\n",
    "                # Rename the extracted file\n",
    "                os.rename(extracted_path, new_csv_path)\n",
    "                print(f\"Extracted and renamed to {label}.csv\")\n",
    "\n",
    "                # Optionally, delete the zip file\n",
    "                # os.remove(zip_path)\n",
    "            else:\n",
    "                print(f\"[WARNING] More than one file in {file_name}, skipping.\")\n"
   ]
  }
 ],
 "metadata": {
  "kernelspec": {
   "display_name": ".venv-3.12",
   "language": "python",
   "name": "python3"
  },
  "language_info": {
   "codemirror_mode": {
    "name": "ipython",
    "version": 3
   },
   "file_extension": ".py",
   "mimetype": "text/x-python",
   "name": "python",
   "nbconvert_exporter": "python",
   "pygments_lexer": "ipython3",
   "version": "3.12.10"
  }
 },
 "nbformat": 4,
 "nbformat_minor": 5
}
