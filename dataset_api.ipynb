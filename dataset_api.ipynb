{
 "cells": [
  {
   "cell_type": "code",
   "execution_count": 5,
   "id": "a6c7ea55",
   "metadata": {},
   "outputs": [
    {
     "name": "stderr",
     "output_type": "stream",
     "text": [
      "2025-09-25 17:15:17,454 INFO [2025-09-03T00:00:00] To improve our C3S service, we need to hear from you! Please complete this very short [survey](https://confluence.ecmwf.int/x/E7uBEQ/). Thank you.\n",
      "2025-09-25 17:15:17,456 INFO [2024-09-26T00:00:00] Watch our [Forum](https://forum.ecmwf.int/) for Announcements, news and other discussed topics.\n"
     ]
    }
   ],
   "source": [
    "import cdsapi\n",
    "\n",
    "c = cdsapi.Client()\n",
    "\n"
   ]
  },
  {
   "cell_type": "code",
   "execution_count": 22,
   "id": "f9b12f9e",
   "metadata": {},
   "outputs": [
    {
     "name": "stdout",
     "output_type": "stream",
     "text": [
      "N2W2: (-2.5, -60.5)\n",
      "N2W: (-2.5, -60.25)\n",
      "N2: (-2.5, -60.0)\n",
      "N2E: (-2.5, -59.75)\n",
      "N2E2: (-2.5, -59.5)\n",
      "NW2: (-2.75, -60.5)\n",
      "NW: (-2.75, -60.25)\n",
      "N: (-2.75, -60.0)\n",
      "NE: (-2.75, -59.75)\n",
      "NE2: (-2.75, -59.5)\n",
      "W2: (-3.0, -60.5)\n",
      "W: (-3.0, -60.25)\n",
      "C: (-3.0, -60.0)\n",
      "E: (-3.0, -59.75)\n",
      "E2: (-3.0, -59.5)\n",
      "SW2: (-3.25, -60.5)\n",
      "SW: (-3.25, -60.25)\n",
      "S: (-3.25, -60.0)\n",
      "SE: (-3.25, -59.75)\n",
      "SE2: (-3.25, -59.5)\n",
      "S2W2: (-3.5, -60.5)\n",
      "S2W: (-3.5, -60.25)\n",
      "S2: (-3.5, -60.0)\n",
      "S2E: (-3.5, -59.75)\n",
      "S2E2: (-3.5, -59.5)\n"
     ]
    }
   ],
   "source": [
    "from collections import OrderedDict\n",
    "\n",
    "def generate_grid(center_lat, center_lon, step, size):\n",
    "    grid = OrderedDict()\n",
    "    half = size // 2\n",
    "    for i in range(size):\n",
    "        for j in range(size):\n",
    "            lat_offset = half - i\n",
    "            lon_offset = j - half\n",
    "            lat = center_lat + lat_offset * step\n",
    "            lon = center_lon + lon_offset * step\n",
    "            label = ''\n",
    "            if lat_offset > 0:\n",
    "                label += 'N' + (str(lat_offset) if lat_offset > 1 else '')\n",
    "            elif lat_offset < 0:\n",
    "                label += 'S' + (str(abs(lat_offset)) if abs(lat_offset) > 1 else '')\n",
    "            if lon_offset > 0:\n",
    "                label += 'E' + (str(lon_offset) if lon_offset > 1 else '')\n",
    "            elif lon_offset < 0:\n",
    "                label += 'W' + (str(abs(lon_offset)) if abs(lon_offset) > 1 else '')\n",
    "            if label == '':\n",
    "                label = 'C'\n",
    "            grid[label.lower()] = (round(lat, 5), round(lon, 5))\n",
    "    return grid\n",
    "\n",
    "# Example: 3x3 grid around (-3.0, -60.0)\n",
    "grid = generate_grid(center_lat=-3.0, center_lon=-60.0, step=0.25, size=5)\n",
    "\n",
    "# Print to see the grid\n",
    "for label, coords in grid.items():\n",
    "    print(f\"{label.upper()}: {coords}\")\n"
   ]
  },
  {
   "cell_type": "code",
   "execution_count": 23,
   "id": "3c540b8f",
   "metadata": {},
   "outputs": [
    {
     "name": "stderr",
     "output_type": "stream",
     "text": [
      "2025-09-25 18:57:32,404 INFO [2025-09-03T00:00:00] To improve our C3S service, we need to hear from you! Please complete this very short [survey](https://confluence.ecmwf.int/x/E7uBEQ/). Thank you.\n",
      "2025-09-25 18:57:32,405 INFO [2024-09-26T00:00:00] Watch our [Forum](https://forum.ecmwf.int/) for Announcements, news and other discussed topics.\n"
     ]
    },
    {
     "name": "stdout",
     "output_type": "stream",
     "text": [
      "Requesting data for N2W2 at (-2.5, -60.5)\n"
     ]
    },
    {
     "name": "stderr",
     "output_type": "stream",
     "text": [
      "2025-09-25 18:57:32,617 WARNING [2025-03-17T00:00:00] Please be aware that the generation of this dataset is using an alternative source for the ERA5 data and may be subject to changes over time (e.g. file format, data file structure, deprecation etc). This dataset should therefore be regarded as “experimental” and is **not recommended for use in a production environment**. \n",
      "\n",
      "Notification of changes via this catalogue entry banner and/or in the [Forum](https://forum.ecmwf.int/) will be provided on best efforts.\n",
      "2025-09-25 18:57:32,617 INFO Request ID is ee84b3b1-922d-4da1-92c2-6e95458ae4e1\n",
      "2025-09-25 18:57:32,704 INFO status has been updated to accepted\n",
      "2025-09-25 18:58:05,702 INFO status has been updated to successful\n",
      "                                                                                          \r"
     ]
    },
    {
     "name": "stdout",
     "output_type": "stream",
     "text": [
      "Requesting data for N2W at (-2.5, -60.25)\n"
     ]
    },
    {
     "name": "stderr",
     "output_type": "stream",
     "text": [
      "2025-09-25 18:58:06,941 WARNING [2025-03-17T00:00:00] Please be aware that the generation of this dataset is using an alternative source for the ERA5 data and may be subject to changes over time (e.g. file format, data file structure, deprecation etc). This dataset should therefore be regarded as “experimental” and is **not recommended for use in a production environment**. \n",
      "\n",
      "Notification of changes via this catalogue entry banner and/or in the [Forum](https://forum.ecmwf.int/) will be provided on best efforts.\n",
      "2025-09-25 18:58:06,947 INFO Request ID is b888390c-be42-4593-862b-1866f92a978c\n",
      "2025-09-25 18:58:07,054 INFO status has been updated to accepted\n",
      "2025-09-25 18:58:15,942 INFO status has been updated to running\n",
      "2025-09-25 18:58:29,030 INFO status has been updated to successful\n",
      "2025-09-25 18:58:30,278 WARNING [2025-03-17T00:00:00] Please be aware that the generation of this dataset is using an alternative source for the ERA5 data and may be subject to changes over time (e.g. file format, data file structure, deprecation etc). This dataset should therefore be regarded as “experimental” and is **not recommended for use in a production environment**. \n",
      "\n",
      "Notification of changes via this catalogue entry banner and/or in the [Forum](https://forum.ecmwf.int/) will be provided on best efforts.\n"
     ]
    },
    {
     "name": "stdout",
     "output_type": "stream",
     "text": [
      "Requesting data for N2 at (-2.5, -60.0)\n"
     ]
    },
    {
     "name": "stderr",
     "output_type": "stream",
     "text": [
      "2025-09-25 18:58:30,280 INFO Request ID is b7c798d0-9c26-442b-abc8-34b6c0aca55e\n",
      "2025-09-25 18:58:30,355 INFO status has been updated to accepted\n",
      "2025-09-25 18:58:44,040 INFO status has been updated to successful\n",
      "                                                                                          \r"
     ]
    },
    {
     "name": "stdout",
     "output_type": "stream",
     "text": [
      "Requesting data for N2E at (-2.5, -59.75)\n"
     ]
    },
    {
     "name": "stderr",
     "output_type": "stream",
     "text": [
      "2025-09-25 18:58:45,507 WARNING [2025-03-17T00:00:00] Please be aware that the generation of this dataset is using an alternative source for the ERA5 data and may be subject to changes over time (e.g. file format, data file structure, deprecation etc). This dataset should therefore be regarded as “experimental” and is **not recommended for use in a production environment**. \n",
      "\n",
      "Notification of changes via this catalogue entry banner and/or in the [Forum](https://forum.ecmwf.int/) will be provided on best efforts.\n",
      "2025-09-25 18:58:45,513 INFO Request ID is 9ef1a10e-e8d0-4090-8171-00e6c8e1d4cf\n",
      "2025-09-25 18:58:45,591 INFO status has been updated to accepted\n",
      "2025-09-25 18:58:54,136 INFO status has been updated to running\n",
      "2025-09-25 18:59:06,952 INFO status has been updated to successful\n",
      "2025-09-25 18:59:08,101 WARNING [2025-03-17T00:00:00] Please be aware that the generation of this dataset is using an alternative source for the ERA5 data and may be subject to changes over time (e.g. file format, data file structure, deprecation etc). This dataset should therefore be regarded as “experimental” and is **not recommended for use in a production environment**. \n",
      "\n",
      "Notification of changes via this catalogue entry banner and/or in the [Forum](https://forum.ecmwf.int/) will be provided on best efforts.\n"
     ]
    },
    {
     "name": "stdout",
     "output_type": "stream",
     "text": [
      "Requesting data for N2E2 at (-2.5, -59.5)\n"
     ]
    },
    {
     "name": "stderr",
     "output_type": "stream",
     "text": [
      "2025-09-25 18:59:08,105 INFO Request ID is 595e7d3b-d665-415c-abae-c1d5112b0951\n",
      "2025-09-25 18:59:08,175 INFO status has been updated to accepted\n",
      "2025-09-25 18:59:16,904 INFO status has been updated to running\n",
      "2025-09-25 18:59:29,759 INFO status has been updated to successful\n",
      "                                                                                         \r"
     ]
    },
    {
     "name": "stdout",
     "output_type": "stream",
     "text": [
      "Requesting data for NW2 at (-2.75, -60.5)\n"
     ]
    },
    {
     "name": "stderr",
     "output_type": "stream",
     "text": [
      "2025-09-25 18:59:31,263 WARNING [2025-03-17T00:00:00] Please be aware that the generation of this dataset is using an alternative source for the ERA5 data and may be subject to changes over time (e.g. file format, data file structure, deprecation etc). This dataset should therefore be regarded as “experimental” and is **not recommended for use in a production environment**. \n",
      "\n",
      "Notification of changes via this catalogue entry banner and/or in the [Forum](https://forum.ecmwf.int/) will be provided on best efforts.\n",
      "2025-09-25 18:59:31,266 INFO Request ID is 505d6cd5-aff2-47f3-bc0f-46030463274e\n",
      "2025-09-25 18:59:31,351 INFO status has been updated to accepted\n",
      "2025-09-25 18:59:45,059 INFO status has been updated to running\n",
      "2025-09-25 18:59:52,780 INFO status has been updated to successful\n",
      "                                                                                          \r"
     ]
    },
    {
     "name": "stdout",
     "output_type": "stream",
     "text": [
      "Requesting data for NW at (-2.75, -60.25)\n"
     ]
    },
    {
     "name": "stderr",
     "output_type": "stream",
     "text": [
      "2025-09-25 18:59:54,103 WARNING [2025-03-17T00:00:00] Please be aware that the generation of this dataset is using an alternative source for the ERA5 data and may be subject to changes over time (e.g. file format, data file structure, deprecation etc). This dataset should therefore be regarded as “experimental” and is **not recommended for use in a production environment**. \n",
      "\n",
      "Notification of changes via this catalogue entry banner and/or in the [Forum](https://forum.ecmwf.int/) will be provided on best efforts.\n",
      "2025-09-25 18:59:54,111 INFO Request ID is a8743f30-0b28-484a-b9df-ad17344ce780\n",
      "2025-09-25 18:59:54,416 INFO status has been updated to accepted\n",
      "2025-09-25 19:00:08,213 INFO status has been updated to running\n",
      "2025-09-25 19:00:27,373 INFO status has been updated to successful\n",
      "2025-09-25 19:00:28,832 WARNING [2025-03-17T00:00:00] Please be aware that the generation of this dataset is using an alternative source for the ERA5 data and may be subject to changes over time (e.g. file format, data file structure, deprecation etc). This dataset should therefore be regarded as “experimental” and is **not recommended for use in a production environment**. \n",
      "\n",
      "Notification of changes via this catalogue entry banner and/or in the [Forum](https://forum.ecmwf.int/) will be provided on best efforts.\n"
     ]
    },
    {
     "name": "stdout",
     "output_type": "stream",
     "text": [
      "Requesting data for N at (-2.75, -60.0)\n"
     ]
    },
    {
     "name": "stderr",
     "output_type": "stream",
     "text": [
      "2025-09-25 19:00:28,849 INFO Request ID is 996a3be5-d6ea-444a-931c-014720a1331e\n",
      "2025-09-25 19:00:28,983 INFO status has been updated to accepted\n",
      "2025-09-25 19:00:42,590 INFO status has been updated to running\n",
      "2025-09-25 19:00:50,276 INFO status has been updated to successful\n",
      "                                                                                         \r"
     ]
    },
    {
     "name": "stdout",
     "output_type": "stream",
     "text": [
      "Requesting data for NE at (-2.75, -59.75)\n"
     ]
    },
    {
     "name": "stderr",
     "output_type": "stream",
     "text": [
      "2025-09-25 19:00:51,913 WARNING [2025-03-17T00:00:00] Please be aware that the generation of this dataset is using an alternative source for the ERA5 data and may be subject to changes over time (e.g. file format, data file structure, deprecation etc). This dataset should therefore be regarded as “experimental” and is **not recommended for use in a production environment**. \n",
      "\n",
      "Notification of changes via this catalogue entry banner and/or in the [Forum](https://forum.ecmwf.int/) will be provided on best efforts.\n",
      "2025-09-25 19:00:51,923 INFO Request ID is ad4323e5-c6b2-4bde-b42a-0af260e60c5b\n",
      "2025-09-25 19:00:52,003 INFO status has been updated to accepted\n",
      "2025-09-25 19:01:05,606 INFO status has been updated to running\n",
      "2025-09-25 19:01:13,272 INFO status has been updated to successful\n",
      "                                                                                          \r"
     ]
    },
    {
     "name": "stdout",
     "output_type": "stream",
     "text": [
      "Requesting data for NE2 at (-2.75, -59.5)\n"
     ]
    },
    {
     "name": "stderr",
     "output_type": "stream",
     "text": [
      "2025-09-25 19:01:14,941 WARNING [2025-03-17T00:00:00] Please be aware that the generation of this dataset is using an alternative source for the ERA5 data and may be subject to changes over time (e.g. file format, data file structure, deprecation etc). This dataset should therefore be regarded as “experimental” and is **not recommended for use in a production environment**. \n",
      "\n",
      "Notification of changes via this catalogue entry banner and/or in the [Forum](https://forum.ecmwf.int/) will be provided on best efforts.\n",
      "2025-09-25 19:01:14,954 INFO Request ID is 1469bf86-c848-4576-aa2a-54f27ac85da6\n",
      "2025-09-25 19:01:15,128 INFO status has been updated to accepted\n",
      "2025-09-25 19:01:23,581 INFO status has been updated to running\n",
      "2025-09-25 19:01:36,396 INFO status has been updated to successful\n",
      "2025-09-25 19:01:37,783 WARNING [2025-03-17T00:00:00] Please be aware that the generation of this dataset is using an alternative source for the ERA5 data and may be subject to changes over time (e.g. file format, data file structure, deprecation etc). This dataset should therefore be regarded as “experimental” and is **not recommended for use in a production environment**. \n",
      "\n",
      "Notification of changes via this catalogue entry banner and/or in the [Forum](https://forum.ecmwf.int/) will be provided on best efforts.\n"
     ]
    },
    {
     "name": "stdout",
     "output_type": "stream",
     "text": [
      "Requesting data for W2 at (-3.0, -60.5)\n"
     ]
    },
    {
     "name": "stderr",
     "output_type": "stream",
     "text": [
      "2025-09-25 19:01:37,794 INFO Request ID is b7f2b900-0066-4d18-b897-5b0149c9b71d\n",
      "2025-09-25 19:01:37,881 INFO status has been updated to accepted\n",
      "2025-09-25 19:01:51,582 INFO status has been updated to running\n",
      "2025-09-25 19:02:10,787 INFO status has been updated to successful\n",
      "                                                                                          \r"
     ]
    },
    {
     "name": "stdout",
     "output_type": "stream",
     "text": [
      "Requesting data for W at (-3.0, -60.25)\n"
     ]
    },
    {
     "name": "stderr",
     "output_type": "stream",
     "text": [
      "2025-09-25 19:02:12,161 WARNING [2025-03-17T00:00:00] Please be aware that the generation of this dataset is using an alternative source for the ERA5 data and may be subject to changes over time (e.g. file format, data file structure, deprecation etc). This dataset should therefore be regarded as “experimental” and is **not recommended for use in a production environment**. \n",
      "\n",
      "Notification of changes via this catalogue entry banner and/or in the [Forum](https://forum.ecmwf.int/) will be provided on best efforts.\n",
      "2025-09-25 19:02:12,172 INFO Request ID is a1ad2b77-6caa-4363-b5ee-91e3af958bff\n",
      "2025-09-25 19:02:12,413 INFO status has been updated to accepted\n",
      "2025-09-25 19:02:26,428 INFO status has been updated to running\n",
      "2025-09-25 19:02:34,114 INFO status has been updated to successful\n",
      "                                                                                          \r"
     ]
    },
    {
     "name": "stdout",
     "output_type": "stream",
     "text": [
      "Requesting data for C at (-3.0, -60.0)\n"
     ]
    },
    {
     "name": "stderr",
     "output_type": "stream",
     "text": [
      "2025-09-25 19:02:35,295 WARNING [2025-03-17T00:00:00] Please be aware that the generation of this dataset is using an alternative source for the ERA5 data and may be subject to changes over time (e.g. file format, data file structure, deprecation etc). This dataset should therefore be regarded as “experimental” and is **not recommended for use in a production environment**. \n",
      "\n",
      "Notification of changes via this catalogue entry banner and/or in the [Forum](https://forum.ecmwf.int/) will be provided on best efforts.\n",
      "2025-09-25 19:02:35,303 INFO Request ID is 6ef2d13b-2339-4cd7-b72b-663bd5805154\n",
      "2025-09-25 19:02:35,396 INFO status has been updated to accepted\n",
      "2025-09-25 19:02:49,019 INFO status has been updated to running\n",
      "2025-09-25 19:03:08,151 INFO status has been updated to successful\n",
      "                                                                                         \r"
     ]
    },
    {
     "name": "stdout",
     "output_type": "stream",
     "text": [
      "Requesting data for E at (-3.0, -59.75)\n"
     ]
    },
    {
     "name": "stderr",
     "output_type": "stream",
     "text": [
      "2025-09-25 19:03:09,328 WARNING [2025-03-17T00:00:00] Please be aware that the generation of this dataset is using an alternative source for the ERA5 data and may be subject to changes over time (e.g. file format, data file structure, deprecation etc). This dataset should therefore be regarded as “experimental” and is **not recommended for use in a production environment**. \n",
      "\n",
      "Notification of changes via this catalogue entry banner and/or in the [Forum](https://forum.ecmwf.int/) will be provided on best efforts.\n",
      "2025-09-25 19:03:09,339 INFO Request ID is 53877686-d9e8-45c6-9542-638e4bd9c641\n",
      "2025-09-25 19:03:09,639 INFO status has been updated to accepted\n",
      "2025-09-25 19:03:31,182 INFO status has been updated to running\n",
      "2025-09-25 19:03:42,721 INFO status has been updated to successful\n",
      "                                                                                          \r"
     ]
    },
    {
     "name": "stdout",
     "output_type": "stream",
     "text": [
      "Requesting data for E2 at (-3.0, -59.5)\n"
     ]
    },
    {
     "name": "stderr",
     "output_type": "stream",
     "text": [
      "2025-09-25 19:03:44,009 WARNING [2025-03-17T00:00:00] Please be aware that the generation of this dataset is using an alternative source for the ERA5 data and may be subject to changes over time (e.g. file format, data file structure, deprecation etc). This dataset should therefore be regarded as “experimental” and is **not recommended for use in a production environment**. \n",
      "\n",
      "Notification of changes via this catalogue entry banner and/or in the [Forum](https://forum.ecmwf.int/) will be provided on best efforts.\n",
      "2025-09-25 19:03:44,011 INFO Request ID is d0dafb35-d2ef-4ff4-9711-251aa8229fbd\n",
      "2025-09-25 19:03:44,083 INFO status has been updated to accepted\n",
      "2025-09-25 19:03:57,864 INFO status has been updated to running\n",
      "2025-09-25 19:04:05,565 INFO status has been updated to successful\n",
      "                                                                                          \r"
     ]
    },
    {
     "name": "stdout",
     "output_type": "stream",
     "text": [
      "Requesting data for SW2 at (-3.25, -60.5)\n"
     ]
    },
    {
     "name": "stderr",
     "output_type": "stream",
     "text": [
      "2025-09-25 19:04:06,596 WARNING [2025-03-17T00:00:00] Please be aware that the generation of this dataset is using an alternative source for the ERA5 data and may be subject to changes over time (e.g. file format, data file structure, deprecation etc). This dataset should therefore be regarded as “experimental” and is **not recommended for use in a production environment**. \n",
      "\n",
      "Notification of changes via this catalogue entry banner and/or in the [Forum](https://forum.ecmwf.int/) will be provided on best efforts.\n",
      "2025-09-25 19:04:06,603 INFO Request ID is abe52738-9cc5-4e16-9e46-0b1dc41f2903\n",
      "2025-09-25 19:04:06,688 INFO status has been updated to accepted\n",
      "2025-09-25 19:04:20,311 INFO status has been updated to running\n",
      "2025-09-25 19:04:39,468 INFO status has been updated to successful\n",
      "2025-09-25 19:04:40,556 WARNING [2025-03-17T00:00:00] Please be aware that the generation of this dataset is using an alternative source for the ERA5 data and may be subject to changes over time (e.g. file format, data file structure, deprecation etc). This dataset should therefore be regarded as “experimental” and is **not recommended for use in a production environment**. \n",
      "\n",
      "Notification of changes via this catalogue entry banner and/or in the [Forum](https://forum.ecmwf.int/) will be provided on best efforts.\n"
     ]
    },
    {
     "name": "stdout",
     "output_type": "stream",
     "text": [
      "Requesting data for SW at (-3.25, -60.25)\n"
     ]
    },
    {
     "name": "stderr",
     "output_type": "stream",
     "text": [
      "2025-09-25 19:04:40,559 INFO Request ID is 1b96aee0-4030-4fa8-be86-ee085923adcb\n",
      "2025-09-25 19:04:40,630 INFO status has been updated to accepted\n",
      "2025-09-25 19:05:13,815 INFO status has been updated to successful\n",
      "                                                                                          \r"
     ]
    },
    {
     "name": "stdout",
     "output_type": "stream",
     "text": [
      "Requesting data for S at (-3.25, -60.0)\n"
     ]
    },
    {
     "name": "stderr",
     "output_type": "stream",
     "text": [
      "2025-09-25 19:05:14,939 WARNING [2025-03-17T00:00:00] Please be aware that the generation of this dataset is using an alternative source for the ERA5 data and may be subject to changes over time (e.g. file format, data file structure, deprecation etc). This dataset should therefore be regarded as “experimental” and is **not recommended for use in a production environment**. \n",
      "\n",
      "Notification of changes via this catalogue entry banner and/or in the [Forum](https://forum.ecmwf.int/) will be provided on best efforts.\n",
      "2025-09-25 19:05:14,941 INFO Request ID is f6cc7af1-fc3a-4854-8624-d70cfd24597c\n",
      "2025-09-25 19:05:15,025 INFO status has been updated to accepted\n",
      "2025-09-25 19:05:36,370 INFO status has been updated to running\n",
      "2025-09-25 19:05:48,019 INFO status has been updated to successful\n",
      "                                                                                          \r"
     ]
    },
    {
     "name": "stdout",
     "output_type": "stream",
     "text": [
      "Requesting data for SE at (-3.25, -59.75)\n"
     ]
    },
    {
     "name": "stderr",
     "output_type": "stream",
     "text": [
      "2025-09-25 19:05:49,428 WARNING [2025-03-17T00:00:00] Please be aware that the generation of this dataset is using an alternative source for the ERA5 data and may be subject to changes over time (e.g. file format, data file structure, deprecation etc). This dataset should therefore be regarded as “experimental” and is **not recommended for use in a production environment**. \n",
      "\n",
      "Notification of changes via this catalogue entry banner and/or in the [Forum](https://forum.ecmwf.int/) will be provided on best efforts.\n",
      "2025-09-25 19:05:49,432 INFO Request ID is 95b516e7-582a-41ae-b2f3-eefd1833b882\n",
      "2025-09-25 19:05:49,555 INFO status has been updated to accepted\n",
      "2025-09-25 19:05:58,037 INFO status has been updated to running\n",
      "2025-09-25 19:06:10,827 INFO status has been updated to successful\n",
      "                                                                                          \r"
     ]
    },
    {
     "name": "stdout",
     "output_type": "stream",
     "text": [
      "Requesting data for SE2 at (-3.25, -59.5)\n"
     ]
    },
    {
     "name": "stderr",
     "output_type": "stream",
     "text": [
      "2025-09-25 19:06:12,014 WARNING [2025-03-17T00:00:00] Please be aware that the generation of this dataset is using an alternative source for the ERA5 data and may be subject to changes over time (e.g. file format, data file structure, deprecation etc). This dataset should therefore be regarded as “experimental” and is **not recommended for use in a production environment**. \n",
      "\n",
      "Notification of changes via this catalogue entry banner and/or in the [Forum](https://forum.ecmwf.int/) will be provided on best efforts.\n",
      "2025-09-25 19:06:12,024 INFO Request ID is 60e43a45-ab15-463e-a8dc-7d115c9dbb92\n",
      "2025-09-25 19:06:12,124 INFO status has been updated to accepted\n",
      "2025-09-25 19:06:20,590 INFO status has been updated to running\n",
      "2025-09-25 19:06:25,732 INFO status has been updated to successful\n",
      "                                                                                          \r"
     ]
    },
    {
     "name": "stdout",
     "output_type": "stream",
     "text": [
      "Requesting data for S2W2 at (-3.5, -60.5)\n"
     ]
    },
    {
     "name": "stderr",
     "output_type": "stream",
     "text": [
      "2025-09-25 19:06:26,972 WARNING [2025-03-17T00:00:00] Please be aware that the generation of this dataset is using an alternative source for the ERA5 data and may be subject to changes over time (e.g. file format, data file structure, deprecation etc). This dataset should therefore be regarded as “experimental” and is **not recommended for use in a production environment**. \n",
      "\n",
      "Notification of changes via this catalogue entry banner and/or in the [Forum](https://forum.ecmwf.int/) will be provided on best efforts.\n",
      "2025-09-25 19:06:26,974 INFO Request ID is 455a3168-5f62-4920-b1ce-e932caaea57a\n",
      "2025-09-25 19:06:27,059 INFO status has been updated to accepted\n",
      "2025-09-25 19:06:40,789 INFO status has been updated to running\n",
      "2025-09-25 19:06:48,459 INFO status has been updated to successful\n",
      "2025-09-25 19:06:49,536 WARNING [2025-03-17T00:00:00] Please be aware that the generation of this dataset is using an alternative source for the ERA5 data and may be subject to changes over time (e.g. file format, data file structure, deprecation etc). This dataset should therefore be regarded as “experimental” and is **not recommended for use in a production environment**. \n",
      "\n",
      "Notification of changes via this catalogue entry banner and/or in the [Forum](https://forum.ecmwf.int/) will be provided on best efforts.\n"
     ]
    },
    {
     "name": "stdout",
     "output_type": "stream",
     "text": [
      "Requesting data for S2W at (-3.5, -60.25)\n"
     ]
    },
    {
     "name": "stderr",
     "output_type": "stream",
     "text": [
      "2025-09-25 19:06:49,537 INFO Request ID is 245bd2b2-a86c-4304-8890-0dd60f69b5d2\n",
      "2025-09-25 19:06:49,640 INFO status has been updated to accepted\n",
      "2025-09-25 19:06:58,139 INFO status has been updated to running\n",
      "2025-09-25 19:07:22,463 INFO status has been updated to successful\n",
      "                                                                                          \r"
     ]
    },
    {
     "name": "stdout",
     "output_type": "stream",
     "text": [
      "Requesting data for S2 at (-3.5, -60.0)\n"
     ]
    },
    {
     "name": "stderr",
     "output_type": "stream",
     "text": [
      "2025-09-25 19:07:24,165 WARNING [2025-03-17T00:00:00] Please be aware that the generation of this dataset is using an alternative source for the ERA5 data and may be subject to changes over time (e.g. file format, data file structure, deprecation etc). This dataset should therefore be regarded as “experimental” and is **not recommended for use in a production environment**. \n",
      "\n",
      "Notification of changes via this catalogue entry banner and/or in the [Forum](https://forum.ecmwf.int/) will be provided on best efforts.\n",
      "2025-09-25 19:07:24,170 INFO Request ID is 519f7813-b2df-4820-8699-77f1638b8d9c\n",
      "2025-09-25 19:07:24,249 INFO status has been updated to accepted\n",
      "2025-09-25 19:07:37,865 INFO status has been updated to running\n",
      "2025-09-25 19:07:45,733 INFO status has been updated to successful\n",
      "                                                                                          \r"
     ]
    },
    {
     "name": "stdout",
     "output_type": "stream",
     "text": [
      "Requesting data for S2E at (-3.5, -59.75)\n"
     ]
    },
    {
     "name": "stderr",
     "output_type": "stream",
     "text": [
      "2025-09-25 19:07:47,001 WARNING [2025-03-17T00:00:00] Please be aware that the generation of this dataset is using an alternative source for the ERA5 data and may be subject to changes over time (e.g. file format, data file structure, deprecation etc). This dataset should therefore be regarded as “experimental” and is **not recommended for use in a production environment**. \n",
      "\n",
      "Notification of changes via this catalogue entry banner and/or in the [Forum](https://forum.ecmwf.int/) will be provided on best efforts.\n",
      "2025-09-25 19:07:47,009 INFO Request ID is e239875f-c38f-4ac7-817c-97c9b1e3c77b\n",
      "2025-09-25 19:07:47,087 INFO status has been updated to accepted\n",
      "2025-09-25 19:08:00,899 INFO status has been updated to running\n",
      "2025-09-25 19:08:08,571 INFO status has been updated to accepted\n",
      "2025-09-25 19:08:20,028 INFO status has been updated to successful\n",
      "2025-09-25 19:08:21,235 WARNING [2025-03-17T00:00:00] Please be aware that the generation of this dataset is using an alternative source for the ERA5 data and may be subject to changes over time (e.g. file format, data file structure, deprecation etc). This dataset should therefore be regarded as “experimental” and is **not recommended for use in a production environment**. \n",
      "\n",
      "Notification of changes via this catalogue entry banner and/or in the [Forum](https://forum.ecmwf.int/) will be provided on best efforts.\n"
     ]
    },
    {
     "name": "stdout",
     "output_type": "stream",
     "text": [
      "Requesting data for S2E2 at (-3.5, -59.5)\n"
     ]
    },
    {
     "name": "stderr",
     "output_type": "stream",
     "text": [
      "2025-09-25 19:08:21,236 INFO Request ID is 71c70c01-afe2-4dfd-97a2-fd31ea204f13\n",
      "2025-09-25 19:08:21,299 INFO status has been updated to accepted\n",
      "2025-09-25 19:08:29,760 INFO status has been updated to running\n",
      "2025-09-25 19:08:42,577 INFO status has been updated to successful\n",
      "                                                                                          \r"
     ]
    }
   ],
   "source": [
    "import cdsapi\n",
    "import os\n",
    "\n",
    "client = cdsapi.Client()\n",
    "output_dir = \"brazil\"\n",
    "os.makedirs(output_dir, exist_ok=True)\n",
    "\n",
    "for label, (lat, lon) in grid.items():\n",
    "    request = {\n",
    "        \"variable\": [\n",
    "            \"2m_dewpoint_temperature\",\n",
    "            \"surface_pressure\",\n",
    "            \"2m_temperature\",\n",
    "            \"total_precipitation\",\n",
    "            \"10m_u_component_of_wind\",\n",
    "            \"10m_v_component_of_wind\"\n",
    "        ],\n",
    "        \"location\": {\"longitude\": lon, \"latitude\": lat},\n",
    "        \"date\": [\"2018-01-01/2025-01-01\"],\n",
    "        \"data_format\": \"csv\"\n",
    "    }\n",
    "\n",
    "    zip_path = os.path.join(output_dir, f\"{label}.zip\")\n",
    "    print(f\"Requesting data for {label.upper()} at ({lat}, {lon})\")\n",
    "    client.retrieve(\"reanalysis-era5-single-levels-timeseries\", request).download(zip_path)\n"
   ]
  },
  {
   "cell_type": "code",
   "execution_count": 24,
   "id": "30061275",
   "metadata": {},
   "outputs": [
    {
     "name": "stdout",
     "output_type": "stream",
     "text": [
      "Extracted and renamed to c.csv\n",
      "Extracted and renamed to e.csv\n",
      "Extracted and renamed to e2.csv\n",
      "Extracted and renamed to n.csv\n",
      "Extracted and renamed to n2.csv\n",
      "Extracted and renamed to n2e.csv\n",
      "Extracted and renamed to n2e2.csv\n",
      "Extracted and renamed to n2w.csv\n",
      "Extracted and renamed to n2w2.csv\n",
      "Extracted and renamed to ne.csv\n",
      "Extracted and renamed to ne2.csv\n",
      "Extracted and renamed to nw.csv\n",
      "Extracted and renamed to nw2.csv\n",
      "Extracted and renamed to s.csv\n",
      "Extracted and renamed to s2.csv\n",
      "Extracted and renamed to s2e.csv\n",
      "Extracted and renamed to s2e2.csv\n",
      "Extracted and renamed to s2w.csv\n",
      "Extracted and renamed to s2w2.csv\n",
      "Extracted and renamed to se.csv\n",
      "Extracted and renamed to se2.csv\n",
      "Extracted and renamed to sw.csv\n",
      "Extracted and renamed to sw2.csv\n",
      "Extracted and renamed to w.csv\n",
      "Extracted and renamed to w2.csv\n"
     ]
    }
   ],
   "source": [
    "import os\n",
    "import zipfile\n",
    "\n",
    "input_dir = \"brazil\"\n",
    "\n",
    "for file_name in os.listdir(input_dir):\n",
    "    if file_name.endswith(\".zip\"):\n",
    "        label = os.path.splitext(file_name)[0]  # e.g. 'c' from 'c.zip'\n",
    "        zip_path = os.path.join(input_dir, file_name)\n",
    "        with zipfile.ZipFile(zip_path, 'r') as zip_ref:\n",
    "            # Assume only 1 file inside — extract it\n",
    "            inner_files = zip_ref.namelist()\n",
    "            if len(inner_files) == 1:\n",
    "                inner_file = inner_files[0]\n",
    "                extracted_path = zip_ref.extract(inner_file, path=input_dir)\n",
    "                new_csv_path = os.path.join(input_dir, f\"{label}.csv\")\n",
    "\n",
    "                # Rename the extracted file\n",
    "                os.rename(extracted_path, new_csv_path)\n",
    "                print(f\"Extracted and renamed to {label}.csv\")\n",
    "\n",
    "                # Optionally, delete the zip file\n",
    "                # os.remove(zip_path)\n",
    "            else:\n",
    "                print(f\"[WARNING] More than one file in {file_name}, skipping.\")\n"
   ]
  },
  {
   "cell_type": "code",
   "execution_count": 20,
   "id": "03ec2fac",
   "metadata": {},
   "outputs": [
    {
     "name": "stderr",
     "output_type": "stream",
     "text": [
      "2025-09-25 18:51:53,152 INFO [2025-09-03T00:00:00] To improve our C3S service, we need to hear from you! Please complete this very short [survey](https://confluence.ecmwf.int/x/E7uBEQ/). Thank you.\n",
      "2025-09-25 18:51:53,153 INFO [2024-09-26T00:00:00] Watch our [Forum](https://forum.ecmwf.int/) for Announcements, news and other discussed topics.\n",
      "2025-09-25 18:51:53,637 WARNING [2025-03-17T00:00:00] Please be aware that the generation of this dataset is using an alternative source for the ERA5 data and may be subject to changes over time (e.g. file format, data file structure, deprecation etc). This dataset should therefore be regarded as “experimental” and is **not recommended for use in a production environment**. \n",
      "\n",
      "Notification of changes via this catalogue entry banner and/or in the [Forum](https://forum.ecmwf.int/) will be provided on best efforts.\n",
      "2025-09-25 18:51:53,639 INFO Request ID is 798898e0-9b80-4dcf-86f4-a5152ee1812c\n",
      "2025-09-25 18:51:53,787 INFO status has been updated to accepted\n",
      "2025-09-25 18:52:15,116 INFO status has been updated to running\n",
      "2025-09-25 18:52:26,575 INFO status has been updated to successful\n",
      "                                                                                          \r"
     ]
    },
    {
     "data": {
      "text/plain": [
       "'623d9e1d928f54c0e4988f992c79a9cb.zip'"
      ]
     },
     "execution_count": 20,
     "metadata": {},
     "output_type": "execute_result"
    }
   ],
   "source": [
    "import cdsapi\n",
    "\n",
    "dataset = \"reanalysis-era5-single-levels-timeseries\"\n",
    "request = {\n",
    "    \"variable\": [\n",
    "        \"2m_dewpoint_temperature\",\n",
    "        \"surface_pressure\",\n",
    "        \"2m_temperature\",\n",
    "        \"total_precipitation\",\n",
    "        \"10m_u_component_of_wind\",\n",
    "        \"10m_v_component_of_wind\"\n",
    "    ],\n",
    "    \"location\": {\"longitude\": -60, \"latitude\": -3},\n",
    "    \"date\": [\"2018-01-01/2025-01-01\"],\n",
    "    \"data_format\": \"csv\"\n",
    "}\n",
    "\n",
    "client = cdsapi.Client()\n",
    "client.retrieve(dataset, request).download()\n",
    "\n",
    "\n"
   ]
  },
  {
   "cell_type": "code",
   "execution_count": 14,
   "id": "6fd28bca",
   "metadata": {},
   "outputs": [
    {
     "name": "stderr",
     "output_type": "stream",
     "text": [
      "2025-09-25 18:38:12,033 INFO [2025-09-03T00:00:00] To improve our C3S service, we need to hear from you! Please complete this very short [survey](https://confluence.ecmwf.int/x/E7uBEQ/). Thank you.\n",
      "2025-09-25 18:38:12,034 INFO [2024-09-26T00:00:00] Watch our [Forum](https://forum.ecmwf.int/) for Announcements, news and other discussed topics.\n",
      "2025-09-25 18:38:12,219 WARNING [2025-03-17T00:00:00] Please be aware that the generation of this dataset is using an alternative source for the ERA5 data and may be subject to changes over time (e.g. file format, data file structure, deprecation etc). This dataset should therefore be regarded as “experimental” and is **not recommended for use in a production environment**. \n",
      "\n",
      "Notification of changes via this catalogue entry banner and/or in the [Forum](https://forum.ecmwf.int/) will be provided on best efforts.\n",
      "2025-09-25 18:38:12,220 INFO Request ID is 7a86ffd3-e9ec-41a4-8f6d-0cc2649b105b\n"
     ]
    },
    {
     "name": "stdout",
     "output_type": "stream",
     "text": [
      "\n",
      "=== POINT: NW (lat=-2.75, lon=-60.25) ===\n",
      "  Trying full year 2018 for nw\n"
     ]
    },
    {
     "name": "stderr",
     "output_type": "stream",
     "text": [
      "2025-09-25 18:38:12,570 INFO status has been updated to accepted\n",
      "2025-09-25 18:38:26,220 INFO status has been updated to running\n",
      "2025-09-25 18:38:45,360 INFO status has been updated to failed\n",
      "Traceback (most recent call last):\n",
      "  File \"C:\\Users\\justa\\AppData\\Local\\Temp\\ipykernel_20096\\2743652449.py\", line 49, in safe_retrieve_csv\n",
      "    c.retrieve(\n",
      "  File \"c:\\Users\\justa\\ML\\Weather\\.venv-3.12\\Lib\\site-packages\\ecmwf\\datastores\\legacy_client.py\", line 167, in retrieve\n",
      "    submitted = self.client.submit_and_wait_on_results(\n",
      "                ^^^^^^^^^^^^^^^^^^^^^^^^^^^^^^^^^^^^^^^\n",
      "  File \"c:\\Users\\justa\\ML\\Weather\\.venv-3.12\\Lib\\site-packages\\ecmwf\\datastores\\client.py\", line 414, in submit_and_wait_on_results\n",
      "    return self._retrieve_api.submit(collection_id, request).get_results()\n",
      "           ^^^^^^^^^^^^^^^^^^^^^^^^^^^^^^^^^^^^^^^^^^^^^^^^^^^^^^^^^^^^^^^\n",
      "  File \"c:\\Users\\justa\\ML\\Weather\\.venv-3.12\\Lib\\site-packages\\ecmwf\\datastores\\processing.py\", line 495, in get_results\n",
      "    return self._make_results(wait=True)\n",
      "           ^^^^^^^^^^^^^^^^^^^^^^^^^^^^^\n",
      "  File \"c:\\Users\\justa\\ML\\Weather\\.venv-3.12\\Lib\\site-packages\\ecmwf\\datastores\\processing.py\", line 479, in _make_results\n",
      "    self._wait_on_results()\n",
      "  File \"c:\\Users\\justa\\ML\\Weather\\.venv-3.12\\Lib\\site-packages\\ecmwf\\datastores\\processing.py\", line 457, in _wait_on_results\n",
      "    while not self.results_ready:\n",
      "              ^^^^^^^^^^^^^^^^^^\n",
      "  File \"c:\\Users\\justa\\ML\\Weather\\.venv-3.12\\Lib\\site-packages\\ecmwf\\datastores\\processing.py\", line 471, in results_ready\n",
      "    results = self._make_results(wait=False)\n",
      "              ^^^^^^^^^^^^^^^^^^^^^^^^^^^^^^\n",
      "  File \"c:\\Users\\justa\\ML\\Weather\\.venv-3.12\\Lib\\site-packages\\ecmwf\\datastores\\processing.py\", line 485, in _make_results\n",
      "    results = Results.from_request(\"get\", results_url, **self._request_kwargs)\n",
      "              ^^^^^^^^^^^^^^^^^^^^^^^^^^^^^^^^^^^^^^^^^^^^^^^^^^^^^^^^^^^^^^^^\n",
      "  File \"c:\\Users\\justa\\ML\\Weather\\.venv-3.12\\Lib\\site-packages\\ecmwf\\datastores\\processing.py\", line 176, in from_request\n",
      "    cads_raise_for_status(response)\n",
      "  File \"c:\\Users\\justa\\ML\\Weather\\.venv-3.12\\Lib\\site-packages\\ecmwf\\datastores\\processing.py\", line 99, in cads_raise_for_status\n",
      "    raise requests.HTTPError(message, response=response)\n",
      "requests.exceptions.HTTPError: 400 Client Error: Bad Request for url: https://cds.climate.copernicus.eu/api/retrieve/v1/jobs/7a86ffd3-e9ec-41a4-8f6d-0cc2649b105b/results\n",
      "The job has failed\n",
      "The job failed with: MultiAdaptorNoDataError\n"
     ]
    },
    {
     "name": "stdout",
     "output_type": "stream",
     "text": [
      "  Attempt 1 failed for nw year=2018, months=[1, 2, 3, 4, 5, 6, 7, 8, 9, 10, 11, 12], days=[1, 2, 3, 4, 5, 6, 7, 8, 9, 10, 11, 12, 13, 14, 15, 16, 17, 18, 19, 20, 21, 22, 23, 24, 25, 26, 27, 28, 29, 30, 31]: 400 Client Error: Bad Request for url: https://cds.climate.copernicus.eu/api/retrieve/v1/jobs/7a86ffd3-e9ec-41a4-8f6d-0cc2649b105b/results\n",
      "The job has failed\n",
      "The job failed with: MultiAdaptorNoDataError\n",
      "  Waiting 10s then retrying...\n"
     ]
    },
    {
     "name": "stderr",
     "output_type": "stream",
     "text": [
      "2025-09-25 18:38:55,824 WARNING [2025-03-17T00:00:00] Please be aware that the generation of this dataset is using an alternative source for the ERA5 data and may be subject to changes over time (e.g. file format, data file structure, deprecation etc). This dataset should therefore be regarded as “experimental” and is **not recommended for use in a production environment**. \n",
      "\n",
      "Notification of changes via this catalogue entry banner and/or in the [Forum](https://forum.ecmwf.int/) will be provided on best efforts.\n",
      "2025-09-25 18:38:55,825 INFO Request ID is 0be26a2a-4795-4350-af61-0932af7bb9ef\n",
      "2025-09-25 18:38:55,916 INFO status has been updated to accepted\n",
      "2025-09-25 18:39:09,757 INFO status has been updated to failed\n",
      "Traceback (most recent call last):\n",
      "  File \"C:\\Users\\justa\\AppData\\Local\\Temp\\ipykernel_20096\\2743652449.py\", line 49, in safe_retrieve_csv\n",
      "    c.retrieve(\n",
      "  File \"c:\\Users\\justa\\ML\\Weather\\.venv-3.12\\Lib\\site-packages\\ecmwf\\datastores\\legacy_client.py\", line 167, in retrieve\n",
      "    submitted = self.client.submit_and_wait_on_results(\n",
      "                ^^^^^^^^^^^^^^^^^^^^^^^^^^^^^^^^^^^^^^^\n",
      "  File \"c:\\Users\\justa\\ML\\Weather\\.venv-3.12\\Lib\\site-packages\\ecmwf\\datastores\\client.py\", line 414, in submit_and_wait_on_results\n",
      "    return self._retrieve_api.submit(collection_id, request).get_results()\n",
      "           ^^^^^^^^^^^^^^^^^^^^^^^^^^^^^^^^^^^^^^^^^^^^^^^^^^^^^^^^^^^^^^^\n",
      "  File \"c:\\Users\\justa\\ML\\Weather\\.venv-3.12\\Lib\\site-packages\\ecmwf\\datastores\\processing.py\", line 495, in get_results\n",
      "    return self._make_results(wait=True)\n",
      "           ^^^^^^^^^^^^^^^^^^^^^^^^^^^^^\n",
      "  File \"c:\\Users\\justa\\ML\\Weather\\.venv-3.12\\Lib\\site-packages\\ecmwf\\datastores\\processing.py\", line 479, in _make_results\n",
      "    self._wait_on_results()\n",
      "  File \"c:\\Users\\justa\\ML\\Weather\\.venv-3.12\\Lib\\site-packages\\ecmwf\\datastores\\processing.py\", line 457, in _wait_on_results\n",
      "    while not self.results_ready:\n",
      "              ^^^^^^^^^^^^^^^^^^\n",
      "  File \"c:\\Users\\justa\\ML\\Weather\\.venv-3.12\\Lib\\site-packages\\ecmwf\\datastores\\processing.py\", line 471, in results_ready\n",
      "    results = self._make_results(wait=False)\n",
      "              ^^^^^^^^^^^^^^^^^^^^^^^^^^^^^^\n",
      "  File \"c:\\Users\\justa\\ML\\Weather\\.venv-3.12\\Lib\\site-packages\\ecmwf\\datastores\\processing.py\", line 485, in _make_results\n",
      "    results = Results.from_request(\"get\", results_url, **self._request_kwargs)\n",
      "              ^^^^^^^^^^^^^^^^^^^^^^^^^^^^^^^^^^^^^^^^^^^^^^^^^^^^^^^^^^^^^^^^\n",
      "  File \"c:\\Users\\justa\\ML\\Weather\\.venv-3.12\\Lib\\site-packages\\ecmwf\\datastores\\processing.py\", line 176, in from_request\n",
      "    cads_raise_for_status(response)\n",
      "  File \"c:\\Users\\justa\\ML\\Weather\\.venv-3.12\\Lib\\site-packages\\ecmwf\\datastores\\processing.py\", line 99, in cads_raise_for_status\n",
      "    raise requests.HTTPError(message, response=response)\n",
      "requests.exceptions.HTTPError: 400 Client Error: Bad Request for url: https://cds.climate.copernicus.eu/api/retrieve/v1/jobs/0be26a2a-4795-4350-af61-0932af7bb9ef/results\n",
      "The job has failed\n",
      "The job failed with: MultiAdaptorNoDataError\n",
      "2025-09-25 18:39:10,055 WARNING [2025-03-17T00:00:00] Please be aware that the generation of this dataset is using an alternative source for the ERA5 data and may be subject to changes over time (e.g. file format, data file structure, deprecation etc). This dataset should therefore be regarded as “experimental” and is **not recommended for use in a production environment**. \n",
      "\n",
      "Notification of changes via this catalogue entry banner and/or in the [Forum](https://forum.ecmwf.int/) will be provided on best efforts.\n",
      "2025-09-25 18:39:10,056 INFO Request ID is 4ee7496e-2329-40ae-9396-1018a2502daf\n"
     ]
    },
    {
     "name": "stdout",
     "output_type": "stream",
     "text": [
      "  Attempt 2 failed for nw year=2018, months=[1, 2, 3, 4, 5, 6, 7, 8, 9, 10, 11, 12], days=[1, 2, 3, 4, 5, 6, 7, 8, 9, 10, 11, 12, 13, 14, 15, 16, 17, 18, 19, 20, 21, 22, 23, 24, 25, 26, 27, 28, 29, 30, 31]: 400 Client Error: Bad Request for url: https://cds.climate.copernicus.eu/api/retrieve/v1/jobs/0be26a2a-4795-4350-af61-0932af7bb9ef/results\n",
      "The job has failed\n",
      "The job failed with: MultiAdaptorNoDataError\n",
      "  Max retries reached.\n",
      "    Trying month 2018-01\n"
     ]
    },
    {
     "name": "stderr",
     "output_type": "stream",
     "text": [
      "2025-09-25 18:39:10,116 INFO status has been updated to accepted\n",
      "2025-09-25 18:39:23,656 INFO status has been updated to running\n",
      "2025-09-25 18:39:31,502 INFO status has been updated to accepted\n",
      "2025-09-25 18:39:42,991 INFO status has been updated to failed\n",
      "Traceback (most recent call last):\n"
     ]
    },
    {
     "name": "stdout",
     "output_type": "stream",
     "text": [
      "  Attempt 1 failed for nw year=2018, months=[1], days=[1, 2, 3, 4, 5, 6, 7, 8, 9, 10, 11, 12, 13, 14, 15, 16, 17, 18, 19, 20, 21, 22, 23, 24, 25, 26, 27, 28, 29, 30, 31]: 400 Client Error: Bad Request for url: https://cds.climate.copernicus.eu/api/retrieve/v1/jobs/4ee7496e-2329-40ae-9396-1018a2502daf/results\n",
      "The job has failed\n",
      "The job failed with: MultiAdaptorNoDataError\n",
      "  Waiting 10s then retrying...\n"
     ]
    },
    {
     "name": "stderr",
     "output_type": "stream",
     "text": [
      "  File \"C:\\Users\\justa\\AppData\\Local\\Temp\\ipykernel_20096\\2743652449.py\", line 49, in safe_retrieve_csv\n",
      "    c.retrieve(\n",
      "  File \"c:\\Users\\justa\\ML\\Weather\\.venv-3.12\\Lib\\site-packages\\ecmwf\\datastores\\legacy_client.py\", line 167, in retrieve\n",
      "    submitted = self.client.submit_and_wait_on_results(\n",
      "                ^^^^^^^^^^^^^^^^^^^^^^^^^^^^^^^^^^^^^^^\n",
      "  File \"c:\\Users\\justa\\ML\\Weather\\.venv-3.12\\Lib\\site-packages\\ecmwf\\datastores\\client.py\", line 414, in submit_and_wait_on_results\n",
      "    return self._retrieve_api.submit(collection_id, request).get_results()\n",
      "           ^^^^^^^^^^^^^^^^^^^^^^^^^^^^^^^^^^^^^^^^^^^^^^^^^^^^^^^^^^^^^^^\n",
      "  File \"c:\\Users\\justa\\ML\\Weather\\.venv-3.12\\Lib\\site-packages\\ecmwf\\datastores\\processing.py\", line 495, in get_results\n",
      "    return self._make_results(wait=True)\n",
      "           ^^^^^^^^^^^^^^^^^^^^^^^^^^^^^\n",
      "  File \"c:\\Users\\justa\\ML\\Weather\\.venv-3.12\\Lib\\site-packages\\ecmwf\\datastores\\processing.py\", line 479, in _make_results\n",
      "    self._wait_on_results()\n",
      "  File \"c:\\Users\\justa\\ML\\Weather\\.venv-3.12\\Lib\\site-packages\\ecmwf\\datastores\\processing.py\", line 457, in _wait_on_results\n",
      "    while not self.results_ready:\n",
      "              ^^^^^^^^^^^^^^^^^^\n",
      "  File \"c:\\Users\\justa\\ML\\Weather\\.venv-3.12\\Lib\\site-packages\\ecmwf\\datastores\\processing.py\", line 471, in results_ready\n",
      "    results = self._make_results(wait=False)\n",
      "              ^^^^^^^^^^^^^^^^^^^^^^^^^^^^^^\n",
      "  File \"c:\\Users\\justa\\ML\\Weather\\.venv-3.12\\Lib\\site-packages\\ecmwf\\datastores\\processing.py\", line 485, in _make_results\n",
      "    results = Results.from_request(\"get\", results_url, **self._request_kwargs)\n",
      "              ^^^^^^^^^^^^^^^^^^^^^^^^^^^^^^^^^^^^^^^^^^^^^^^^^^^^^^^^^^^^^^^^\n",
      "  File \"c:\\Users\\justa\\ML\\Weather\\.venv-3.12\\Lib\\site-packages\\ecmwf\\datastores\\processing.py\", line 176, in from_request\n",
      "    cads_raise_for_status(response)\n",
      "  File \"c:\\Users\\justa\\ML\\Weather\\.venv-3.12\\Lib\\site-packages\\ecmwf\\datastores\\processing.py\", line 99, in cads_raise_for_status\n",
      "    raise requests.HTTPError(message, response=response)\n",
      "requests.exceptions.HTTPError: 400 Client Error: Bad Request for url: https://cds.climate.copernicus.eu/api/retrieve/v1/jobs/4ee7496e-2329-40ae-9396-1018a2502daf/results\n",
      "The job has failed\n",
      "The job failed with: MultiAdaptorNoDataError\n",
      "2025-09-25 18:39:53,518 WARNING [2025-03-17T00:00:00] Please be aware that the generation of this dataset is using an alternative source for the ERA5 data and may be subject to changes over time (e.g. file format, data file structure, deprecation etc). This dataset should therefore be regarded as “experimental” and is **not recommended for use in a production environment**. \n",
      "\n",
      "Notification of changes via this catalogue entry banner and/or in the [Forum](https://forum.ecmwf.int/) will be provided on best efforts.\n",
      "2025-09-25 18:39:53,530 INFO Request ID is af1a80e4-5230-4310-9fe0-69118e614753\n",
      "2025-09-25 18:39:53,658 INFO status has been updated to accepted\n"
     ]
    },
    {
     "ename": "KeyboardInterrupt",
     "evalue": "",
     "output_type": "error",
     "traceback": [
      "\u001b[31m---------------------------------------------------------------------------\u001b[39m",
      "\u001b[31mKeyboardInterrupt\u001b[39m                         Traceback (most recent call last)",
      "\u001b[36mCell\u001b[39m\u001b[36m \u001b[39m\u001b[32mIn[14]\u001b[39m\u001b[32m, line 103\u001b[39m\n\u001b[32m    101\u001b[39m _, last_day = monthrange(yr, m)\n\u001b[32m    102\u001b[39m days_in_month = \u001b[38;5;28mlist\u001b[39m(\u001b[38;5;28mrange\u001b[39m(\u001b[32m1\u001b[39m, last_day + \u001b[32m1\u001b[39m))\n\u001b[32m--> \u001b[39m\u001b[32m103\u001b[39m success_m = \u001b[43msafe_retrieve_csv\u001b[49m\u001b[43m(\u001b[49m\u001b[43mlabel\u001b[49m\u001b[43m,\u001b[49m\u001b[43m \u001b[49m\u001b[43myr\u001b[49m\u001b[43m,\u001b[49m\u001b[43m \u001b[49m\u001b[43m[\u001b[49m\u001b[43mm\u001b[49m\u001b[43m]\u001b[49m\u001b[43m,\u001b[49m\u001b[43m \u001b[49m\u001b[43mdays_in_month\u001b[49m\u001b[43m,\u001b[49m\u001b[43m \u001b[49m\u001b[43mlat\u001b[49m\u001b[43m,\u001b[49m\u001b[43m \u001b[49m\u001b[43mlon\u001b[49m\u001b[43m,\u001b[49m\u001b[43m \u001b[49m\u001b[43mout_m\u001b[49m\u001b[43m)\u001b[49m\n\u001b[32m    104\u001b[39m \u001b[38;5;28;01mif\u001b[39;00m success_m:\n\u001b[32m    105\u001b[39m     \u001b[38;5;28mprint\u001b[39m(\u001b[33mf\u001b[39m\u001b[33m\"\u001b[39m\u001b[33m    ✅ Success: \u001b[39m\u001b[38;5;132;01m{\u001b[39;00mlabel\u001b[38;5;132;01m}\u001b[39;00m\u001b[33m \u001b[39m\u001b[38;5;132;01m{\u001b[39;00myr\u001b[38;5;132;01m}\u001b[39;00m\u001b[33m-\u001b[39m\u001b[38;5;132;01m{\u001b[39;00mm\u001b[38;5;132;01m:\u001b[39;00m\u001b[33m02d\u001b[39m\u001b[38;5;132;01m}\u001b[39;00m\u001b[33m\"\u001b[39m)\n",
      "\u001b[36mCell\u001b[39m\u001b[36m \u001b[39m\u001b[32mIn[14]\u001b[39m\u001b[32m, line 49\u001b[39m, in \u001b[36msafe_retrieve_csv\u001b[39m\u001b[34m(point_label, year, months, days, lat, lon, target_path)\u001b[39m\n\u001b[32m     47\u001b[39m \u001b[38;5;28;01mfor\u001b[39;00m attempt \u001b[38;5;129;01min\u001b[39;00m \u001b[38;5;28mrange\u001b[39m(\u001b[32m1\u001b[39m, max_retries + \u001b[32m1\u001b[39m):\n\u001b[32m     48\u001b[39m     \u001b[38;5;28;01mtry\u001b[39;00m:\n\u001b[32m---> \u001b[39m\u001b[32m49\u001b[39m         \u001b[43mc\u001b[49m\u001b[43m.\u001b[49m\u001b[43mretrieve\u001b[49m\u001b[43m(\u001b[49m\n\u001b[32m     50\u001b[39m \u001b[43m            \u001b[49m\u001b[33;43m'\u001b[39;49m\u001b[33;43mreanalysis-era5-single-levels-timeseries\u001b[39;49m\u001b[33;43m'\u001b[39;49m\u001b[43m,\u001b[49m\n\u001b[32m     51\u001b[39m \u001b[43m            \u001b[49m\u001b[43m{\u001b[49m\n\u001b[32m     52\u001b[39m \u001b[43m                \u001b[49m\u001b[33;43m'\u001b[39;49m\u001b[33;43mformat\u001b[39;49m\u001b[33;43m'\u001b[39;49m\u001b[43m:\u001b[49m\u001b[43m \u001b[49m\u001b[33;43m'\u001b[39;49m\u001b[33;43mcsv\u001b[39;49m\u001b[33;43m'\u001b[39;49m\u001b[43m,\u001b[49m\n\u001b[32m     53\u001b[39m \u001b[43m                \u001b[49m\u001b[33;43m'\u001b[39;49m\u001b[33;43mproduct_type\u001b[39;49m\u001b[33;43m'\u001b[39;49m\u001b[43m:\u001b[49m\u001b[43m \u001b[49m\u001b[33;43m'\u001b[39;49m\u001b[33;43mreanalysis\u001b[39;49m\u001b[33;43m'\u001b[39;49m\u001b[43m,\u001b[49m\n\u001b[32m     54\u001b[39m \u001b[43m                \u001b[49m\u001b[33;43m'\u001b[39;49m\u001b[33;43mvariable\u001b[39;49m\u001b[33;43m'\u001b[39;49m\u001b[43m:\u001b[49m\u001b[43m \u001b[49m\u001b[43mvariables\u001b[49m\u001b[43m,\u001b[49m\n\u001b[32m     55\u001b[39m \u001b[43m                \u001b[49m\u001b[33;43m'\u001b[39;49m\u001b[33;43myear\u001b[39;49m\u001b[33;43m'\u001b[39;49m\u001b[43m:\u001b[49m\u001b[43m \u001b[49m\u001b[38;5;28;43mstr\u001b[39;49m\u001b[43m(\u001b[49m\u001b[43myear\u001b[49m\u001b[43m)\u001b[49m\u001b[43m,\u001b[49m\n\u001b[32m     56\u001b[39m \u001b[43m                \u001b[49m\u001b[33;43m'\u001b[39;49m\u001b[33;43mmonth\u001b[39;49m\u001b[33;43m'\u001b[39;49m\u001b[43m:\u001b[49m\u001b[43m \u001b[49m\u001b[43m[\u001b[49m\u001b[33;43mf\u001b[39;49m\u001b[33;43m\"\u001b[39;49m\u001b[38;5;132;43;01m{\u001b[39;49;00m\u001b[43mm\u001b[49m\u001b[38;5;132;43;01m:\u001b[39;49;00m\u001b[33;43m02d\u001b[39;49m\u001b[38;5;132;43;01m}\u001b[39;49;00m\u001b[33;43m\"\u001b[39;49m\u001b[43m \u001b[49m\u001b[38;5;28;43;01mfor\u001b[39;49;00m\u001b[43m \u001b[49m\u001b[43mm\u001b[49m\u001b[43m \u001b[49m\u001b[38;5;129;43;01min\u001b[39;49;00m\u001b[43m \u001b[49m\u001b[43mmonths\u001b[49m\u001b[43m]\u001b[49m\u001b[43m,\u001b[49m\n\u001b[32m     57\u001b[39m \u001b[43m                \u001b[49m\u001b[33;43m'\u001b[39;49m\u001b[33;43mday\u001b[39;49m\u001b[33;43m'\u001b[39;49m\u001b[43m:\u001b[49m\u001b[43m \u001b[49m\u001b[43m[\u001b[49m\u001b[33;43mf\u001b[39;49m\u001b[33;43m\"\u001b[39;49m\u001b[38;5;132;43;01m{\u001b[39;49;00m\u001b[43md\u001b[49m\u001b[38;5;132;43;01m:\u001b[39;49;00m\u001b[33;43m02d\u001b[39;49m\u001b[38;5;132;43;01m}\u001b[39;49;00m\u001b[33;43m\"\u001b[39;49m\u001b[43m \u001b[49m\u001b[38;5;28;43;01mfor\u001b[39;49;00m\u001b[43m \u001b[49m\u001b[43md\u001b[49m\u001b[43m \u001b[49m\u001b[38;5;129;43;01min\u001b[39;49;00m\u001b[43m \u001b[49m\u001b[43mdays\u001b[49m\u001b[43m]\u001b[49m\u001b[43m,\u001b[49m\n\u001b[32m     58\u001b[39m \u001b[43m                \u001b[49m\u001b[33;43m'\u001b[39;49m\u001b[33;43mtime\u001b[39;49m\u001b[33;43m'\u001b[39;49m\u001b[43m:\u001b[49m\u001b[43m \u001b[49m\u001b[43m[\u001b[49m\u001b[33;43mf\u001b[39;49m\u001b[33;43m\"\u001b[39;49m\u001b[38;5;132;43;01m{\u001b[39;49;00m\u001b[43mh\u001b[49m\u001b[38;5;132;43;01m:\u001b[39;49;00m\u001b[33;43m02d\u001b[39;49m\u001b[38;5;132;43;01m}\u001b[39;49;00m\u001b[33;43m:00\u001b[39;49m\u001b[33;43m\"\u001b[39;49m\u001b[43m \u001b[49m\u001b[38;5;28;43;01mfor\u001b[39;49;00m\u001b[43m \u001b[49m\u001b[43mh\u001b[49m\u001b[43m \u001b[49m\u001b[38;5;129;43;01min\u001b[39;49;00m\u001b[43m \u001b[49m\u001b[38;5;28;43mrange\u001b[39;49m\u001b[43m(\u001b[49m\u001b[32;43m24\u001b[39;49m\u001b[43m)\u001b[49m\u001b[43m]\u001b[49m\u001b[43m,\u001b[49m\n\u001b[32m     59\u001b[39m \u001b[43m                \u001b[49m\u001b[33;43m'\u001b[39;49m\u001b[33;43mlongitude\u001b[39;49m\u001b[33;43m'\u001b[39;49m\u001b[43m:\u001b[49m\u001b[43m \u001b[49m\u001b[43mlon\u001b[49m\u001b[43m,\u001b[49m\n\u001b[32m     60\u001b[39m \u001b[43m                \u001b[49m\u001b[33;43m'\u001b[39;49m\u001b[33;43mlatitude\u001b[39;49m\u001b[33;43m'\u001b[39;49m\u001b[43m:\u001b[49m\u001b[43m \u001b[49m\u001b[43mlat\u001b[49m\u001b[43m,\u001b[49m\n\u001b[32m     61\u001b[39m \u001b[43m            \u001b[49m\u001b[43m}\u001b[49m\u001b[43m,\u001b[49m\n\u001b[32m     62\u001b[39m \u001b[43m            \u001b[49m\u001b[43mtarget_path\u001b[49m\n\u001b[32m     63\u001b[39m \u001b[43m        \u001b[49m\u001b[43m)\u001b[49m\n\u001b[32m     64\u001b[39m         \u001b[38;5;28;01mreturn\u001b[39;00m \u001b[38;5;28;01mTrue\u001b[39;00m\n\u001b[32m     65\u001b[39m     \u001b[38;5;28;01mexcept\u001b[39;00m \u001b[38;5;167;01mException\u001b[39;00m \u001b[38;5;28;01mas\u001b[39;00m e:\n",
      "\u001b[36mFile \u001b[39m\u001b[32mc:\\Users\\justa\\ML\\Weather\\.venv-3.12\\Lib\\site-packages\\ecmwf\\datastores\\legacy_client.py:167\u001b[39m, in \u001b[36mLegacyClient.retrieve\u001b[39m\u001b[34m(self, name, request, target)\u001b[39m\n\u001b[32m    165\u001b[39m submitted: datastores.Remote | datastores.Results\n\u001b[32m    166\u001b[39m \u001b[38;5;28;01mif\u001b[39;00m \u001b[38;5;28mself\u001b[39m.wait_until_complete:\n\u001b[32m--> \u001b[39m\u001b[32m167\u001b[39m     submitted = \u001b[38;5;28;43mself\u001b[39;49m\u001b[43m.\u001b[49m\u001b[43mclient\u001b[49m\u001b[43m.\u001b[49m\u001b[43msubmit_and_wait_on_results\u001b[49m\u001b[43m(\u001b[49m\n\u001b[32m    168\u001b[39m \u001b[43m        \u001b[49m\u001b[43mcollection_id\u001b[49m\u001b[43m=\u001b[49m\u001b[43mname\u001b[49m\u001b[43m,\u001b[49m\n\u001b[32m    169\u001b[39m \u001b[43m        \u001b[49m\u001b[43mrequest\u001b[49m\u001b[43m=\u001b[49m\u001b[43mrequest\u001b[49m\u001b[43m,\u001b[49m\n\u001b[32m    170\u001b[39m \u001b[43m    \u001b[49m\u001b[43m)\u001b[49m\n\u001b[32m    171\u001b[39m \u001b[38;5;28;01melse\u001b[39;00m:\n\u001b[32m    172\u001b[39m     submitted = \u001b[38;5;28mself\u001b[39m.client.submit(\n\u001b[32m    173\u001b[39m         collection_id=name,\n\u001b[32m    174\u001b[39m         request=request,\n\u001b[32m    175\u001b[39m     )\n",
      "\u001b[36mFile \u001b[39m\u001b[32mc:\\Users\\justa\\ML\\Weather\\.venv-3.12\\Lib\\site-packages\\ecmwf\\datastores\\client.py:414\u001b[39m, in \u001b[36mClient.submit_and_wait_on_results\u001b[39m\u001b[34m(self, collection_id, request)\u001b[39m\n\u001b[32m    398\u001b[39m \u001b[38;5;28;01mdef\u001b[39;00m\u001b[38;5;250m \u001b[39m\u001b[34msubmit_and_wait_on_results\u001b[39m(\n\u001b[32m    399\u001b[39m     \u001b[38;5;28mself\u001b[39m, collection_id: \u001b[38;5;28mstr\u001b[39m, request: \u001b[38;5;28mdict\u001b[39m[\u001b[38;5;28mstr\u001b[39m, Any]\n\u001b[32m    400\u001b[39m ) -> datastores.Results:\n\u001b[32m    401\u001b[39m \u001b[38;5;250m    \u001b[39m\u001b[33;03m\"\"\"Submit a request and wait for the results to be ready.\u001b[39;00m\n\u001b[32m    402\u001b[39m \n\u001b[32m    403\u001b[39m \u001b[33;03m    Parameters\u001b[39;00m\n\u001b[32m   (...)\u001b[39m\u001b[32m    412\u001b[39m \u001b[33;03m    datastores.Results\u001b[39;00m\n\u001b[32m    413\u001b[39m \u001b[33;03m    \"\"\"\u001b[39;00m\n\u001b[32m--> \u001b[39m\u001b[32m414\u001b[39m     \u001b[38;5;28;01mreturn\u001b[39;00m \u001b[38;5;28;43mself\u001b[39;49m\u001b[43m.\u001b[49m\u001b[43m_retrieve_api\u001b[49m\u001b[43m.\u001b[49m\u001b[43msubmit\u001b[49m\u001b[43m(\u001b[49m\u001b[43mcollection_id\u001b[49m\u001b[43m,\u001b[49m\u001b[43m \u001b[49m\u001b[43mrequest\u001b[49m\u001b[43m)\u001b[49m\u001b[43m.\u001b[49m\u001b[43mget_results\u001b[49m\u001b[43m(\u001b[49m\u001b[43m)\u001b[49m\n",
      "\u001b[36mFile \u001b[39m\u001b[32mc:\\Users\\justa\\ML\\Weather\\.venv-3.12\\Lib\\site-packages\\ecmwf\\datastores\\processing.py:495\u001b[39m, in \u001b[36mRemote.get_results\u001b[39m\u001b[34m(self)\u001b[39m\n\u001b[32m    488\u001b[39m \u001b[38;5;28;01mdef\u001b[39;00m\u001b[38;5;250m \u001b[39m\u001b[34mget_results\u001b[39m(\u001b[38;5;28mself\u001b[39m) -> Results:\n\u001b[32m    489\u001b[39m \u001b[38;5;250m    \u001b[39m\u001b[33;03m\"\"\"Retrieve results.\u001b[39;00m\n\u001b[32m    490\u001b[39m \n\u001b[32m    491\u001b[39m \u001b[33;03m    Returns\u001b[39;00m\n\u001b[32m    492\u001b[39m \u001b[33;03m    -------\u001b[39;00m\n\u001b[32m    493\u001b[39m \u001b[33;03m    datastores.Results\u001b[39;00m\n\u001b[32m    494\u001b[39m \u001b[33;03m    \"\"\"\u001b[39;00m\n\u001b[32m--> \u001b[39m\u001b[32m495\u001b[39m     \u001b[38;5;28;01mreturn\u001b[39;00m \u001b[38;5;28;43mself\u001b[39;49m\u001b[43m.\u001b[49m\u001b[43m_make_results\u001b[49m\u001b[43m(\u001b[49m\u001b[43mwait\u001b[49m\u001b[43m=\u001b[49m\u001b[38;5;28;43;01mTrue\u001b[39;49;00m\u001b[43m)\u001b[49m\n",
      "\u001b[36mFile \u001b[39m\u001b[32mc:\\Users\\justa\\ML\\Weather\\.venv-3.12\\Lib\\site-packages\\ecmwf\\datastores\\processing.py:479\u001b[39m, in \u001b[36mRemote._make_results\u001b[39m\u001b[34m(self, wait)\u001b[39m\n\u001b[32m    477\u001b[39m \u001b[38;5;28;01mdef\u001b[39;00m\u001b[38;5;250m \u001b[39m\u001b[34m_make_results\u001b[39m(\u001b[38;5;28mself\u001b[39m, wait: \u001b[38;5;28mbool\u001b[39m) -> Results:\n\u001b[32m    478\u001b[39m     \u001b[38;5;28;01mif\u001b[39;00m wait:\n\u001b[32m--> \u001b[39m\u001b[32m479\u001b[39m         \u001b[38;5;28;43mself\u001b[39;49m\u001b[43m.\u001b[49m\u001b[43m_wait_on_results\u001b[49m\u001b[43m(\u001b[49m\u001b[43m)\u001b[49m\n\u001b[32m    480\u001b[39m     response = \u001b[38;5;28mself\u001b[39m._get_api_response(\u001b[33m\"\u001b[39m\u001b[33mget\u001b[39m\u001b[33m\"\u001b[39m)\n\u001b[32m    481\u001b[39m     \u001b[38;5;28;01mtry\u001b[39;00m:\n",
      "\u001b[36mFile \u001b[39m\u001b[32mc:\\Users\\justa\\ML\\Weather\\.venv-3.12\\Lib\\site-packages\\ecmwf\\datastores\\processing.py:457\u001b[39m, in \u001b[36mRemote._wait_on_results\u001b[39m\u001b[34m(self)\u001b[39m\n\u001b[32m    455\u001b[39m \u001b[38;5;28;01mdef\u001b[39;00m\u001b[38;5;250m \u001b[39m\u001b[34m_wait_on_results\u001b[39m(\u001b[38;5;28mself\u001b[39m) -> \u001b[38;5;28;01mNone\u001b[39;00m:\n\u001b[32m    456\u001b[39m     sleep = \u001b[32m1.0\u001b[39m\n\u001b[32m--> \u001b[39m\u001b[32m457\u001b[39m     \u001b[38;5;28;01mwhile\u001b[39;00m \u001b[38;5;129;01mnot\u001b[39;00m \u001b[38;5;28;43mself\u001b[39;49m\u001b[43m.\u001b[49m\u001b[43mresults_ready\u001b[49m:\n\u001b[32m    458\u001b[39m         \u001b[38;5;28mself\u001b[39m.debug(\u001b[33mf\u001b[39m\u001b[33m\"\u001b[39m\u001b[33mresults not ready, waiting for \u001b[39m\u001b[38;5;132;01m{\u001b[39;00msleep\u001b[38;5;132;01m}\u001b[39;00m\u001b[33m seconds\u001b[39m\u001b[33m\"\u001b[39m)\n\u001b[32m    459\u001b[39m         time.sleep(sleep)\n",
      "\u001b[36mFile \u001b[39m\u001b[32mc:\\Users\\justa\\ML\\Weather\\.venv-3.12\\Lib\\site-packages\\ecmwf\\datastores\\processing.py:465\u001b[39m, in \u001b[36mRemote.results_ready\u001b[39m\u001b[34m(self)\u001b[39m\n\u001b[32m    462\u001b[39m \u001b[38;5;129m@property\u001b[39m\n\u001b[32m    463\u001b[39m \u001b[38;5;28;01mdef\u001b[39;00m\u001b[38;5;250m \u001b[39m\u001b[34mresults_ready\u001b[39m(\u001b[38;5;28mself\u001b[39m) -> \u001b[38;5;28mbool\u001b[39m:\n\u001b[32m    464\u001b[39m \u001b[38;5;250m    \u001b[39m\u001b[33;03m\"\"\"Check if results are ready.\"\"\"\u001b[39;00m\n\u001b[32m--> \u001b[39m\u001b[32m465\u001b[39m     status = \u001b[38;5;28;43mself\u001b[39;49m\u001b[43m.\u001b[49m\u001b[43mstatus\u001b[49m\n\u001b[32m    466\u001b[39m     \u001b[38;5;28;01mif\u001b[39;00m status == \u001b[33m\"\u001b[39m\u001b[33msuccessful\u001b[39m\u001b[33m\"\u001b[39m:\n\u001b[32m    467\u001b[39m         \u001b[38;5;28;01mreturn\u001b[39;00m \u001b[38;5;28;01mTrue\u001b[39;00m\n",
      "\u001b[36mFile \u001b[39m\u001b[32mc:\\Users\\justa\\ML\\Weather\\.venv-3.12\\Lib\\site-packages\\ecmwf\\datastores\\processing.py:424\u001b[39m, in \u001b[36mRemote.status\u001b[39m\u001b[34m(self)\u001b[39m\n\u001b[32m    421\u001b[39m \u001b[38;5;129m@property\u001b[39m\n\u001b[32m    422\u001b[39m \u001b[38;5;28;01mdef\u001b[39;00m\u001b[38;5;250m \u001b[39m\u001b[34mstatus\u001b[39m(\u001b[38;5;28mself\u001b[39m) -> \u001b[38;5;28mstr\u001b[39m:\n\u001b[32m    423\u001b[39m \u001b[38;5;250m    \u001b[39m\u001b[33;03m\"\"\"Request status.\"\"\"\u001b[39;00m\n\u001b[32m--> \u001b[39m\u001b[32m424\u001b[39m     reply = \u001b[38;5;28;43mself\u001b[39;49m\u001b[43m.\u001b[49m\u001b[43mjson\u001b[49m\n\u001b[32m    425\u001b[39m     \u001b[38;5;28mself\u001b[39m._log_metadata(reply.get(\u001b[33m\"\u001b[39m\u001b[33mmetadata\u001b[39m\u001b[33m\"\u001b[39m, {}))\n\u001b[32m    427\u001b[39m     status = reply[\u001b[33m\"\u001b[39m\u001b[33mstatus\u001b[39m\u001b[33m\"\u001b[39m]\n",
      "\u001b[36mFile \u001b[39m\u001b[32mc:\\Users\\justa\\ML\\Weather\\.venv-3.12\\Lib\\site-packages\\ecmwf\\datastores\\processing.py:409\u001b[39m, in \u001b[36mRemote.json\u001b[39m\u001b[34m(self)\u001b[39m\n\u001b[32m    407\u001b[39m \u001b[38;5;28;01mif\u001b[39;00m \u001b[38;5;28mself\u001b[39m.log_start_time:\n\u001b[32m    408\u001b[39m     params[\u001b[33m\"\u001b[39m\u001b[33mlogStartTime\u001b[39m\u001b[33m\"\u001b[39m] = \u001b[38;5;28mself\u001b[39m.log_start_time\n\u001b[32m--> \u001b[39m\u001b[32m409\u001b[39m \u001b[38;5;28;01mreturn\u001b[39;00m \u001b[38;5;28;43mself\u001b[39;49m\u001b[43m.\u001b[49m\u001b[43m_get_api_response\u001b[49m\u001b[43m(\u001b[49m\u001b[33;43m\"\u001b[39;49m\u001b[33;43mget\u001b[39;49m\u001b[33;43m\"\u001b[39;49m\u001b[43m,\u001b[49m\u001b[43m \u001b[49m\u001b[43mparams\u001b[49m\u001b[43m=\u001b[49m\u001b[43mparams\u001b[49m\u001b[43m)\u001b[49m._json_dict\n",
      "\u001b[36mFile \u001b[39m\u001b[32mc:\\Users\\justa\\ML\\Weather\\.venv-3.12\\Lib\\site-packages\\ecmwf\\datastores\\processing.py:394\u001b[39m, in \u001b[36mRemote._get_api_response\u001b[39m\u001b[34m(self, method, **kwargs)\u001b[39m\n\u001b[32m    393\u001b[39m \u001b[38;5;28;01mdef\u001b[39;00m\u001b[38;5;250m \u001b[39m\u001b[34m_get_api_response\u001b[39m(\u001b[38;5;28mself\u001b[39m, method: \u001b[38;5;28mstr\u001b[39m, **kwargs: Any) -> ApiResponse:\n\u001b[32m--> \u001b[39m\u001b[32m394\u001b[39m     \u001b[38;5;28;01mreturn\u001b[39;00m \u001b[43mApiResponse\u001b[49m\u001b[43m.\u001b[49m\u001b[43mfrom_request\u001b[49m\u001b[43m(\u001b[49m\n\u001b[32m    395\u001b[39m \u001b[43m        \u001b[49m\u001b[43mmethod\u001b[49m\u001b[43m,\u001b[49m\u001b[43m \u001b[49m\u001b[38;5;28;43mself\u001b[39;49m\u001b[43m.\u001b[49m\u001b[43murl\u001b[49m\u001b[43m,\u001b[49m\u001b[43m \u001b[49m\u001b[43m*\u001b[49m\u001b[43m*\u001b[49m\u001b[38;5;28;43mself\u001b[39;49m\u001b[43m.\u001b[49m\u001b[43m_request_kwargs\u001b[49m\u001b[43m,\u001b[49m\u001b[43m \u001b[49m\u001b[43m*\u001b[49m\u001b[43m*\u001b[49m\u001b[43mkwargs\u001b[49m\n\u001b[32m    396\u001b[39m \u001b[43m    \u001b[49m\u001b[43m)\u001b[49m\n",
      "\u001b[36mFile \u001b[39m\u001b[32mc:\\Users\\justa\\ML\\Weather\\.venv-3.12\\Lib\\site-packages\\ecmwf\\datastores\\processing.py:171\u001b[39m, in \u001b[36mApiResponse.from_request\u001b[39m\u001b[34m(cls, method, url, headers, session, retry_options, request_options, download_options, sleep_max, cleanup, log_callback, log_messages, **kwargs)\u001b[39m\n\u001b[32m    165\u001b[39m inputs = kwargs.get(\u001b[33m\"\u001b[39m\u001b[33mjson\u001b[39m\u001b[33m\"\u001b[39m, {}).get(\u001b[33m\"\u001b[39m\u001b[33minputs\u001b[39m\u001b[33m\"\u001b[39m, {})\n\u001b[32m    166\u001b[39m log(\n\u001b[32m    167\u001b[39m     logging.DEBUG,\n\u001b[32m    168\u001b[39m     \u001b[33mf\u001b[39m\u001b[33m\"\u001b[39m\u001b[38;5;132;01m{\u001b[39;00mmethod.upper()\u001b[38;5;132;01m}\u001b[39;00m\u001b[33m \u001b[39m\u001b[38;5;132;01m{\u001b[39;00murl\u001b[38;5;132;01m}\u001b[39;00m\u001b[33m \u001b[39m\u001b[38;5;132;01m{\u001b[39;00minputs\u001b[38;5;250m \u001b[39m\u001b[38;5;129;01mor\u001b[39;00m\u001b[38;5;250m \u001b[39m\u001b[33m'\u001b[39m\u001b[33m'\u001b[39m\u001b[38;5;132;01m}\u001b[39;00m\u001b[33m\"\u001b[39m.strip(),\n\u001b[32m    169\u001b[39m     callback=log_callback,\n\u001b[32m    170\u001b[39m )\n\u001b[32m--> \u001b[39m\u001b[32m171\u001b[39m response = \u001b[43mrobust_request\u001b[49m\u001b[43m(\u001b[49m\n\u001b[32m    172\u001b[39m \u001b[43m    \u001b[49m\u001b[43mmethod\u001b[49m\u001b[43m,\u001b[49m\u001b[43m \u001b[49m\u001b[43murl\u001b[49m\u001b[43m,\u001b[49m\u001b[43m \u001b[49m\u001b[43mheaders\u001b[49m\u001b[43m=\u001b[49m\u001b[43mheaders\u001b[49m\u001b[43m,\u001b[49m\u001b[43m \u001b[49m\u001b[43m*\u001b[49m\u001b[43m*\u001b[49m\u001b[43mrequest_options\u001b[49m\u001b[43m,\u001b[49m\u001b[43m \u001b[49m\u001b[43m*\u001b[49m\u001b[43m*\u001b[49m\u001b[43mkwargs\u001b[49m\n\u001b[32m    173\u001b[39m \u001b[43m\u001b[49m\u001b[43m)\u001b[49m\n\u001b[32m    174\u001b[39m log(logging.DEBUG, \u001b[33mf\u001b[39m\u001b[33m\"\u001b[39m\u001b[33mREPLY \u001b[39m\u001b[38;5;132;01m{\u001b[39;00mresponse.text\u001b[38;5;132;01m}\u001b[39;00m\u001b[33m\"\u001b[39m, callback=log_callback)\n\u001b[32m    176\u001b[39m cads_raise_for_status(response)\n",
      "\u001b[36mFile \u001b[39m\u001b[32mc:\\Users\\justa\\ML\\Weather\\.venv-3.12\\Lib\\site-packages\\multiurl\\http.py:495\u001b[39m, in \u001b[36mrobust.<locals>.wrapped\u001b[39m\u001b[34m(url, *args, **kwargs)\u001b[39m\n\u001b[32m    492\u001b[39m     \u001b[38;5;28;01mreturn\u001b[39;00m call(main_url, *args, **kwargs)\n\u001b[32m    494\u001b[39m \u001b[38;5;28;01mtry\u001b[39;00m:\n\u001b[32m--> \u001b[39m\u001b[32m495\u001b[39m     r = \u001b[43mcall\u001b[49m\u001b[43m(\u001b[49m\u001b[43mmain_url\u001b[49m\u001b[43m,\u001b[49m\u001b[43m \u001b[49m\u001b[43m*\u001b[49m\u001b[43margs\u001b[49m\u001b[43m,\u001b[49m\u001b[43m \u001b[49m\u001b[43m*\u001b[49m\u001b[43m*\u001b[49m\u001b[43mkwargs\u001b[49m\u001b[43m)\u001b[49m\n\u001b[32m    496\u001b[39m \u001b[38;5;28;01mexcept\u001b[39;00m requests.exceptions.SSLError:\n\u001b[32m    497\u001b[39m     \u001b[38;5;28;01mraise\u001b[39;00m\n",
      "\u001b[36mFile \u001b[39m\u001b[32mc:\\Users\\justa\\ML\\Weather\\.venv-3.12\\Lib\\site-packages\\requests\\sessions.py:589\u001b[39m, in \u001b[36mSession.request\u001b[39m\u001b[34m(self, method, url, params, data, headers, cookies, files, auth, timeout, allow_redirects, proxies, hooks, stream, verify, cert, json)\u001b[39m\n\u001b[32m    584\u001b[39m send_kwargs = {\n\u001b[32m    585\u001b[39m     \u001b[33m\"\u001b[39m\u001b[33mtimeout\u001b[39m\u001b[33m\"\u001b[39m: timeout,\n\u001b[32m    586\u001b[39m     \u001b[33m\"\u001b[39m\u001b[33mallow_redirects\u001b[39m\u001b[33m\"\u001b[39m: allow_redirects,\n\u001b[32m    587\u001b[39m }\n\u001b[32m    588\u001b[39m send_kwargs.update(settings)\n\u001b[32m--> \u001b[39m\u001b[32m589\u001b[39m resp = \u001b[38;5;28;43mself\u001b[39;49m\u001b[43m.\u001b[49m\u001b[43msend\u001b[49m\u001b[43m(\u001b[49m\u001b[43mprep\u001b[49m\u001b[43m,\u001b[49m\u001b[43m \u001b[49m\u001b[43m*\u001b[49m\u001b[43m*\u001b[49m\u001b[43msend_kwargs\u001b[49m\u001b[43m)\u001b[49m\n\u001b[32m    591\u001b[39m \u001b[38;5;28;01mreturn\u001b[39;00m resp\n",
      "\u001b[36mFile \u001b[39m\u001b[32mc:\\Users\\justa\\ML\\Weather\\.venv-3.12\\Lib\\site-packages\\requests\\sessions.py:703\u001b[39m, in \u001b[36mSession.send\u001b[39m\u001b[34m(self, request, **kwargs)\u001b[39m\n\u001b[32m    700\u001b[39m start = preferred_clock()\n\u001b[32m    702\u001b[39m \u001b[38;5;66;03m# Send the request\u001b[39;00m\n\u001b[32m--> \u001b[39m\u001b[32m703\u001b[39m r = \u001b[43madapter\u001b[49m\u001b[43m.\u001b[49m\u001b[43msend\u001b[49m\u001b[43m(\u001b[49m\u001b[43mrequest\u001b[49m\u001b[43m,\u001b[49m\u001b[43m \u001b[49m\u001b[43m*\u001b[49m\u001b[43m*\u001b[49m\u001b[43mkwargs\u001b[49m\u001b[43m)\u001b[49m\n\u001b[32m    705\u001b[39m \u001b[38;5;66;03m# Total elapsed time of the request (approximately)\u001b[39;00m\n\u001b[32m    706\u001b[39m elapsed = preferred_clock() - start\n",
      "\u001b[36mFile \u001b[39m\u001b[32mc:\\Users\\justa\\ML\\Weather\\.venv-3.12\\Lib\\site-packages\\requests\\adapters.py:667\u001b[39m, in \u001b[36mHTTPAdapter.send\u001b[39m\u001b[34m(self, request, stream, timeout, verify, cert, proxies)\u001b[39m\n\u001b[32m    664\u001b[39m     timeout = TimeoutSauce(connect=timeout, read=timeout)\n\u001b[32m    666\u001b[39m \u001b[38;5;28;01mtry\u001b[39;00m:\n\u001b[32m--> \u001b[39m\u001b[32m667\u001b[39m     resp = \u001b[43mconn\u001b[49m\u001b[43m.\u001b[49m\u001b[43murlopen\u001b[49m\u001b[43m(\u001b[49m\n\u001b[32m    668\u001b[39m \u001b[43m        \u001b[49m\u001b[43mmethod\u001b[49m\u001b[43m=\u001b[49m\u001b[43mrequest\u001b[49m\u001b[43m.\u001b[49m\u001b[43mmethod\u001b[49m\u001b[43m,\u001b[49m\n\u001b[32m    669\u001b[39m \u001b[43m        \u001b[49m\u001b[43murl\u001b[49m\u001b[43m=\u001b[49m\u001b[43murl\u001b[49m\u001b[43m,\u001b[49m\n\u001b[32m    670\u001b[39m \u001b[43m        \u001b[49m\u001b[43mbody\u001b[49m\u001b[43m=\u001b[49m\u001b[43mrequest\u001b[49m\u001b[43m.\u001b[49m\u001b[43mbody\u001b[49m\u001b[43m,\u001b[49m\n\u001b[32m    671\u001b[39m \u001b[43m        \u001b[49m\u001b[43mheaders\u001b[49m\u001b[43m=\u001b[49m\u001b[43mrequest\u001b[49m\u001b[43m.\u001b[49m\u001b[43mheaders\u001b[49m\u001b[43m,\u001b[49m\n\u001b[32m    672\u001b[39m \u001b[43m        \u001b[49m\u001b[43mredirect\u001b[49m\u001b[43m=\u001b[49m\u001b[38;5;28;43;01mFalse\u001b[39;49;00m\u001b[43m,\u001b[49m\n\u001b[32m    673\u001b[39m \u001b[43m        \u001b[49m\u001b[43massert_same_host\u001b[49m\u001b[43m=\u001b[49m\u001b[38;5;28;43;01mFalse\u001b[39;49;00m\u001b[43m,\u001b[49m\n\u001b[32m    674\u001b[39m \u001b[43m        \u001b[49m\u001b[43mpreload_content\u001b[49m\u001b[43m=\u001b[49m\u001b[38;5;28;43;01mFalse\u001b[39;49;00m\u001b[43m,\u001b[49m\n\u001b[32m    675\u001b[39m \u001b[43m        \u001b[49m\u001b[43mdecode_content\u001b[49m\u001b[43m=\u001b[49m\u001b[38;5;28;43;01mFalse\u001b[39;49;00m\u001b[43m,\u001b[49m\n\u001b[32m    676\u001b[39m \u001b[43m        \u001b[49m\u001b[43mretries\u001b[49m\u001b[43m=\u001b[49m\u001b[38;5;28;43mself\u001b[39;49m\u001b[43m.\u001b[49m\u001b[43mmax_retries\u001b[49m\u001b[43m,\u001b[49m\n\u001b[32m    677\u001b[39m \u001b[43m        \u001b[49m\u001b[43mtimeout\u001b[49m\u001b[43m=\u001b[49m\u001b[43mtimeout\u001b[49m\u001b[43m,\u001b[49m\n\u001b[32m    678\u001b[39m \u001b[43m        \u001b[49m\u001b[43mchunked\u001b[49m\u001b[43m=\u001b[49m\u001b[43mchunked\u001b[49m\u001b[43m,\u001b[49m\n\u001b[32m    679\u001b[39m \u001b[43m    \u001b[49m\u001b[43m)\u001b[49m\n\u001b[32m    681\u001b[39m \u001b[38;5;28;01mexcept\u001b[39;00m (ProtocolError, \u001b[38;5;167;01mOSError\u001b[39;00m) \u001b[38;5;28;01mas\u001b[39;00m err:\n\u001b[32m    682\u001b[39m     \u001b[38;5;28;01mraise\u001b[39;00m \u001b[38;5;167;01mConnectionError\u001b[39;00m(err, request=request)\n",
      "\u001b[36mFile \u001b[39m\u001b[32mc:\\Users\\justa\\ML\\Weather\\.venv-3.12\\Lib\\site-packages\\urllib3\\connectionpool.py:787\u001b[39m, in \u001b[36mHTTPConnectionPool.urlopen\u001b[39m\u001b[34m(self, method, url, body, headers, retries, redirect, assert_same_host, timeout, pool_timeout, release_conn, chunked, body_pos, preload_content, decode_content, **response_kw)\u001b[39m\n\u001b[32m    784\u001b[39m response_conn = conn \u001b[38;5;28;01mif\u001b[39;00m \u001b[38;5;129;01mnot\u001b[39;00m release_conn \u001b[38;5;28;01melse\u001b[39;00m \u001b[38;5;28;01mNone\u001b[39;00m\n\u001b[32m    786\u001b[39m \u001b[38;5;66;03m# Make the request on the HTTPConnection object\u001b[39;00m\n\u001b[32m--> \u001b[39m\u001b[32m787\u001b[39m response = \u001b[38;5;28;43mself\u001b[39;49m\u001b[43m.\u001b[49m\u001b[43m_make_request\u001b[49m\u001b[43m(\u001b[49m\n\u001b[32m    788\u001b[39m \u001b[43m    \u001b[49m\u001b[43mconn\u001b[49m\u001b[43m,\u001b[49m\n\u001b[32m    789\u001b[39m \u001b[43m    \u001b[49m\u001b[43mmethod\u001b[49m\u001b[43m,\u001b[49m\n\u001b[32m    790\u001b[39m \u001b[43m    \u001b[49m\u001b[43murl\u001b[49m\u001b[43m,\u001b[49m\n\u001b[32m    791\u001b[39m \u001b[43m    \u001b[49m\u001b[43mtimeout\u001b[49m\u001b[43m=\u001b[49m\u001b[43mtimeout_obj\u001b[49m\u001b[43m,\u001b[49m\n\u001b[32m    792\u001b[39m \u001b[43m    \u001b[49m\u001b[43mbody\u001b[49m\u001b[43m=\u001b[49m\u001b[43mbody\u001b[49m\u001b[43m,\u001b[49m\n\u001b[32m    793\u001b[39m \u001b[43m    \u001b[49m\u001b[43mheaders\u001b[49m\u001b[43m=\u001b[49m\u001b[43mheaders\u001b[49m\u001b[43m,\u001b[49m\n\u001b[32m    794\u001b[39m \u001b[43m    \u001b[49m\u001b[43mchunked\u001b[49m\u001b[43m=\u001b[49m\u001b[43mchunked\u001b[49m\u001b[43m,\u001b[49m\n\u001b[32m    795\u001b[39m \u001b[43m    \u001b[49m\u001b[43mretries\u001b[49m\u001b[43m=\u001b[49m\u001b[43mretries\u001b[49m\u001b[43m,\u001b[49m\n\u001b[32m    796\u001b[39m \u001b[43m    \u001b[49m\u001b[43mresponse_conn\u001b[49m\u001b[43m=\u001b[49m\u001b[43mresponse_conn\u001b[49m\u001b[43m,\u001b[49m\n\u001b[32m    797\u001b[39m \u001b[43m    \u001b[49m\u001b[43mpreload_content\u001b[49m\u001b[43m=\u001b[49m\u001b[43mpreload_content\u001b[49m\u001b[43m,\u001b[49m\n\u001b[32m    798\u001b[39m \u001b[43m    \u001b[49m\u001b[43mdecode_content\u001b[49m\u001b[43m=\u001b[49m\u001b[43mdecode_content\u001b[49m\u001b[43m,\u001b[49m\n\u001b[32m    799\u001b[39m \u001b[43m    \u001b[49m\u001b[43m*\u001b[49m\u001b[43m*\u001b[49m\u001b[43mresponse_kw\u001b[49m\u001b[43m,\u001b[49m\n\u001b[32m    800\u001b[39m \u001b[43m\u001b[49m\u001b[43m)\u001b[49m\n\u001b[32m    802\u001b[39m \u001b[38;5;66;03m# Everything went great!\u001b[39;00m\n\u001b[32m    803\u001b[39m clean_exit = \u001b[38;5;28;01mTrue\u001b[39;00m\n",
      "\u001b[36mFile \u001b[39m\u001b[32mc:\\Users\\justa\\ML\\Weather\\.venv-3.12\\Lib\\site-packages\\urllib3\\connectionpool.py:534\u001b[39m, in \u001b[36mHTTPConnectionPool._make_request\u001b[39m\u001b[34m(self, conn, method, url, body, headers, retries, timeout, chunked, response_conn, preload_content, decode_content, enforce_content_length)\u001b[39m\n\u001b[32m    532\u001b[39m \u001b[38;5;66;03m# Receive the response from the server\u001b[39;00m\n\u001b[32m    533\u001b[39m \u001b[38;5;28;01mtry\u001b[39;00m:\n\u001b[32m--> \u001b[39m\u001b[32m534\u001b[39m     response = \u001b[43mconn\u001b[49m\u001b[43m.\u001b[49m\u001b[43mgetresponse\u001b[49m\u001b[43m(\u001b[49m\u001b[43m)\u001b[49m\n\u001b[32m    535\u001b[39m \u001b[38;5;28;01mexcept\u001b[39;00m (BaseSSLError, \u001b[38;5;167;01mOSError\u001b[39;00m) \u001b[38;5;28;01mas\u001b[39;00m e:\n\u001b[32m    536\u001b[39m     \u001b[38;5;28mself\u001b[39m._raise_timeout(err=e, url=url, timeout_value=read_timeout)\n",
      "\u001b[36mFile \u001b[39m\u001b[32mc:\\Users\\justa\\ML\\Weather\\.venv-3.12\\Lib\\site-packages\\urllib3\\connection.py:516\u001b[39m, in \u001b[36mHTTPConnection.getresponse\u001b[39m\u001b[34m(self)\u001b[39m\n\u001b[32m    513\u001b[39m _shutdown = \u001b[38;5;28mgetattr\u001b[39m(\u001b[38;5;28mself\u001b[39m.sock, \u001b[33m\"\u001b[39m\u001b[33mshutdown\u001b[39m\u001b[33m\"\u001b[39m, \u001b[38;5;28;01mNone\u001b[39;00m)\n\u001b[32m    515\u001b[39m \u001b[38;5;66;03m# Get the response from http.client.HTTPConnection\u001b[39;00m\n\u001b[32m--> \u001b[39m\u001b[32m516\u001b[39m httplib_response = \u001b[38;5;28;43msuper\u001b[39;49m\u001b[43m(\u001b[49m\u001b[43m)\u001b[49m\u001b[43m.\u001b[49m\u001b[43mgetresponse\u001b[49m\u001b[43m(\u001b[49m\u001b[43m)\u001b[49m\n\u001b[32m    518\u001b[39m \u001b[38;5;28;01mtry\u001b[39;00m:\n\u001b[32m    519\u001b[39m     assert_header_parsing(httplib_response.msg)\n",
      "\u001b[36mFile \u001b[39m\u001b[32mC:\\Program Files\\WindowsApps\\PythonSoftwareFoundation.Python.3.12_3.12.2800.0_x64__qbz5n2kfra8p0\\Lib\\http\\client.py:1430\u001b[39m, in \u001b[36mHTTPConnection.getresponse\u001b[39m\u001b[34m(self)\u001b[39m\n\u001b[32m   1428\u001b[39m \u001b[38;5;28;01mtry\u001b[39;00m:\n\u001b[32m   1429\u001b[39m     \u001b[38;5;28;01mtry\u001b[39;00m:\n\u001b[32m-> \u001b[39m\u001b[32m1430\u001b[39m         \u001b[43mresponse\u001b[49m\u001b[43m.\u001b[49m\u001b[43mbegin\u001b[49m\u001b[43m(\u001b[49m\u001b[43m)\u001b[49m\n\u001b[32m   1431\u001b[39m     \u001b[38;5;28;01mexcept\u001b[39;00m \u001b[38;5;167;01mConnectionError\u001b[39;00m:\n\u001b[32m   1432\u001b[39m         \u001b[38;5;28mself\u001b[39m.close()\n",
      "\u001b[36mFile \u001b[39m\u001b[32mC:\\Program Files\\WindowsApps\\PythonSoftwareFoundation.Python.3.12_3.12.2800.0_x64__qbz5n2kfra8p0\\Lib\\http\\client.py:331\u001b[39m, in \u001b[36mHTTPResponse.begin\u001b[39m\u001b[34m(self)\u001b[39m\n\u001b[32m    329\u001b[39m \u001b[38;5;66;03m# read until we get a non-100 response\u001b[39;00m\n\u001b[32m    330\u001b[39m \u001b[38;5;28;01mwhile\u001b[39;00m \u001b[38;5;28;01mTrue\u001b[39;00m:\n\u001b[32m--> \u001b[39m\u001b[32m331\u001b[39m     version, status, reason = \u001b[38;5;28;43mself\u001b[39;49m\u001b[43m.\u001b[49m\u001b[43m_read_status\u001b[49m\u001b[43m(\u001b[49m\u001b[43m)\u001b[49m\n\u001b[32m    332\u001b[39m     \u001b[38;5;28;01mif\u001b[39;00m status != CONTINUE:\n\u001b[32m    333\u001b[39m         \u001b[38;5;28;01mbreak\u001b[39;00m\n",
      "\u001b[36mFile \u001b[39m\u001b[32mC:\\Program Files\\WindowsApps\\PythonSoftwareFoundation.Python.3.12_3.12.2800.0_x64__qbz5n2kfra8p0\\Lib\\http\\client.py:292\u001b[39m, in \u001b[36mHTTPResponse._read_status\u001b[39m\u001b[34m(self)\u001b[39m\n\u001b[32m    291\u001b[39m \u001b[38;5;28;01mdef\u001b[39;00m\u001b[38;5;250m \u001b[39m\u001b[34m_read_status\u001b[39m(\u001b[38;5;28mself\u001b[39m):\n\u001b[32m--> \u001b[39m\u001b[32m292\u001b[39m     line = \u001b[38;5;28mstr\u001b[39m(\u001b[38;5;28;43mself\u001b[39;49m\u001b[43m.\u001b[49m\u001b[43mfp\u001b[49m\u001b[43m.\u001b[49m\u001b[43mreadline\u001b[49m\u001b[43m(\u001b[49m\u001b[43m_MAXLINE\u001b[49m\u001b[43m \u001b[49m\u001b[43m+\u001b[49m\u001b[43m \u001b[49m\u001b[32;43m1\u001b[39;49m\u001b[43m)\u001b[49m, \u001b[33m\"\u001b[39m\u001b[33miso-8859-1\u001b[39m\u001b[33m\"\u001b[39m)\n\u001b[32m    293\u001b[39m     \u001b[38;5;28;01mif\u001b[39;00m \u001b[38;5;28mlen\u001b[39m(line) > _MAXLINE:\n\u001b[32m    294\u001b[39m         \u001b[38;5;28;01mraise\u001b[39;00m LineTooLong(\u001b[33m\"\u001b[39m\u001b[33mstatus line\u001b[39m\u001b[33m\"\u001b[39m)\n",
      "\u001b[36mFile \u001b[39m\u001b[32mC:\\Program Files\\WindowsApps\\PythonSoftwareFoundation.Python.3.12_3.12.2800.0_x64__qbz5n2kfra8p0\\Lib\\socket.py:720\u001b[39m, in \u001b[36mSocketIO.readinto\u001b[39m\u001b[34m(self, b)\u001b[39m\n\u001b[32m    718\u001b[39m \u001b[38;5;28;01mwhile\u001b[39;00m \u001b[38;5;28;01mTrue\u001b[39;00m:\n\u001b[32m    719\u001b[39m     \u001b[38;5;28;01mtry\u001b[39;00m:\n\u001b[32m--> \u001b[39m\u001b[32m720\u001b[39m         \u001b[38;5;28;01mreturn\u001b[39;00m \u001b[38;5;28;43mself\u001b[39;49m\u001b[43m.\u001b[49m\u001b[43m_sock\u001b[49m\u001b[43m.\u001b[49m\u001b[43mrecv_into\u001b[49m\u001b[43m(\u001b[49m\u001b[43mb\u001b[49m\u001b[43m)\u001b[49m\n\u001b[32m    721\u001b[39m     \u001b[38;5;28;01mexcept\u001b[39;00m timeout:\n\u001b[32m    722\u001b[39m         \u001b[38;5;28mself\u001b[39m._timeout_occurred = \u001b[38;5;28;01mTrue\u001b[39;00m\n",
      "\u001b[36mFile \u001b[39m\u001b[32mC:\\Program Files\\WindowsApps\\PythonSoftwareFoundation.Python.3.12_3.12.2800.0_x64__qbz5n2kfra8p0\\Lib\\ssl.py:1251\u001b[39m, in \u001b[36mSSLSocket.recv_into\u001b[39m\u001b[34m(self, buffer, nbytes, flags)\u001b[39m\n\u001b[32m   1247\u001b[39m     \u001b[38;5;28;01mif\u001b[39;00m flags != \u001b[32m0\u001b[39m:\n\u001b[32m   1248\u001b[39m         \u001b[38;5;28;01mraise\u001b[39;00m \u001b[38;5;167;01mValueError\u001b[39;00m(\n\u001b[32m   1249\u001b[39m           \u001b[33m\"\u001b[39m\u001b[33mnon-zero flags not allowed in calls to recv_into() on \u001b[39m\u001b[38;5;132;01m%s\u001b[39;00m\u001b[33m\"\u001b[39m %\n\u001b[32m   1250\u001b[39m           \u001b[38;5;28mself\u001b[39m.\u001b[34m__class__\u001b[39m)\n\u001b[32m-> \u001b[39m\u001b[32m1251\u001b[39m     \u001b[38;5;28;01mreturn\u001b[39;00m \u001b[38;5;28;43mself\u001b[39;49m\u001b[43m.\u001b[49m\u001b[43mread\u001b[49m\u001b[43m(\u001b[49m\u001b[43mnbytes\u001b[49m\u001b[43m,\u001b[49m\u001b[43m \u001b[49m\u001b[43mbuffer\u001b[49m\u001b[43m)\u001b[49m\n\u001b[32m   1252\u001b[39m \u001b[38;5;28;01melse\u001b[39;00m:\n\u001b[32m   1253\u001b[39m     \u001b[38;5;28;01mreturn\u001b[39;00m \u001b[38;5;28msuper\u001b[39m().recv_into(buffer, nbytes, flags)\n",
      "\u001b[36mFile \u001b[39m\u001b[32mC:\\Program Files\\WindowsApps\\PythonSoftwareFoundation.Python.3.12_3.12.2800.0_x64__qbz5n2kfra8p0\\Lib\\ssl.py:1103\u001b[39m, in \u001b[36mSSLSocket.read\u001b[39m\u001b[34m(self, len, buffer)\u001b[39m\n\u001b[32m   1101\u001b[39m \u001b[38;5;28;01mtry\u001b[39;00m:\n\u001b[32m   1102\u001b[39m     \u001b[38;5;28;01mif\u001b[39;00m buffer \u001b[38;5;129;01mis\u001b[39;00m \u001b[38;5;129;01mnot\u001b[39;00m \u001b[38;5;28;01mNone\u001b[39;00m:\n\u001b[32m-> \u001b[39m\u001b[32m1103\u001b[39m         \u001b[38;5;28;01mreturn\u001b[39;00m \u001b[38;5;28;43mself\u001b[39;49m\u001b[43m.\u001b[49m\u001b[43m_sslobj\u001b[49m\u001b[43m.\u001b[49m\u001b[43mread\u001b[49m\u001b[43m(\u001b[49m\u001b[38;5;28;43mlen\u001b[39;49m\u001b[43m,\u001b[49m\u001b[43m \u001b[49m\u001b[43mbuffer\u001b[49m\u001b[43m)\u001b[49m\n\u001b[32m   1104\u001b[39m     \u001b[38;5;28;01melse\u001b[39;00m:\n\u001b[32m   1105\u001b[39m         \u001b[38;5;28;01mreturn\u001b[39;00m \u001b[38;5;28mself\u001b[39m._sslobj.read(\u001b[38;5;28mlen\u001b[39m)\n",
      "\u001b[31mKeyboardInterrupt\u001b[39m: "
     ]
    }
   ],
   "source": [
    "import cdsapi\n",
    "import os\n",
    "import time\n",
    "import traceback\n",
    "from collections import OrderedDict\n",
    "from calendar import monthrange\n",
    "\n",
    "# === SETTINGS ===\n",
    "center_lat = -3.0\n",
    "center_lon = -60.0\n",
    "output_dir = \"brazil\"\n",
    "grid_size = 3  # 3x3 grid\n",
    "step = 0.25\n",
    "variables = ['u10', 'v10', 'd2m', 't2m', 'sp', 'tp']\n",
    "start_year = 2018\n",
    "end_year = 2024\n",
    "max_retries = 2\n",
    "retry_wait = 10  # seconds between retries\n",
    "\n",
    "# === MAKE OUTPUT DIR ===\n",
    "os.makedirs(output_dir, exist_ok=True)\n",
    "\n",
    "def generate_grid(center_lat, center_lon, step, size):\n",
    "    grid = OrderedDict()\n",
    "    half = size // 2\n",
    "    for i in range(size):\n",
    "        for j in range(size):\n",
    "            lat_offset = half - i\n",
    "            lon_offset = j - half\n",
    "            lat = center_lat + lat_offset * step\n",
    "            lon = center_lon + lon_offset * step\n",
    "            label = ''\n",
    "            if lat_offset > 0:\n",
    "                label += 'N' + (str(lat_offset) if lat_offset > 1 else '')\n",
    "            elif lat_offset < 0:\n",
    "                label += 'S' + (str(abs(lat_offset)) if abs(lat_offset) > 1 else '')\n",
    "            if lon_offset > 0:\n",
    "                label += 'E' + (str(lon_offset) if lon_offset > 1 else '')\n",
    "            elif lon_offset < 0:\n",
    "                label += 'W' + (str(abs(lon_offset)) if abs(lon_offset) > 1 else '')\n",
    "            if label == '':\n",
    "                label = 'C'\n",
    "            grid[label.lower()] = (round(lat, 5), round(lon, 5))\n",
    "    return grid\n",
    "\n",
    "def safe_retrieve_csv(point_label, year, months, days, lat, lon, target_path):\n",
    "    for attempt in range(1, max_retries + 1):\n",
    "        try:\n",
    "            c.retrieve(\n",
    "                'reanalysis-era5-single-levels-timeseries',\n",
    "                {\n",
    "                    'format': 'csv',\n",
    "                    'product_type': 'reanalysis',\n",
    "                    'variable': variables,\n",
    "                    'year': str(year),\n",
    "                    'month': [f\"{m:02d}\" for m in months],\n",
    "                    'day': [f\"{d:02d}\" for d in days],\n",
    "                    'time': [f\"{h:02d}:00\" for h in range(24)],\n",
    "                    'longitude': lon,\n",
    "                    'latitude': lat,\n",
    "                },\n",
    "                target_path\n",
    "            )\n",
    "            return True\n",
    "        except Exception as e:\n",
    "            print(f\"  Attempt {attempt} failed for {point_label} year={year}, months={months}, days={days}: {e}\")\n",
    "            traceback.print_exc()\n",
    "            if attempt < max_retries:\n",
    "                print(f\"  Waiting {retry_wait}s then retrying...\")\n",
    "                time.sleep(retry_wait)\n",
    "            else:\n",
    "                print(\"  Max retries reached.\")\n",
    "                return False\n",
    "\n",
    "# === MAIN ===\n",
    "c = cdsapi.Client()\n",
    "grid = generate_grid(center_lat, center_lon, step, grid_size)\n",
    "\n",
    "for label, (lat, lon) in grid.items():\n",
    "    print(\"\\n=== POINT:\", label.upper(), f\"(lat={lat}, lon={lon}) ===\")\n",
    "    for yr in range(start_year, end_year + 1):\n",
    "        out_full = os.path.join(output_dir, f\"{label}_{yr}.csv\")\n",
    "        if os.path.exists(out_full):\n",
    "            print(f\"  [SKIP] {label} {yr} exists\")\n",
    "            continue\n",
    "\n",
    "        print(f\"  Trying full year {yr} for {label}\")\n",
    "        success = safe_retrieve_csv(label, yr, list(range(1, 13)), list(range(1, 32)), lat, lon, out_full)\n",
    "        if success:\n",
    "            print(f\"  ✅ Success: {label} {yr}\")\n",
    "            continue\n",
    "\n",
    "        # Fallback to month\n",
    "        for m in range(1, 13):\n",
    "            out_m = os.path.join(output_dir, f\"{label}_{yr}_{m:02d}.csv\")\n",
    "            if os.path.exists(out_m):\n",
    "                print(f\"    [SKIP] {label} {yr}-{m:02d} exists\")\n",
    "                continue\n",
    "            print(f\"    Trying month {yr}-{m:02d}\")\n",
    "\n",
    "            _, last_day = monthrange(yr, m)\n",
    "            days_in_month = list(range(1, last_day + 1))\n",
    "            success_m = safe_retrieve_csv(label, yr, [m], days_in_month, lat, lon, out_m)\n",
    "            if success_m:\n",
    "                print(f\"    ✅ Success: {label} {yr}-{m:02d}\")\n",
    "                continue\n",
    "\n",
    "            # Fallback to day\n",
    "            for d in days_in_month:\n",
    "                out_d = os.path.join(output_dir, f\"{label}_{yr}_{m:02d}_{d:02d}.csv\")\n",
    "                if os.path.exists(out_d):\n",
    "                    continue\n",
    "                print(f\"      Trying {yr}-{m:02d}-{d:02d}\")\n",
    "                success_d = safe_retrieve_csv(label, yr, [m], [d], lat, lon, out_d)\n",
    "                if success_d:\n",
    "                    print(f\"      ✅ Success {label} {yr}-{m:02d}-{d:02d}\")\n",
    "                else:\n",
    "                    print(f\"      ❌ FAILED {label} {yr}-{m:02d}-{d:02d}\")\n",
    "\n",
    "print(\"\\n✅ All requests attempted.\")\n",
    "\n"
   ]
  },
  {
   "cell_type": "code",
   "execution_count": 9,
   "id": "93738bc3",
   "metadata": {},
   "outputs": [
    {
     "name": "stderr",
     "output_type": "stream",
     "text": [
      "2025-09-25 17:38:04,135 INFO [2025-09-03T00:00:00] To improve our C3S service, we need to hear from you! Please complete this very short [survey](https://confluence.ecmwf.int/x/E7uBEQ/). Thank you.\n",
      "2025-09-25 17:38:04,137 INFO [2024-09-26T00:00:00] Watch our [Forum](https://forum.ecmwf.int/) for Announcements, news and other discussed topics.\n"
     ]
    },
    {
     "name": "stdout",
     "output_type": "stream",
     "text": [
      "\n",
      "🌍 [POINT] N2W2 at (-2.5, -60.5)\n",
      "⬇️  [DOWNLOAD] N2W2 for 2018...\n"
     ]
    },
    {
     "name": "stderr",
     "output_type": "stream",
     "text": [
      "2025-09-25 17:38:04,621 WARNING [2025-03-17T00:00:00] Please be aware that the generation of this dataset is using an alternative source for the ERA5 data and may be subject to changes over time (e.g. file format, data file structure, deprecation etc). This dataset should therefore be regarded as “experimental” and is **not recommended for use in a production environment**. \n",
      "\n",
      "Notification of changes via this catalogue entry banner and/or in the [Forum](https://forum.ecmwf.int/) will be provided on best efforts.\n",
      "2025-09-25 17:38:04,622 INFO Request ID is fe4c35b8-0508-4ec2-91fc-64b71b94a328\n",
      "2025-09-25 17:38:04,697 INFO status has been updated to accepted\n",
      "2025-09-25 17:38:13,249 INFO status has been updated to running\n",
      "2025-09-25 17:38:18,369 INFO status has been updated to failed\n",
      "Traceback (most recent call last):\n",
      "  File \"C:\\Users\\justa\\AppData\\Local\\Temp\\ipykernel_20096\\4222663453.py\", line 63, in <module>\n",
      "    c.retrieve(\n",
      "  File \"c:\\Users\\justa\\ML\\Weather\\.venv-3.12\\Lib\\site-packages\\ecmwf\\datastores\\legacy_client.py\", line 167, in retrieve\n",
      "    submitted = self.client.submit_and_wait_on_results(\n",
      "                ^^^^^^^^^^^^^^^^^^^^^^^^^^^^^^^^^^^^^^^\n",
      "  File \"c:\\Users\\justa\\ML\\Weather\\.venv-3.12\\Lib\\site-packages\\ecmwf\\datastores\\client.py\", line 414, in submit_and_wait_on_results\n",
      "    return self._retrieve_api.submit(collection_id, request).get_results()\n",
      "           ^^^^^^^^^^^^^^^^^^^^^^^^^^^^^^^^^^^^^^^^^^^^^^^^^^^^^^^^^^^^^^^\n",
      "  File \"c:\\Users\\justa\\ML\\Weather\\.venv-3.12\\Lib\\site-packages\\ecmwf\\datastores\\processing.py\", line 495, in get_results\n",
      "    return self._make_results(wait=True)\n",
      "           ^^^^^^^^^^^^^^^^^^^^^^^^^^^^^\n",
      "  File \"c:\\Users\\justa\\ML\\Weather\\.venv-3.12\\Lib\\site-packages\\ecmwf\\datastores\\processing.py\", line 479, in _make_results\n",
      "    self._wait_on_results()\n",
      "  File \"c:\\Users\\justa\\ML\\Weather\\.venv-3.12\\Lib\\site-packages\\ecmwf\\datastores\\processing.py\", line 457, in _wait_on_results\n",
      "    while not self.results_ready:\n",
      "              ^^^^^^^^^^^^^^^^^^\n",
      "  File \"c:\\Users\\justa\\ML\\Weather\\.venv-3.12\\Lib\\site-packages\\ecmwf\\datastores\\processing.py\", line 471, in results_ready\n",
      "    results = self._make_results(wait=False)\n",
      "              ^^^^^^^^^^^^^^^^^^^^^^^^^^^^^^\n",
      "  File \"c:\\Users\\justa\\ML\\Weather\\.venv-3.12\\Lib\\site-packages\\ecmwf\\datastores\\processing.py\", line 485, in _make_results\n",
      "    results = Results.from_request(\"get\", results_url, **self._request_kwargs)\n",
      "              ^^^^^^^^^^^^^^^^^^^^^^^^^^^^^^^^^^^^^^^^^^^^^^^^^^^^^^^^^^^^^^^^\n",
      "  File \"c:\\Users\\justa\\ML\\Weather\\.venv-3.12\\Lib\\site-packages\\ecmwf\\datastores\\processing.py\", line 176, in from_request\n",
      "    cads_raise_for_status(response)\n",
      "  File \"c:\\Users\\justa\\ML\\Weather\\.venv-3.12\\Lib\\site-packages\\ecmwf\\datastores\\processing.py\", line 99, in cads_raise_for_status\n",
      "    raise requests.HTTPError(message, response=response)\n",
      "requests.exceptions.HTTPError: 400 Client Error: Bad Request for url: https://cds.climate.copernicus.eu/api/retrieve/v1/jobs/fe4c35b8-0508-4ec2-91fc-64b71b94a328/results\n",
      "The job has failed\n",
      "The job failed with: MultiAdaptorNoDataError\n"
     ]
    },
    {
     "name": "stdout",
     "output_type": "stream",
     "text": [
      "❌ [FAILED] N2W2 2018: 400 Client Error: Bad Request for url: https://cds.climate.copernicus.eu/api/retrieve/v1/jobs/fe4c35b8-0508-4ec2-91fc-64b71b94a328/results\n",
      "The job has failed\n",
      "The job failed with: MultiAdaptorNoDataError\n",
      "⬇️  [DOWNLOAD] N2W2 for 2019...\n"
     ]
    },
    {
     "name": "stderr",
     "output_type": "stream",
     "text": [
      "2025-09-25 17:38:19,004 WARNING [2025-03-17T00:00:00] Please be aware that the generation of this dataset is using an alternative source for the ERA5 data and may be subject to changes over time (e.g. file format, data file structure, deprecation etc). This dataset should therefore be regarded as “experimental” and is **not recommended for use in a production environment**. \n",
      "\n",
      "Notification of changes via this catalogue entry banner and/or in the [Forum](https://forum.ecmwf.int/) will be provided on best efforts.\n",
      "2025-09-25 17:38:19,005 INFO Request ID is 4d6208de-4601-40ed-9d9e-23291e626cad\n",
      "2025-09-25 17:38:19,085 INFO status has been updated to accepted\n"
     ]
    },
    {
     "ename": "KeyboardInterrupt",
     "evalue": "",
     "output_type": "error",
     "traceback": [
      "\u001b[31m---------------------------------------------------------------------------\u001b[39m",
      "\u001b[31mKeyboardInterrupt\u001b[39m                         Traceback (most recent call last)",
      "\u001b[36mCell\u001b[39m\u001b[36m \u001b[39m\u001b[32mIn[9]\u001b[39m\u001b[32m, line 63\u001b[39m\n\u001b[32m     60\u001b[39m \u001b[38;5;28mprint\u001b[39m(\u001b[33mf\u001b[39m\u001b[33m\"\u001b[39m\u001b[33m⬇️  [DOWNLOAD] \u001b[39m\u001b[38;5;132;01m{\u001b[39;00mlabel.upper()\u001b[38;5;132;01m}\u001b[39;00m\u001b[33m for \u001b[39m\u001b[38;5;132;01m{\u001b[39;00myear\u001b[38;5;132;01m}\u001b[39;00m\u001b[33m...\u001b[39m\u001b[33m\"\u001b[39m)\n\u001b[32m     62\u001b[39m \u001b[38;5;28;01mtry\u001b[39;00m:\n\u001b[32m---> \u001b[39m\u001b[32m63\u001b[39m     \u001b[43mc\u001b[49m\u001b[43m.\u001b[49m\u001b[43mretrieve\u001b[49m\u001b[43m(\u001b[49m\n\u001b[32m     64\u001b[39m \u001b[43m        \u001b[49m\u001b[33;43m'\u001b[39;49m\u001b[33;43mreanalysis-era5-single-levels-timeseries\u001b[39;49m\u001b[33;43m'\u001b[39;49m\u001b[43m,\u001b[49m\n\u001b[32m     65\u001b[39m \u001b[43m        \u001b[49m\u001b[43m{\u001b[49m\n\u001b[32m     66\u001b[39m \u001b[43m            \u001b[49m\u001b[33;43m'\u001b[39;49m\u001b[33;43mformat\u001b[39;49m\u001b[33;43m'\u001b[39;49m\u001b[43m:\u001b[49m\u001b[43m \u001b[49m\u001b[38;5;28;43mformat\u001b[39;49m\u001b[43m,\u001b[49m\n\u001b[32m     67\u001b[39m \u001b[43m            \u001b[49m\u001b[33;43m'\u001b[39;49m\u001b[33;43mproduct_type\u001b[39;49m\u001b[33;43m'\u001b[39;49m\u001b[43m:\u001b[49m\u001b[43m \u001b[49m\u001b[33;43m'\u001b[39;49m\u001b[33;43mreanalysis\u001b[39;49m\u001b[33;43m'\u001b[39;49m\u001b[43m,\u001b[49m\n\u001b[32m     68\u001b[39m \u001b[43m            \u001b[49m\u001b[33;43m'\u001b[39;49m\u001b[33;43mvariable\u001b[39;49m\u001b[33;43m'\u001b[39;49m\u001b[43m:\u001b[49m\u001b[43m \u001b[49m\u001b[43mvariables\u001b[49m\u001b[43m,\u001b[49m\n\u001b[32m     69\u001b[39m \u001b[43m            \u001b[49m\u001b[33;43m'\u001b[39;49m\u001b[33;43myear\u001b[39;49m\u001b[33;43m'\u001b[39;49m\u001b[43m:\u001b[49m\u001b[43m \u001b[49m\u001b[38;5;28;43mstr\u001b[39;49m\u001b[43m(\u001b[49m\u001b[43myear\u001b[49m\u001b[43m)\u001b[49m\u001b[43m,\u001b[49m\n\u001b[32m     70\u001b[39m \u001b[43m            \u001b[49m\u001b[33;43m'\u001b[39;49m\u001b[33;43mmonth\u001b[39;49m\u001b[33;43m'\u001b[39;49m\u001b[43m:\u001b[49m\u001b[43m \u001b[49m\u001b[43m[\u001b[49m\u001b[33;43mf\u001b[39;49m\u001b[33;43m\"\u001b[39;49m\u001b[38;5;132;43;01m{\u001b[39;49;00m\u001b[43mm\u001b[49m\u001b[38;5;132;43;01m:\u001b[39;49;00m\u001b[33;43m02d\u001b[39;49m\u001b[38;5;132;43;01m}\u001b[39;49;00m\u001b[33;43m\"\u001b[39;49m\u001b[43m \u001b[49m\u001b[38;5;28;43;01mfor\u001b[39;49;00m\u001b[43m \u001b[49m\u001b[43mm\u001b[49m\u001b[43m \u001b[49m\u001b[38;5;129;43;01min\u001b[39;49;00m\u001b[43m \u001b[49m\u001b[38;5;28;43mrange\u001b[39;49m\u001b[43m(\u001b[49m\u001b[32;43m1\u001b[39;49m\u001b[43m,\u001b[49m\u001b[43m \u001b[49m\u001b[32;43m13\u001b[39;49m\u001b[43m)\u001b[49m\u001b[43m]\u001b[49m\u001b[43m,\u001b[49m\n\u001b[32m     71\u001b[39m \u001b[43m            \u001b[49m\u001b[33;43m'\u001b[39;49m\u001b[33;43mday\u001b[39;49m\u001b[33;43m'\u001b[39;49m\u001b[43m:\u001b[49m\u001b[43m \u001b[49m\u001b[43m[\u001b[49m\u001b[33;43mf\u001b[39;49m\u001b[33;43m\"\u001b[39;49m\u001b[38;5;132;43;01m{\u001b[39;49;00m\u001b[43md\u001b[49m\u001b[38;5;132;43;01m:\u001b[39;49;00m\u001b[33;43m02d\u001b[39;49m\u001b[38;5;132;43;01m}\u001b[39;49;00m\u001b[33;43m\"\u001b[39;49m\u001b[43m \u001b[49m\u001b[38;5;28;43;01mfor\u001b[39;49;00m\u001b[43m \u001b[49m\u001b[43md\u001b[49m\u001b[43m \u001b[49m\u001b[38;5;129;43;01min\u001b[39;49;00m\u001b[43m \u001b[49m\u001b[38;5;28;43mrange\u001b[39;49m\u001b[43m(\u001b[49m\u001b[32;43m1\u001b[39;49m\u001b[43m,\u001b[49m\u001b[43m \u001b[49m\u001b[32;43m32\u001b[39;49m\u001b[43m)\u001b[49m\u001b[43m]\u001b[49m\u001b[43m,\u001b[49m\n\u001b[32m     72\u001b[39m \u001b[43m            \u001b[49m\u001b[33;43m'\u001b[39;49m\u001b[33;43mtime\u001b[39;49m\u001b[33;43m'\u001b[39;49m\u001b[43m:\u001b[49m\u001b[43m \u001b[49m\u001b[43m[\u001b[49m\u001b[33;43mf\u001b[39;49m\u001b[33;43m\"\u001b[39;49m\u001b[38;5;132;43;01m{\u001b[39;49;00m\u001b[43mh\u001b[49m\u001b[38;5;132;43;01m:\u001b[39;49;00m\u001b[33;43m02d\u001b[39;49m\u001b[38;5;132;43;01m}\u001b[39;49;00m\u001b[33;43m:00\u001b[39;49m\u001b[33;43m\"\u001b[39;49m\u001b[43m \u001b[49m\u001b[38;5;28;43;01mfor\u001b[39;49;00m\u001b[43m \u001b[49m\u001b[43mh\u001b[49m\u001b[43m \u001b[49m\u001b[38;5;129;43;01min\u001b[39;49;00m\u001b[43m \u001b[49m\u001b[38;5;28;43mrange\u001b[39;49m\u001b[43m(\u001b[49m\u001b[32;43m24\u001b[39;49m\u001b[43m)\u001b[49m\u001b[43m]\u001b[49m\u001b[43m,\u001b[49m\n\u001b[32m     73\u001b[39m \u001b[43m            \u001b[49m\u001b[33;43m'\u001b[39;49m\u001b[33;43marea\u001b[39;49m\u001b[33;43m'\u001b[39;49m\u001b[43m:\u001b[49m\u001b[43m \u001b[49m\u001b[43m[\u001b[49m\n\u001b[32m     74\u001b[39m \u001b[43m                \u001b[49m\u001b[43mlat\u001b[49m\u001b[43m \u001b[49m\u001b[43m+\u001b[49m\u001b[43m \u001b[49m\u001b[43mbuffer\u001b[49m\u001b[43m,\u001b[49m\u001b[43m \u001b[49m\u001b[43mlon\u001b[49m\u001b[43m \u001b[49m\u001b[43m-\u001b[49m\u001b[43m \u001b[49m\u001b[43mbuffer\u001b[49m\u001b[43m,\u001b[49m\n\u001b[32m     75\u001b[39m \u001b[43m                \u001b[49m\u001b[43mlat\u001b[49m\u001b[43m \u001b[49m\u001b[43m-\u001b[49m\u001b[43m \u001b[49m\u001b[43mbuffer\u001b[49m\u001b[43m,\u001b[49m\u001b[43m \u001b[49m\u001b[43mlon\u001b[49m\u001b[43m \u001b[49m\u001b[43m+\u001b[49m\u001b[43m \u001b[49m\u001b[43mbuffer\u001b[49m\n\u001b[32m     76\u001b[39m \u001b[43m            \u001b[49m\u001b[43m]\u001b[49m\u001b[43m,\u001b[49m\u001b[43m  \u001b[49m\u001b[38;5;66;43;03m# [north, west, south, east]\u001b[39;49;00m\n\u001b[32m     77\u001b[39m \u001b[43m        \u001b[49m\u001b[43m}\u001b[49m\u001b[43m,\u001b[49m\n\u001b[32m     78\u001b[39m \u001b[43m        \u001b[49m\u001b[43mout_file\u001b[49m\n\u001b[32m     79\u001b[39m \u001b[43m    \u001b[49m\u001b[43m)\u001b[49m\n\u001b[32m     80\u001b[39m     \u001b[38;5;28mprint\u001b[39m(\u001b[33mf\u001b[39m\u001b[33m\"\u001b[39m\u001b[33m✅ [DONE] \u001b[39m\u001b[38;5;132;01m{\u001b[39;00mlabel.upper()\u001b[38;5;132;01m}\u001b[39;00m\u001b[33m \u001b[39m\u001b[38;5;132;01m{\u001b[39;00myear\u001b[38;5;132;01m}\u001b[39;00m\u001b[33m\"\u001b[39m)\n\u001b[32m     81\u001b[39m \u001b[38;5;28;01mexcept\u001b[39;00m \u001b[38;5;167;01mException\u001b[39;00m \u001b[38;5;28;01mas\u001b[39;00m e:\n",
      "\u001b[36mFile \u001b[39m\u001b[32mc:\\Users\\justa\\ML\\Weather\\.venv-3.12\\Lib\\site-packages\\ecmwf\\datastores\\legacy_client.py:167\u001b[39m, in \u001b[36mLegacyClient.retrieve\u001b[39m\u001b[34m(self, name, request, target)\u001b[39m\n\u001b[32m    165\u001b[39m submitted: datastores.Remote | datastores.Results\n\u001b[32m    166\u001b[39m \u001b[38;5;28;01mif\u001b[39;00m \u001b[38;5;28mself\u001b[39m.wait_until_complete:\n\u001b[32m--> \u001b[39m\u001b[32m167\u001b[39m     submitted = \u001b[38;5;28;43mself\u001b[39;49m\u001b[43m.\u001b[49m\u001b[43mclient\u001b[49m\u001b[43m.\u001b[49m\u001b[43msubmit_and_wait_on_results\u001b[49m\u001b[43m(\u001b[49m\n\u001b[32m    168\u001b[39m \u001b[43m        \u001b[49m\u001b[43mcollection_id\u001b[49m\u001b[43m=\u001b[49m\u001b[43mname\u001b[49m\u001b[43m,\u001b[49m\n\u001b[32m    169\u001b[39m \u001b[43m        \u001b[49m\u001b[43mrequest\u001b[49m\u001b[43m=\u001b[49m\u001b[43mrequest\u001b[49m\u001b[43m,\u001b[49m\n\u001b[32m    170\u001b[39m \u001b[43m    \u001b[49m\u001b[43m)\u001b[49m\n\u001b[32m    171\u001b[39m \u001b[38;5;28;01melse\u001b[39;00m:\n\u001b[32m    172\u001b[39m     submitted = \u001b[38;5;28mself\u001b[39m.client.submit(\n\u001b[32m    173\u001b[39m         collection_id=name,\n\u001b[32m    174\u001b[39m         request=request,\n\u001b[32m    175\u001b[39m     )\n",
      "\u001b[36mFile \u001b[39m\u001b[32mc:\\Users\\justa\\ML\\Weather\\.venv-3.12\\Lib\\site-packages\\ecmwf\\datastores\\client.py:414\u001b[39m, in \u001b[36mClient.submit_and_wait_on_results\u001b[39m\u001b[34m(self, collection_id, request)\u001b[39m\n\u001b[32m    398\u001b[39m \u001b[38;5;28;01mdef\u001b[39;00m\u001b[38;5;250m \u001b[39m\u001b[34msubmit_and_wait_on_results\u001b[39m(\n\u001b[32m    399\u001b[39m     \u001b[38;5;28mself\u001b[39m, collection_id: \u001b[38;5;28mstr\u001b[39m, request: \u001b[38;5;28mdict\u001b[39m[\u001b[38;5;28mstr\u001b[39m, Any]\n\u001b[32m    400\u001b[39m ) -> datastores.Results:\n\u001b[32m    401\u001b[39m \u001b[38;5;250m    \u001b[39m\u001b[33;03m\"\"\"Submit a request and wait for the results to be ready.\u001b[39;00m\n\u001b[32m    402\u001b[39m \n\u001b[32m    403\u001b[39m \u001b[33;03m    Parameters\u001b[39;00m\n\u001b[32m   (...)\u001b[39m\u001b[32m    412\u001b[39m \u001b[33;03m    datastores.Results\u001b[39;00m\n\u001b[32m    413\u001b[39m \u001b[33;03m    \"\"\"\u001b[39;00m\n\u001b[32m--> \u001b[39m\u001b[32m414\u001b[39m     \u001b[38;5;28;01mreturn\u001b[39;00m \u001b[38;5;28;43mself\u001b[39;49m\u001b[43m.\u001b[49m\u001b[43m_retrieve_api\u001b[49m\u001b[43m.\u001b[49m\u001b[43msubmit\u001b[49m\u001b[43m(\u001b[49m\u001b[43mcollection_id\u001b[49m\u001b[43m,\u001b[49m\u001b[43m \u001b[49m\u001b[43mrequest\u001b[49m\u001b[43m)\u001b[49m\u001b[43m.\u001b[49m\u001b[43mget_results\u001b[49m\u001b[43m(\u001b[49m\u001b[43m)\u001b[49m\n",
      "\u001b[36mFile \u001b[39m\u001b[32mc:\\Users\\justa\\ML\\Weather\\.venv-3.12\\Lib\\site-packages\\ecmwf\\datastores\\processing.py:495\u001b[39m, in \u001b[36mRemote.get_results\u001b[39m\u001b[34m(self)\u001b[39m\n\u001b[32m    488\u001b[39m \u001b[38;5;28;01mdef\u001b[39;00m\u001b[38;5;250m \u001b[39m\u001b[34mget_results\u001b[39m(\u001b[38;5;28mself\u001b[39m) -> Results:\n\u001b[32m    489\u001b[39m \u001b[38;5;250m    \u001b[39m\u001b[33;03m\"\"\"Retrieve results.\u001b[39;00m\n\u001b[32m    490\u001b[39m \n\u001b[32m    491\u001b[39m \u001b[33;03m    Returns\u001b[39;00m\n\u001b[32m    492\u001b[39m \u001b[33;03m    -------\u001b[39;00m\n\u001b[32m    493\u001b[39m \u001b[33;03m    datastores.Results\u001b[39;00m\n\u001b[32m    494\u001b[39m \u001b[33;03m    \"\"\"\u001b[39;00m\n\u001b[32m--> \u001b[39m\u001b[32m495\u001b[39m     \u001b[38;5;28;01mreturn\u001b[39;00m \u001b[38;5;28;43mself\u001b[39;49m\u001b[43m.\u001b[49m\u001b[43m_make_results\u001b[49m\u001b[43m(\u001b[49m\u001b[43mwait\u001b[49m\u001b[43m=\u001b[49m\u001b[38;5;28;43;01mTrue\u001b[39;49;00m\u001b[43m)\u001b[49m\n",
      "\u001b[36mFile \u001b[39m\u001b[32mc:\\Users\\justa\\ML\\Weather\\.venv-3.12\\Lib\\site-packages\\ecmwf\\datastores\\processing.py:479\u001b[39m, in \u001b[36mRemote._make_results\u001b[39m\u001b[34m(self, wait)\u001b[39m\n\u001b[32m    477\u001b[39m \u001b[38;5;28;01mdef\u001b[39;00m\u001b[38;5;250m \u001b[39m\u001b[34m_make_results\u001b[39m(\u001b[38;5;28mself\u001b[39m, wait: \u001b[38;5;28mbool\u001b[39m) -> Results:\n\u001b[32m    478\u001b[39m     \u001b[38;5;28;01mif\u001b[39;00m wait:\n\u001b[32m--> \u001b[39m\u001b[32m479\u001b[39m         \u001b[38;5;28;43mself\u001b[39;49m\u001b[43m.\u001b[49m\u001b[43m_wait_on_results\u001b[49m\u001b[43m(\u001b[49m\u001b[43m)\u001b[49m\n\u001b[32m    480\u001b[39m     response = \u001b[38;5;28mself\u001b[39m._get_api_response(\u001b[33m\"\u001b[39m\u001b[33mget\u001b[39m\u001b[33m\"\u001b[39m)\n\u001b[32m    481\u001b[39m     \u001b[38;5;28;01mtry\u001b[39;00m:\n",
      "\u001b[36mFile \u001b[39m\u001b[32mc:\\Users\\justa\\ML\\Weather\\.venv-3.12\\Lib\\site-packages\\ecmwf\\datastores\\processing.py:459\u001b[39m, in \u001b[36mRemote._wait_on_results\u001b[39m\u001b[34m(self)\u001b[39m\n\u001b[32m    457\u001b[39m \u001b[38;5;28;01mwhile\u001b[39;00m \u001b[38;5;129;01mnot\u001b[39;00m \u001b[38;5;28mself\u001b[39m.results_ready:\n\u001b[32m    458\u001b[39m     \u001b[38;5;28mself\u001b[39m.debug(\u001b[33mf\u001b[39m\u001b[33m\"\u001b[39m\u001b[33mresults not ready, waiting for \u001b[39m\u001b[38;5;132;01m{\u001b[39;00msleep\u001b[38;5;132;01m}\u001b[39;00m\u001b[33m seconds\u001b[39m\u001b[33m\"\u001b[39m)\n\u001b[32m--> \u001b[39m\u001b[32m459\u001b[39m     \u001b[43mtime\u001b[49m\u001b[43m.\u001b[49m\u001b[43msleep\u001b[49m\u001b[43m(\u001b[49m\u001b[43msleep\u001b[49m\u001b[43m)\u001b[49m\n\u001b[32m    460\u001b[39m     sleep = \u001b[38;5;28mmin\u001b[39m(sleep * \u001b[32m1.5\u001b[39m, \u001b[38;5;28mself\u001b[39m.sleep_max)\n",
      "\u001b[31mKeyboardInterrupt\u001b[39m: "
     ]
    }
   ],
   "source": [
    "import cdsapi\n",
    "import os\n",
    "import time\n",
    "import traceback\n",
    "from collections import OrderedDict\n",
    "\n",
    "# === SETTINGS ===\n",
    "center_lat = -3.0\n",
    "center_lon = -60.0\n",
    "output_dir = \"brazil\"\n",
    "grid_size = 5\n",
    "step = 0.25\n",
    "variables = ['u10', 'v10', 'd2m', 't2m', 'sp', 'tp']\n",
    "start_year = 2018\n",
    "end_year = 2024  # 1 Jan 2025 is exclusive\n",
    "format = 'netcdf'  # safer than CSV\n",
    "buffer = 0.01  # area box size around point\n",
    "\n",
    "# === CREATE OUTPUT DIR ===\n",
    "os.makedirs(output_dir, exist_ok=True)\n",
    "\n",
    "# === GENERATE GRID ===\n",
    "def generate_grid(center_lat, center_lon, step=0.25, size=5):\n",
    "    grid = OrderedDict()\n",
    "    half = size // 2\n",
    "    for i in range(size):\n",
    "        for j in range(size):\n",
    "            lat_offset = half - i\n",
    "            lon_offset = j - half\n",
    "            lat = center_lat + lat_offset * step\n",
    "            lon = center_lon + lon_offset * step\n",
    "            label = ''\n",
    "            if lat_offset > 0:\n",
    "                label += 'N' + (str(lat_offset) if lat_offset > 1 else '')\n",
    "            elif lat_offset < 0:\n",
    "                label += 'S' + (str(abs(lat_offset)) if abs(lat_offset) > 1 else '')\n",
    "            if lon_offset > 0:\n",
    "                label += 'E' + (str(lon_offset) if lon_offset > 1 else '')\n",
    "            elif lon_offset < 0:\n",
    "                label += 'W' + (str(abs(lon_offset)) if abs(lon_offset) > 1 else '')\n",
    "            label = label or 'C'\n",
    "            grid[label.lower()] = (round(lat, 5), round(lon, 5))\n",
    "    return grid\n",
    "\n",
    "# === SETUP CDS API ===\n",
    "c = cdsapi.Client()\n",
    "\n",
    "# === LOOP: Point-by-Year ===\n",
    "grid = generate_grid(center_lat, center_lon, step=step, size=grid_size)\n",
    "\n",
    "for label, (lat, lon) in grid.items():\n",
    "    print(f\"\\n🌍 [POINT] {label.upper()} at ({lat}, {lon})\")\n",
    "\n",
    "    for year in range(start_year, end_year + 1):\n",
    "        out_file = os.path.join(output_dir, f\"{label}_{year}.{format}\")\n",
    "        if os.path.exists(out_file):\n",
    "            print(f\"✅ [SKIP] {label.upper()} {year} already exists.\")\n",
    "            continue\n",
    "\n",
    "        print(f\"⬇️  [DOWNLOAD] {label.upper()} for {year}...\")\n",
    "\n",
    "        try:\n",
    "            c.retrieve(\n",
    "                'reanalysis-era5-single-levels-timeseries',\n",
    "                {\n",
    "                    'format': format,\n",
    "                    'product_type': 'reanalysis',\n",
    "                    'variable': variables,\n",
    "                    'year': str(year),\n",
    "                    'month': [f\"{m:02d}\" for m in range(1, 13)],\n",
    "                    'day': [f\"{d:02d}\" for d in range(1, 32)],\n",
    "                    'time': [f\"{h:02d}:00\" for h in range(24)],\n",
    "                    'area': [\n",
    "                        lat + buffer, lon - buffer,\n",
    "                        lat - buffer, lon + buffer\n",
    "                    ],  # [north, west, south, east]\n",
    "                },\n",
    "                out_file\n",
    "            )\n",
    "            print(f\"✅ [DONE] {label.upper()} {year}\")\n",
    "        except Exception as e:\n",
    "            print(f\"❌ [FAILED] {label.upper()} {year}: {e}\")\n",
    "            traceback.print_exc()\n",
    "            continue\n",
    "\n",
    "print(\"\\n🎉 All downloads attempted.\")\n"
   ]
  },
  {
   "cell_type": "code",
   "execution_count": 8,
   "id": "a9529f36",
   "metadata": {},
   "outputs": [
    {
     "name": "stderr",
     "output_type": "stream",
     "text": [
      "2025-09-25 17:36:35,437 INFO [2025-09-03T00:00:00] To improve our C3S service, we need to hear from you! Please complete this very short [survey](https://confluence.ecmwf.int/x/E7uBEQ/). Thank you.\n",
      "2025-09-25 17:36:35,438 INFO [2024-09-26T00:00:00] Watch our [Forum](https://forum.ecmwf.int/) for Announcements, news and other discussed topics.\n",
      "Traceback (most recent call last):\n",
      "  File \"C:\\Users\\justa\\AppData\\Local\\Temp\\ipykernel_20096\\1284235024.py\", line 49, in safe_retrieve\n",
      "    client.retrieve(\n",
      "  File \"c:\\Users\\justa\\ML\\Weather\\.venv-3.12\\Lib\\site-packages\\ecmwf\\datastores\\legacy_client.py\", line 167, in retrieve\n",
      "    submitted = self.client.submit_and_wait_on_results(\n",
      "                ^^^^^^^^^^^^^^^^^^^^^^^^^^^^^^^^^^^^^^^\n",
      "  File \"c:\\Users\\justa\\ML\\Weather\\.venv-3.12\\Lib\\site-packages\\ecmwf\\datastores\\client.py\", line 414, in submit_and_wait_on_results\n",
      "    return self._retrieve_api.submit(collection_id, request).get_results()\n",
      "           ^^^^^^^^^^^^^^^^^^^^^^^^^^^^^^^^^^^^^^^^^^^^^^^^^\n",
      "  File \"c:\\Users\\justa\\ML\\Weather\\.venv-3.12\\Lib\\site-packages\\ecmwf\\datastores\\processing.py\", line 735, in submit\n",
      "    return self.get_process(collection_id).submit(request)\n",
      "           ^^^^^^^^^^^^^^^^^^^^^^^^^^^^^^^^^^^^^^^^^^^^^^^\n",
      "  File \"c:\\Users\\justa\\ML\\Weather\\.venv-3.12\\Lib\\site-packages\\ecmwf\\datastores\\processing.py\", line 316, in submit\n",
      "    job = Job.from_request(\n",
      "          ^^^^^^^^^^^^^^^^^\n",
      "  File \"c:\\Users\\justa\\ML\\Weather\\.venv-3.12\\Lib\\site-packages\\ecmwf\\datastores\\processing.py\", line 176, in from_request\n",
      "    cads_raise_for_status(response)\n",
      "  File \"c:\\Users\\justa\\ML\\Weather\\.venv-3.12\\Lib\\site-packages\\ecmwf\\datastores\\processing.py\", line 99, in cads_raise_for_status\n",
      "    raise requests.HTTPError(message, response=response)\n",
      "requests.exceptions.HTTPError: 403 Client Error: Forbidden for url: https://cds.climate.copernicus.eu/api/retrieve/v1/processes/reanalysis-era5-single-levels-timeseries/execution\n",
      "cost limits exceeded\n",
      "Your request is too large, please reduce your selection.\n"
     ]
    },
    {
     "name": "stdout",
     "output_type": "stream",
     "text": [
      "\n",
      "[TRY FULL RANGE] N2W2 @ (-2.5, -60.5)\n",
      "Attempt 1 failed: 403 Client Error: Forbidden for url: https://cds.climate.copernicus.eu/api/retrieve/v1/processes/reanalysis-era5-single-levels-timeseries/execution\n",
      "cost limits exceeded\n",
      "Your request is too large, please reduce your selection.\n",
      "Retrying in 30 seconds...\n"
     ]
    },
    {
     "ename": "KeyboardInterrupt",
     "evalue": "",
     "output_type": "error",
     "traceback": [
      "\u001b[31m---------------------------------------------------------------------------\u001b[39m",
      "\u001b[31mHTTPError\u001b[39m                                 Traceback (most recent call last)",
      "\u001b[36mCell\u001b[39m\u001b[36m \u001b[39m\u001b[32mIn[8]\u001b[39m\u001b[32m, line 49\u001b[39m, in \u001b[36msafe_retrieve\u001b[39m\u001b[34m(client, request_kwargs, target_path)\u001b[39m\n\u001b[32m     48\u001b[39m \u001b[38;5;28;01mtry\u001b[39;00m:\n\u001b[32m---> \u001b[39m\u001b[32m49\u001b[39m     \u001b[43mclient\u001b[49m\u001b[43m.\u001b[49m\u001b[43mretrieve\u001b[49m\u001b[43m(\u001b[49m\n\u001b[32m     50\u001b[39m \u001b[43m        \u001b[49m\u001b[33;43m'\u001b[39;49m\u001b[33;43mreanalysis-era5-single-levels-timeseries\u001b[39;49m\u001b[33;43m'\u001b[39;49m\u001b[43m,\u001b[49m\n\u001b[32m     51\u001b[39m \u001b[43m        \u001b[49m\u001b[43mrequest_kwargs\u001b[49m\u001b[43m,\u001b[49m\n\u001b[32m     52\u001b[39m \u001b[43m        \u001b[49m\u001b[43mtarget_path\u001b[49m\n\u001b[32m     53\u001b[39m \u001b[43m    \u001b[49m\u001b[43m)\u001b[49m\n\u001b[32m     54\u001b[39m     \u001b[38;5;28;01mreturn\u001b[39;00m  \u001b[38;5;66;03m# success\u001b[39;00m\n",
      "\u001b[36mFile \u001b[39m\u001b[32mc:\\Users\\justa\\ML\\Weather\\.venv-3.12\\Lib\\site-packages\\ecmwf\\datastores\\legacy_client.py:167\u001b[39m, in \u001b[36mLegacyClient.retrieve\u001b[39m\u001b[34m(self, name, request, target)\u001b[39m\n\u001b[32m    166\u001b[39m \u001b[38;5;28;01mif\u001b[39;00m \u001b[38;5;28mself\u001b[39m.wait_until_complete:\n\u001b[32m--> \u001b[39m\u001b[32m167\u001b[39m     submitted = \u001b[38;5;28;43mself\u001b[39;49m\u001b[43m.\u001b[49m\u001b[43mclient\u001b[49m\u001b[43m.\u001b[49m\u001b[43msubmit_and_wait_on_results\u001b[49m\u001b[43m(\u001b[49m\n\u001b[32m    168\u001b[39m \u001b[43m        \u001b[49m\u001b[43mcollection_id\u001b[49m\u001b[43m=\u001b[49m\u001b[43mname\u001b[49m\u001b[43m,\u001b[49m\n\u001b[32m    169\u001b[39m \u001b[43m        \u001b[49m\u001b[43mrequest\u001b[49m\u001b[43m=\u001b[49m\u001b[43mrequest\u001b[49m\u001b[43m,\u001b[49m\n\u001b[32m    170\u001b[39m \u001b[43m    \u001b[49m\u001b[43m)\u001b[49m\n\u001b[32m    171\u001b[39m \u001b[38;5;28;01melse\u001b[39;00m:\n",
      "\u001b[36mFile \u001b[39m\u001b[32mc:\\Users\\justa\\ML\\Weather\\.venv-3.12\\Lib\\site-packages\\ecmwf\\datastores\\client.py:414\u001b[39m, in \u001b[36mClient.submit_and_wait_on_results\u001b[39m\u001b[34m(self, collection_id, request)\u001b[39m\n\u001b[32m    401\u001b[39m \u001b[38;5;250m\u001b[39m\u001b[33;03m\"\"\"Submit a request and wait for the results to be ready.\u001b[39;00m\n\u001b[32m    402\u001b[39m \n\u001b[32m    403\u001b[39m \u001b[33;03mParameters\u001b[39;00m\n\u001b[32m   (...)\u001b[39m\u001b[32m    412\u001b[39m \u001b[33;03mdatastores.Results\u001b[39;00m\n\u001b[32m    413\u001b[39m \u001b[33;03m\"\"\"\u001b[39;00m\n\u001b[32m--> \u001b[39m\u001b[32m414\u001b[39m \u001b[38;5;28;01mreturn\u001b[39;00m \u001b[38;5;28;43mself\u001b[39;49m\u001b[43m.\u001b[49m\u001b[43m_retrieve_api\u001b[49m\u001b[43m.\u001b[49m\u001b[43msubmit\u001b[49m\u001b[43m(\u001b[49m\u001b[43mcollection_id\u001b[49m\u001b[43m,\u001b[49m\u001b[43m \u001b[49m\u001b[43mrequest\u001b[49m\u001b[43m)\u001b[49m.get_results()\n",
      "\u001b[36mFile \u001b[39m\u001b[32mc:\\Users\\justa\\ML\\Weather\\.venv-3.12\\Lib\\site-packages\\ecmwf\\datastores\\processing.py:735\u001b[39m, in \u001b[36mProcessing.submit\u001b[39m\u001b[34m(self, collection_id, request)\u001b[39m\n\u001b[32m    734\u001b[39m \u001b[38;5;28;01mdef\u001b[39;00m\u001b[38;5;250m \u001b[39m\u001b[34msubmit\u001b[39m(\u001b[38;5;28mself\u001b[39m, collection_id: \u001b[38;5;28mstr\u001b[39m, request: \u001b[38;5;28mdict\u001b[39m[\u001b[38;5;28mstr\u001b[39m, Any]) -> Remote:\n\u001b[32m--> \u001b[39m\u001b[32m735\u001b[39m     \u001b[38;5;28;01mreturn\u001b[39;00m \u001b[38;5;28;43mself\u001b[39;49m\u001b[43m.\u001b[49m\u001b[43mget_process\u001b[49m\u001b[43m(\u001b[49m\u001b[43mcollection_id\u001b[49m\u001b[43m)\u001b[49m\u001b[43m.\u001b[49m\u001b[43msubmit\u001b[49m\u001b[43m(\u001b[49m\u001b[43mrequest\u001b[49m\u001b[43m)\u001b[49m\n",
      "\u001b[36mFile \u001b[39m\u001b[32mc:\\Users\\justa\\ML\\Weather\\.venv-3.12\\Lib\\site-packages\\ecmwf\\datastores\\processing.py:316\u001b[39m, in \u001b[36mProcess.submit\u001b[39m\u001b[34m(self, request)\u001b[39m\n\u001b[32m    305\u001b[39m \u001b[38;5;250m\u001b[39m\u001b[33;03m\"\"\"Submit a request.\u001b[39;00m\n\u001b[32m    306\u001b[39m \n\u001b[32m    307\u001b[39m \u001b[33;03mParameters\u001b[39;00m\n\u001b[32m   (...)\u001b[39m\u001b[32m    314\u001b[39m \u001b[33;03mdatastores.Remote\u001b[39;00m\n\u001b[32m    315\u001b[39m \u001b[33;03m\"\"\"\u001b[39;00m\n\u001b[32m--> \u001b[39m\u001b[32m316\u001b[39m job = \u001b[43mJob\u001b[49m\u001b[43m.\u001b[49m\u001b[43mfrom_request\u001b[49m\u001b[43m(\u001b[49m\n\u001b[32m    317\u001b[39m \u001b[43m    \u001b[49m\u001b[33;43m\"\u001b[39;49m\u001b[33;43mpost\u001b[39;49m\u001b[33;43m\"\u001b[39;49m\u001b[43m,\u001b[49m\n\u001b[32m    318\u001b[39m \u001b[43m    \u001b[49m\u001b[33;43mf\u001b[39;49m\u001b[33;43m\"\u001b[39;49m\u001b[38;5;132;43;01m{\u001b[39;49;00m\u001b[38;5;28;43mself\u001b[39;49m\u001b[43m.\u001b[49m\u001b[43murl\u001b[49m\u001b[38;5;132;43;01m}\u001b[39;49;00m\u001b[33;43m/execution\u001b[39;49m\u001b[33;43m\"\u001b[39;49m\u001b[43m,\u001b[49m\n\u001b[32m    319\u001b[39m \u001b[43m    \u001b[49m\u001b[43mjson\u001b[49m\u001b[43m=\u001b[49m\u001b[43m{\u001b[49m\u001b[33;43m\"\u001b[39;49m\u001b[33;43minputs\u001b[39;49m\u001b[33;43m\"\u001b[39;49m\u001b[43m:\u001b[49m\u001b[43m \u001b[49m\u001b[43mrequest\u001b[49m\u001b[43m}\u001b[49m\u001b[43m,\u001b[49m\n\u001b[32m    320\u001b[39m \u001b[43m    \u001b[49m\u001b[43m*\u001b[49m\u001b[43m*\u001b[49m\u001b[38;5;28;43mself\u001b[39;49m\u001b[43m.\u001b[49m\u001b[43m_request_kwargs\u001b[49m\u001b[43m,\u001b[49m\n\u001b[32m    321\u001b[39m \u001b[43m\u001b[49m\u001b[43m)\u001b[49m\n\u001b[32m    322\u001b[39m \u001b[38;5;28;01mreturn\u001b[39;00m job.get_remote()\n",
      "\u001b[36mFile \u001b[39m\u001b[32mc:\\Users\\justa\\ML\\Weather\\.venv-3.12\\Lib\\site-packages\\ecmwf\\datastores\\processing.py:176\u001b[39m, in \u001b[36mApiResponse.from_request\u001b[39m\u001b[34m(cls, method, url, headers, session, retry_options, request_options, download_options, sleep_max, cleanup, log_callback, log_messages, **kwargs)\u001b[39m\n\u001b[32m    174\u001b[39m log(logging.DEBUG, \u001b[33mf\u001b[39m\u001b[33m\"\u001b[39m\u001b[33mREPLY \u001b[39m\u001b[38;5;132;01m{\u001b[39;00mresponse.text\u001b[38;5;132;01m}\u001b[39;00m\u001b[33m\"\u001b[39m, callback=log_callback)\n\u001b[32m--> \u001b[39m\u001b[32m176\u001b[39m \u001b[43mcads_raise_for_status\u001b[49m\u001b[43m(\u001b[49m\u001b[43mresponse\u001b[49m\u001b[43m)\u001b[49m\n\u001b[32m    178\u001b[39m \u001b[38;5;28mself\u001b[39m = \u001b[38;5;28mcls\u001b[39m(\n\u001b[32m    179\u001b[39m     response,\n\u001b[32m    180\u001b[39m     headers=headers,\n\u001b[32m   (...)\u001b[39m\u001b[32m    187\u001b[39m     log_callback=log_callback,\n\u001b[32m    188\u001b[39m )\n",
      "\u001b[36mFile \u001b[39m\u001b[32mc:\\Users\\justa\\ML\\Weather\\.venv-3.12\\Lib\\site-packages\\ecmwf\\datastores\\processing.py:99\u001b[39m, in \u001b[36mcads_raise_for_status\u001b[39m\u001b[34m(response)\u001b[39m\n\u001b[32m     93\u001b[39m         message = \u001b[33m\"\u001b[39m\u001b[38;5;130;01m\\n\u001b[39;00m\u001b[33m\"\u001b[39m.join(\n\u001b[32m     94\u001b[39m             [\n\u001b[32m     95\u001b[39m                 \u001b[33mf\u001b[39m\u001b[33m\"\u001b[39m\u001b[38;5;132;01m{\u001b[39;00mresponse.status_code\u001b[38;5;132;01m}\u001b[39;00m\u001b[33m Client Error: \u001b[39m\u001b[38;5;132;01m{\u001b[39;00mresponse.reason\u001b[38;5;132;01m}\u001b[39;00m\u001b[33m for url: \u001b[39m\u001b[38;5;132;01m{\u001b[39;00mresponse.url\u001b[38;5;132;01m}\u001b[39;00m\u001b[33m\"\u001b[39m,\n\u001b[32m     96\u001b[39m                 error_json_to_message(error_json),\n\u001b[32m     97\u001b[39m             ]\n\u001b[32m     98\u001b[39m         )\n\u001b[32m---> \u001b[39m\u001b[32m99\u001b[39m         \u001b[38;5;28;01mraise\u001b[39;00m requests.HTTPError(message, response=response)\n\u001b[32m    100\u001b[39m response.raise_for_status()\n",
      "\u001b[31mHTTPError\u001b[39m: 403 Client Error: Forbidden for url: https://cds.climate.copernicus.eu/api/retrieve/v1/processes/reanalysis-era5-single-levels-timeseries/execution\ncost limits exceeded\nYour request is too large, please reduce your selection.",
      "\nDuring handling of the above exception, another exception occurred:\n",
      "\u001b[31mKeyboardInterrupt\u001b[39m                         Traceback (most recent call last)",
      "\u001b[36mCell\u001b[39m\u001b[36m \u001b[39m\u001b[32mIn[8]\u001b[39m\u001b[32m, line 96\u001b[39m\n\u001b[32m     84\u001b[39m full_request = {\n\u001b[32m     85\u001b[39m     \u001b[33m'\u001b[39m\u001b[33mformat\u001b[39m\u001b[33m'\u001b[39m: \u001b[33m'\u001b[39m\u001b[33mnetcdf\u001b[39m\u001b[33m'\u001b[39m,\n\u001b[32m     86\u001b[39m     \u001b[33m'\u001b[39m\u001b[33mproduct_type\u001b[39m\u001b[33m'\u001b[39m: \u001b[33m'\u001b[39m\u001b[33mreanalysis\u001b[39m\u001b[33m'\u001b[39m,\n\u001b[32m   (...)\u001b[39m\u001b[32m     92\u001b[39m     \u001b[33m'\u001b[39m\u001b[33marea\u001b[39m\u001b[33m'\u001b[39m: area,\n\u001b[32m     93\u001b[39m }\n\u001b[32m     95\u001b[39m \u001b[38;5;28;01mtry\u001b[39;00m:\n\u001b[32m---> \u001b[39m\u001b[32m96\u001b[39m     \u001b[43msafe_retrieve\u001b[49m\u001b[43m(\u001b[49m\u001b[43mc\u001b[49m\u001b[43m,\u001b[49m\u001b[43m \u001b[49m\u001b[43mfull_request\u001b[49m\u001b[43m,\u001b[49m\u001b[43m \u001b[49m\u001b[43mfull_path\u001b[49m\u001b[43m)\u001b[49m\n\u001b[32m     97\u001b[39m     \u001b[38;5;28mprint\u001b[39m(\u001b[33mf\u001b[39m\u001b[33m\"\u001b[39m\u001b[33m[SUCCESS] Full-range \u001b[39m\u001b[38;5;132;01m{\u001b[39;00mlabel\u001b[38;5;132;01m}\u001b[39;00m\u001b[33m saved to \u001b[39m\u001b[38;5;132;01m{\u001b[39;00mfull_path\u001b[38;5;132;01m}\u001b[39;00m\u001b[33m\"\u001b[39m)\n\u001b[32m     98\u001b[39m     \u001b[38;5;28;01mcontinue\u001b[39;00m\n",
      "\u001b[36mCell\u001b[39m\u001b[36m \u001b[39m\u001b[32mIn[8]\u001b[39m\u001b[32m, line 60\u001b[39m, in \u001b[36msafe_retrieve\u001b[39m\u001b[34m(client, request_kwargs, target_path)\u001b[39m\n\u001b[32m     58\u001b[39m \u001b[38;5;28;01mif\u001b[39;00m attempt < max_retries:\n\u001b[32m     59\u001b[39m     \u001b[38;5;28mprint\u001b[39m(\u001b[33mf\u001b[39m\u001b[33m\"\u001b[39m\u001b[33mRetrying in \u001b[39m\u001b[38;5;132;01m{\u001b[39;00mretry_delay\u001b[38;5;132;01m}\u001b[39;00m\u001b[33m seconds...\u001b[39m\u001b[33m\"\u001b[39m)\n\u001b[32m---> \u001b[39m\u001b[32m60\u001b[39m     \u001b[43mtime\u001b[49m\u001b[43m.\u001b[49m\u001b[43msleep\u001b[49m\u001b[43m(\u001b[49m\u001b[43mretry_delay\u001b[49m\u001b[43m)\u001b[49m\n\u001b[32m     61\u001b[39m \u001b[38;5;28;01melse\u001b[39;00m:\n\u001b[32m     62\u001b[39m     \u001b[38;5;28mprint\u001b[39m(\u001b[33m\"\u001b[39m\u001b[33mMax retries reached, giving up.\u001b[39m\u001b[33m\"\u001b[39m)\n",
      "\u001b[31mKeyboardInterrupt\u001b[39m: "
     ]
    }
   ],
   "source": [
    "import cdsapi\n",
    "import os\n",
    "import time\n",
    "import traceback\n",
    "from collections import OrderedDict\n",
    "\n",
    "# === SETTINGS ===\n",
    "center_lat = -3.0\n",
    "center_lon = -60.0\n",
    "output_dir = \"brazil\"\n",
    "grid_size = 5\n",
    "step = 0.25\n",
    "variables = ['u10', 'v10', 'd2m', 't2m', 'sp', 'tp']\n",
    "start_year = 2018\n",
    "end_year = 2025  # inclusive\n",
    "# How many retries per request\n",
    "max_retries = 3\n",
    "retry_delay = 30  # seconds\n",
    "\n",
    "# === CREATE OUTPUT DIR ===\n",
    "os.makedirs(output_dir, exist_ok=True)\n",
    "\n",
    "def generate_grid(center_lat, center_lon, step=0.25, size=5):\n",
    "    grid = OrderedDict()\n",
    "    half = size // 2\n",
    "    for i in range(size):\n",
    "        for j in range(size):\n",
    "            lat_offset = half - i\n",
    "            lon_offset = j - half\n",
    "            lat = center_lat + lat_offset * step\n",
    "            lon = center_lon + lon_offset * step\n",
    "            label = ''\n",
    "            if lat_offset > 0:\n",
    "                label += 'N' + (str(lat_offset) if lat_offset > 1 else '')\n",
    "            elif lat_offset < 0:\n",
    "                label += 'S' + (str(abs(lat_offset)) if abs(lat_offset) > 1 else '')\n",
    "            if lon_offset > 0:\n",
    "                label += 'E' + (str(lon_offset) if lon_offset > 1 else '')\n",
    "            elif lon_offset < 0:\n",
    "                label += 'W' + (str(abs(lon_offset)) if abs(lon_offset) > 1 else '')\n",
    "            label = label or 'C'\n",
    "            grid[label.lower()] = (round(lat, 5), round(lon, 5))\n",
    "    return grid\n",
    "\n",
    "def safe_retrieve(client, request_kwargs, target_path):\n",
    "    \"\"\"Try to retrieve with some retries; raise last exception if all fail.\"\"\"\n",
    "    for attempt in range(1, max_retries + 1):\n",
    "        try:\n",
    "            client.retrieve(\n",
    "                'reanalysis-era5-single-levels-timeseries',\n",
    "                request_kwargs,\n",
    "                target_path\n",
    "            )\n",
    "            return  # success\n",
    "        except Exception as e:\n",
    "            print(f\"Attempt {attempt} failed: {e}\")\n",
    "            traceback.print_exc()\n",
    "            if attempt < max_retries:\n",
    "                print(f\"Retrying in {retry_delay} seconds...\")\n",
    "                time.sleep(retry_delay)\n",
    "            else:\n",
    "                print(\"Max retries reached, giving up.\")\n",
    "                raise\n",
    "\n",
    "# === CDS API CLIENT (with verbosity) ===\n",
    "c = cdsapi.Client(timeout=600, quiet=False)\n",
    "\n",
    "grid = generate_grid(center_lat, center_lon, step=step, size=grid_size)\n",
    "\n",
    "for label, (lat, lon) in grid.items():\n",
    "    # First try full range for this point\n",
    "    full_path = os.path.join(output_dir, f\"{label}.nc\")\n",
    "    if os.path.exists(full_path):\n",
    "        print(f\"[SKIP] {label} full-range already exists.\")\n",
    "        continue\n",
    "\n",
    "    print(f\"\\n[TRY FULL RANGE] {label.upper()} @ ({lat}, {lon})\")\n",
    "\n",
    "    # tiny buffer around the point\n",
    "    d = 0.001\n",
    "    # area must be [north, west, south, east]\n",
    "    area = [lat + d, lon - d, lat - d, lon + d]\n",
    "\n",
    "    full_request = {\n",
    "        'format': 'netcdf',\n",
    "        'product_type': 'reanalysis',\n",
    "        'variable': variables,\n",
    "        'year': [str(y) for y in range(start_year, end_year + 1)],\n",
    "        'month': [f\"{m:02d}\" for m in range(1, 13)],\n",
    "        'day': [f\"{d:02d}\" for d in range(1, 32)],\n",
    "        'time': [f\"{h:02d}:00\" for h in range(24)],\n",
    "        'area': area,\n",
    "    }\n",
    "\n",
    "    try:\n",
    "        safe_retrieve(c, full_request, full_path)\n",
    "        print(f\"[SUCCESS] Full-range {label} saved to {full_path}\")\n",
    "        continue\n",
    "    except Exception as e_full:\n",
    "        print(f\"[FULL RANGE FAILED] {label}: {e_full}\")\n",
    "        # fallback to year-by-year\n",
    "        for yr in range(start_year, end_year + 1):\n",
    "            year_path = os.path.join(output_dir, f\"{label}_{yr}.nc\")\n",
    "            if os.path.exists(year_path):\n",
    "                print(f\"[SKIP] {label} {yr} exists.\")\n",
    "                continue\n",
    "            print(f\"[TRY YEAR] {label.upper()} {yr}\")\n",
    "            req = {\n",
    "                'format': 'netcdf',\n",
    "                'product_type': 'reanalysis',\n",
    "                'variable': variables,\n",
    "                'year': str(yr),\n",
    "                'month': [f\"{m:02d}\" for m in range(1, 13)],\n",
    "                'day': [f\"{d:02d}\" for d in range(1, 32)],\n",
    "                'time': [f\"{h:02d}:00\" for h in range(24)],\n",
    "                'area': area,\n",
    "            }\n",
    "            try:\n",
    "                safe_retrieve(c, req, year_path)\n",
    "                print(f\"[SUCCESS] {label} {yr} -> {year_path}\")\n",
    "            except Exception as e_year:\n",
    "                print(f\"[ERROR] {label} {yr} failed: {e_year}\")\n",
    "\n",
    "print(\"\\n✅ Finished all grid points.\")\n"
   ]
  },
  {
   "cell_type": "code",
   "execution_count": 6,
   "id": "a204ad87",
   "metadata": {},
   "outputs": [
    {
     "name": "stderr",
     "output_type": "stream",
     "text": [
      "2025-09-25 17:20:21,038 INFO [2025-09-03T00:00:00] To improve our C3S service, we need to hear from you! Please complete this very short [survey](https://confluence.ecmwf.int/x/E7uBEQ/). Thank you.\n",
      "2025-09-25 17:20:21,039 INFO [2024-09-26T00:00:00] Watch our [Forum](https://forum.ecmwf.int/) for Announcements, news and other discussed topics.\n"
     ]
    },
    {
     "name": "stdout",
     "output_type": "stream",
     "text": [
      "[DOWNLOAD] N2W2 at (-2.5, -60.5)\n"
     ]
    },
    {
     "ename": "HTTPError",
     "evalue": "403 Client Error: Forbidden for url: https://cds.climate.copernicus.eu/api/retrieve/v1/processes/reanalysis-era5-single-levels-timeseries/execution\ncost limits exceeded\nYour request is too large, please reduce your selection.",
     "output_type": "error",
     "traceback": [
      "\u001b[31m---------------------------------------------------------------------------\u001b[39m",
      "\u001b[31mHTTPError\u001b[39m                                 Traceback (most recent call last)",
      "\u001b[36mCell\u001b[39m\u001b[36m \u001b[39m\u001b[32mIn[6]\u001b[39m\u001b[32m, line 61\u001b[39m\n\u001b[32m     57\u001b[39m         \u001b[38;5;28;01mcontinue\u001b[39;00m\n\u001b[32m     59\u001b[39m     \u001b[38;5;28mprint\u001b[39m(\u001b[33mf\u001b[39m\u001b[33m\"\u001b[39m\u001b[33m[DOWNLOAD] \u001b[39m\u001b[38;5;132;01m{\u001b[39;00mlabel.upper()\u001b[38;5;132;01m}\u001b[39;00m\u001b[33m at (\u001b[39m\u001b[38;5;132;01m{\u001b[39;00mlat\u001b[38;5;132;01m}\u001b[39;00m\u001b[33m, \u001b[39m\u001b[38;5;132;01m{\u001b[39;00mlon\u001b[38;5;132;01m}\u001b[39;00m\u001b[33m)\u001b[39m\u001b[33m\"\u001b[39m)  \u001b[38;5;66;03m# Print uppercase for readability\u001b[39;00m\n\u001b[32m---> \u001b[39m\u001b[32m61\u001b[39m     \u001b[43mc\u001b[49m\u001b[43m.\u001b[49m\u001b[43mretrieve\u001b[49m\u001b[43m(\u001b[49m\n\u001b[32m     62\u001b[39m \u001b[43m        \u001b[49m\u001b[33;43m'\u001b[39;49m\u001b[33;43mreanalysis-era5-single-levels-timeseries\u001b[39;49m\u001b[33;43m'\u001b[39;49m\u001b[43m,\u001b[49m\n\u001b[32m     63\u001b[39m \u001b[43m        \u001b[49m\u001b[43m{\u001b[49m\n\u001b[32m     64\u001b[39m \u001b[43m            \u001b[49m\u001b[33;43m'\u001b[39;49m\u001b[33;43mformat\u001b[39;49m\u001b[33;43m'\u001b[39;49m\u001b[43m:\u001b[49m\u001b[43m \u001b[49m\u001b[33;43m'\u001b[39;49m\u001b[33;43mcsv\u001b[39;49m\u001b[33;43m'\u001b[39;49m\u001b[43m,\u001b[49m\n\u001b[32m     65\u001b[39m \u001b[43m            \u001b[49m\u001b[33;43m'\u001b[39;49m\u001b[33;43mproduct_type\u001b[39;49m\u001b[33;43m'\u001b[39;49m\u001b[43m:\u001b[49m\u001b[43m \u001b[49m\u001b[33;43m'\u001b[39;49m\u001b[33;43mreanalysis\u001b[39;49m\u001b[33;43m'\u001b[39;49m\u001b[43m,\u001b[49m\n\u001b[32m     66\u001b[39m \u001b[43m            \u001b[49m\u001b[33;43m'\u001b[39;49m\u001b[33;43mvariable\u001b[39;49m\u001b[33;43m'\u001b[39;49m\u001b[43m:\u001b[49m\u001b[43m \u001b[49m\u001b[43mvariables\u001b[49m\u001b[43m,\u001b[49m\n\u001b[32m     67\u001b[39m \u001b[43m            \u001b[49m\u001b[33;43m'\u001b[39;49m\u001b[33;43myear\u001b[39;49m\u001b[33;43m'\u001b[39;49m\u001b[43m:\u001b[49m\u001b[43m \u001b[49m\u001b[43m[\u001b[49m\u001b[38;5;28;43mstr\u001b[39;49m\u001b[43m(\u001b[49m\u001b[43my\u001b[49m\u001b[43m)\u001b[49m\u001b[43m \u001b[49m\u001b[38;5;28;43;01mfor\u001b[39;49;00m\u001b[43m \u001b[49m\u001b[43my\u001b[49m\u001b[43m \u001b[49m\u001b[38;5;129;43;01min\u001b[39;49;00m\u001b[43m \u001b[49m\u001b[38;5;28;43mrange\u001b[39;49m\u001b[43m(\u001b[49m\u001b[32;43m2018\u001b[39;49m\u001b[43m,\u001b[49m\u001b[43m \u001b[49m\u001b[32;43m2026\u001b[39;49m\u001b[43m)\u001b[49m\u001b[43m]\u001b[49m\u001b[43m,\u001b[49m\n\u001b[32m     68\u001b[39m \u001b[43m            \u001b[49m\u001b[33;43m'\u001b[39;49m\u001b[33;43mmonth\u001b[39;49m\u001b[33;43m'\u001b[39;49m\u001b[43m:\u001b[49m\u001b[43m \u001b[49m\u001b[43m[\u001b[49m\u001b[33;43mf\u001b[39;49m\u001b[33;43m\"\u001b[39;49m\u001b[38;5;132;43;01m{\u001b[39;49;00m\u001b[43mm\u001b[49m\u001b[38;5;132;43;01m:\u001b[39;49;00m\u001b[33;43m02d\u001b[39;49m\u001b[38;5;132;43;01m}\u001b[39;49;00m\u001b[33;43m\"\u001b[39;49m\u001b[43m \u001b[49m\u001b[38;5;28;43;01mfor\u001b[39;49;00m\u001b[43m \u001b[49m\u001b[43mm\u001b[49m\u001b[43m \u001b[49m\u001b[38;5;129;43;01min\u001b[39;49;00m\u001b[43m \u001b[49m\u001b[38;5;28;43mrange\u001b[39;49m\u001b[43m(\u001b[49m\u001b[32;43m1\u001b[39;49m\u001b[43m,\u001b[49m\u001b[43m \u001b[49m\u001b[32;43m13\u001b[39;49m\u001b[43m)\u001b[49m\u001b[43m]\u001b[49m\u001b[43m,\u001b[49m\n\u001b[32m     69\u001b[39m \u001b[43m            \u001b[49m\u001b[33;43m'\u001b[39;49m\u001b[33;43mday\u001b[39;49m\u001b[33;43m'\u001b[39;49m\u001b[43m:\u001b[49m\u001b[43m \u001b[49m\u001b[43m[\u001b[49m\u001b[33;43mf\u001b[39;49m\u001b[33;43m\"\u001b[39;49m\u001b[38;5;132;43;01m{\u001b[39;49;00m\u001b[43md\u001b[49m\u001b[38;5;132;43;01m:\u001b[39;49;00m\u001b[33;43m02d\u001b[39;49m\u001b[38;5;132;43;01m}\u001b[39;49;00m\u001b[33;43m\"\u001b[39;49m\u001b[43m \u001b[49m\u001b[38;5;28;43;01mfor\u001b[39;49;00m\u001b[43m \u001b[49m\u001b[43md\u001b[49m\u001b[43m \u001b[49m\u001b[38;5;129;43;01min\u001b[39;49;00m\u001b[43m \u001b[49m\u001b[38;5;28;43mrange\u001b[39;49m\u001b[43m(\u001b[49m\u001b[32;43m1\u001b[39;49m\u001b[43m,\u001b[49m\u001b[43m \u001b[49m\u001b[32;43m32\u001b[39;49m\u001b[43m)\u001b[49m\u001b[43m]\u001b[49m\u001b[43m,\u001b[49m\n\u001b[32m     70\u001b[39m \u001b[43m            \u001b[49m\u001b[33;43m'\u001b[39;49m\u001b[33;43mtime\u001b[39;49m\u001b[33;43m'\u001b[39;49m\u001b[43m:\u001b[49m\u001b[43m \u001b[49m\u001b[43m[\u001b[49m\u001b[33;43mf\u001b[39;49m\u001b[33;43m\"\u001b[39;49m\u001b[38;5;132;43;01m{\u001b[39;49;00m\u001b[43mh\u001b[49m\u001b[38;5;132;43;01m:\u001b[39;49;00m\u001b[33;43m02d\u001b[39;49m\u001b[38;5;132;43;01m}\u001b[39;49;00m\u001b[33;43m:00\u001b[39;49m\u001b[33;43m\"\u001b[39;49m\u001b[43m \u001b[49m\u001b[38;5;28;43;01mfor\u001b[39;49;00m\u001b[43m \u001b[49m\u001b[43mh\u001b[49m\u001b[43m \u001b[49m\u001b[38;5;129;43;01min\u001b[39;49;00m\u001b[43m \u001b[49m\u001b[38;5;28;43mrange\u001b[39;49m\u001b[43m(\u001b[49m\u001b[32;43m24\u001b[39;49m\u001b[43m)\u001b[49m\u001b[43m]\u001b[49m\u001b[43m,\u001b[49m\n\u001b[32m     71\u001b[39m \u001b[43m            \u001b[49m\u001b[33;43m'\u001b[39;49m\u001b[33;43marea\u001b[39;49m\u001b[33;43m'\u001b[39;49m\u001b[43m:\u001b[49m\u001b[43m \u001b[49m\u001b[43m[\u001b[49m\u001b[43mlat\u001b[49m\u001b[43m \u001b[49m\u001b[43m+\u001b[49m\u001b[43m \u001b[49m\u001b[32;43m0.001\u001b[39;49m\u001b[43m,\u001b[49m\u001b[43m \u001b[49m\u001b[43mlon\u001b[49m\u001b[43m \u001b[49m\u001b[43m-\u001b[49m\u001b[43m \u001b[49m\u001b[32;43m0.001\u001b[39;49m\u001b[43m,\u001b[49m\u001b[43m \u001b[49m\u001b[43mlat\u001b[49m\u001b[43m \u001b[49m\u001b[43m-\u001b[49m\u001b[43m \u001b[49m\u001b[32;43m0.001\u001b[39;49m\u001b[43m,\u001b[49m\u001b[43m \u001b[49m\u001b[43mlon\u001b[49m\u001b[43m \u001b[49m\u001b[43m+\u001b[49m\u001b[43m \u001b[49m\u001b[32;43m0.001\u001b[39;49m\u001b[43m]\u001b[49m\u001b[43m,\u001b[49m\u001b[43m  \u001b[49m\u001b[38;5;66;43;03m# tiny box to simulate a point\u001b[39;49;00m\n\u001b[32m     72\u001b[39m \u001b[43m        \u001b[49m\u001b[43m}\u001b[49m\u001b[43m,\u001b[49m\n\u001b[32m     73\u001b[39m \u001b[43m        \u001b[49m\u001b[43moutput_path\u001b[49m\n\u001b[32m     74\u001b[39m \u001b[43m    \u001b[49m\u001b[43m)\u001b[49m\n\u001b[32m     76\u001b[39m \u001b[38;5;28mprint\u001b[39m(\u001b[33m\"\u001b[39m\u001b[38;5;130;01m\\n\u001b[39;00m\u001b[33m✅ All downloads finished.\u001b[39m\u001b[33m\"\u001b[39m)\n",
      "\u001b[36mFile \u001b[39m\u001b[32mc:\\Users\\justa\\ML\\Weather\\.venv-3.12\\Lib\\site-packages\\ecmwf\\datastores\\legacy_client.py:167\u001b[39m, in \u001b[36mLegacyClient.retrieve\u001b[39m\u001b[34m(self, name, request, target)\u001b[39m\n\u001b[32m    165\u001b[39m submitted: datastores.Remote | datastores.Results\n\u001b[32m    166\u001b[39m \u001b[38;5;28;01mif\u001b[39;00m \u001b[38;5;28mself\u001b[39m.wait_until_complete:\n\u001b[32m--> \u001b[39m\u001b[32m167\u001b[39m     submitted = \u001b[38;5;28;43mself\u001b[39;49m\u001b[43m.\u001b[49m\u001b[43mclient\u001b[49m\u001b[43m.\u001b[49m\u001b[43msubmit_and_wait_on_results\u001b[49m\u001b[43m(\u001b[49m\n\u001b[32m    168\u001b[39m \u001b[43m        \u001b[49m\u001b[43mcollection_id\u001b[49m\u001b[43m=\u001b[49m\u001b[43mname\u001b[49m\u001b[43m,\u001b[49m\n\u001b[32m    169\u001b[39m \u001b[43m        \u001b[49m\u001b[43mrequest\u001b[49m\u001b[43m=\u001b[49m\u001b[43mrequest\u001b[49m\u001b[43m,\u001b[49m\n\u001b[32m    170\u001b[39m \u001b[43m    \u001b[49m\u001b[43m)\u001b[49m\n\u001b[32m    171\u001b[39m \u001b[38;5;28;01melse\u001b[39;00m:\n\u001b[32m    172\u001b[39m     submitted = \u001b[38;5;28mself\u001b[39m.client.submit(\n\u001b[32m    173\u001b[39m         collection_id=name,\n\u001b[32m    174\u001b[39m         request=request,\n\u001b[32m    175\u001b[39m     )\n",
      "\u001b[36mFile \u001b[39m\u001b[32mc:\\Users\\justa\\ML\\Weather\\.venv-3.12\\Lib\\site-packages\\ecmwf\\datastores\\client.py:414\u001b[39m, in \u001b[36mClient.submit_and_wait_on_results\u001b[39m\u001b[34m(self, collection_id, request)\u001b[39m\n\u001b[32m    398\u001b[39m \u001b[38;5;28;01mdef\u001b[39;00m\u001b[38;5;250m \u001b[39m\u001b[34msubmit_and_wait_on_results\u001b[39m(\n\u001b[32m    399\u001b[39m     \u001b[38;5;28mself\u001b[39m, collection_id: \u001b[38;5;28mstr\u001b[39m, request: \u001b[38;5;28mdict\u001b[39m[\u001b[38;5;28mstr\u001b[39m, Any]\n\u001b[32m    400\u001b[39m ) -> datastores.Results:\n\u001b[32m    401\u001b[39m \u001b[38;5;250m    \u001b[39m\u001b[33;03m\"\"\"Submit a request and wait for the results to be ready.\u001b[39;00m\n\u001b[32m    402\u001b[39m \n\u001b[32m    403\u001b[39m \u001b[33;03m    Parameters\u001b[39;00m\n\u001b[32m   (...)\u001b[39m\u001b[32m    412\u001b[39m \u001b[33;03m    datastores.Results\u001b[39;00m\n\u001b[32m    413\u001b[39m \u001b[33;03m    \"\"\"\u001b[39;00m\n\u001b[32m--> \u001b[39m\u001b[32m414\u001b[39m     \u001b[38;5;28;01mreturn\u001b[39;00m \u001b[38;5;28;43mself\u001b[39;49m\u001b[43m.\u001b[49m\u001b[43m_retrieve_api\u001b[49m\u001b[43m.\u001b[49m\u001b[43msubmit\u001b[49m\u001b[43m(\u001b[49m\u001b[43mcollection_id\u001b[49m\u001b[43m,\u001b[49m\u001b[43m \u001b[49m\u001b[43mrequest\u001b[49m\u001b[43m)\u001b[49m.get_results()\n",
      "\u001b[36mFile \u001b[39m\u001b[32mc:\\Users\\justa\\ML\\Weather\\.venv-3.12\\Lib\\site-packages\\ecmwf\\datastores\\processing.py:735\u001b[39m, in \u001b[36mProcessing.submit\u001b[39m\u001b[34m(self, collection_id, request)\u001b[39m\n\u001b[32m    734\u001b[39m \u001b[38;5;28;01mdef\u001b[39;00m\u001b[38;5;250m \u001b[39m\u001b[34msubmit\u001b[39m(\u001b[38;5;28mself\u001b[39m, collection_id: \u001b[38;5;28mstr\u001b[39m, request: \u001b[38;5;28mdict\u001b[39m[\u001b[38;5;28mstr\u001b[39m, Any]) -> Remote:\n\u001b[32m--> \u001b[39m\u001b[32m735\u001b[39m     \u001b[38;5;28;01mreturn\u001b[39;00m \u001b[38;5;28;43mself\u001b[39;49m\u001b[43m.\u001b[49m\u001b[43mget_process\u001b[49m\u001b[43m(\u001b[49m\u001b[43mcollection_id\u001b[49m\u001b[43m)\u001b[49m\u001b[43m.\u001b[49m\u001b[43msubmit\u001b[49m\u001b[43m(\u001b[49m\u001b[43mrequest\u001b[49m\u001b[43m)\u001b[49m\n",
      "\u001b[36mFile \u001b[39m\u001b[32mc:\\Users\\justa\\ML\\Weather\\.venv-3.12\\Lib\\site-packages\\ecmwf\\datastores\\processing.py:316\u001b[39m, in \u001b[36mProcess.submit\u001b[39m\u001b[34m(self, request)\u001b[39m\n\u001b[32m    304\u001b[39m \u001b[38;5;28;01mdef\u001b[39;00m\u001b[38;5;250m \u001b[39m\u001b[34msubmit\u001b[39m(\u001b[38;5;28mself\u001b[39m, request: \u001b[38;5;28mdict\u001b[39m[\u001b[38;5;28mstr\u001b[39m, Any]) -> datastores.Remote:\n\u001b[32m    305\u001b[39m \u001b[38;5;250m    \u001b[39m\u001b[33;03m\"\"\"Submit a request.\u001b[39;00m\n\u001b[32m    306\u001b[39m \n\u001b[32m    307\u001b[39m \u001b[33;03m    Parameters\u001b[39;00m\n\u001b[32m   (...)\u001b[39m\u001b[32m    314\u001b[39m \u001b[33;03m    datastores.Remote\u001b[39;00m\n\u001b[32m    315\u001b[39m \u001b[33;03m    \"\"\"\u001b[39;00m\n\u001b[32m--> \u001b[39m\u001b[32m316\u001b[39m     job = \u001b[43mJob\u001b[49m\u001b[43m.\u001b[49m\u001b[43mfrom_request\u001b[49m\u001b[43m(\u001b[49m\n\u001b[32m    317\u001b[39m \u001b[43m        \u001b[49m\u001b[33;43m\"\u001b[39;49m\u001b[33;43mpost\u001b[39;49m\u001b[33;43m\"\u001b[39;49m\u001b[43m,\u001b[49m\n\u001b[32m    318\u001b[39m \u001b[43m        \u001b[49m\u001b[33;43mf\u001b[39;49m\u001b[33;43m\"\u001b[39;49m\u001b[38;5;132;43;01m{\u001b[39;49;00m\u001b[38;5;28;43mself\u001b[39;49m\u001b[43m.\u001b[49m\u001b[43murl\u001b[49m\u001b[38;5;132;43;01m}\u001b[39;49;00m\u001b[33;43m/execution\u001b[39;49m\u001b[33;43m\"\u001b[39;49m\u001b[43m,\u001b[49m\n\u001b[32m    319\u001b[39m \u001b[43m        \u001b[49m\u001b[43mjson\u001b[49m\u001b[43m=\u001b[49m\u001b[43m{\u001b[49m\u001b[33;43m\"\u001b[39;49m\u001b[33;43minputs\u001b[39;49m\u001b[33;43m\"\u001b[39;49m\u001b[43m:\u001b[49m\u001b[43m \u001b[49m\u001b[43mrequest\u001b[49m\u001b[43m}\u001b[49m\u001b[43m,\u001b[49m\n\u001b[32m    320\u001b[39m \u001b[43m        \u001b[49m\u001b[43m*\u001b[49m\u001b[43m*\u001b[49m\u001b[38;5;28;43mself\u001b[39;49m\u001b[43m.\u001b[49m\u001b[43m_request_kwargs\u001b[49m\u001b[43m,\u001b[49m\n\u001b[32m    321\u001b[39m \u001b[43m    \u001b[49m\u001b[43m)\u001b[49m\n\u001b[32m    322\u001b[39m     \u001b[38;5;28;01mreturn\u001b[39;00m job.get_remote()\n",
      "\u001b[36mFile \u001b[39m\u001b[32mc:\\Users\\justa\\ML\\Weather\\.venv-3.12\\Lib\\site-packages\\ecmwf\\datastores\\processing.py:176\u001b[39m, in \u001b[36mApiResponse.from_request\u001b[39m\u001b[34m(cls, method, url, headers, session, retry_options, request_options, download_options, sleep_max, cleanup, log_callback, log_messages, **kwargs)\u001b[39m\n\u001b[32m    171\u001b[39m response = robust_request(\n\u001b[32m    172\u001b[39m     method, url, headers=headers, **request_options, **kwargs\n\u001b[32m    173\u001b[39m )\n\u001b[32m    174\u001b[39m log(logging.DEBUG, \u001b[33mf\u001b[39m\u001b[33m\"\u001b[39m\u001b[33mREPLY \u001b[39m\u001b[38;5;132;01m{\u001b[39;00mresponse.text\u001b[38;5;132;01m}\u001b[39;00m\u001b[33m\"\u001b[39m, callback=log_callback)\n\u001b[32m--> \u001b[39m\u001b[32m176\u001b[39m \u001b[43mcads_raise_for_status\u001b[49m\u001b[43m(\u001b[49m\u001b[43mresponse\u001b[49m\u001b[43m)\u001b[49m\n\u001b[32m    178\u001b[39m \u001b[38;5;28mself\u001b[39m = \u001b[38;5;28mcls\u001b[39m(\n\u001b[32m    179\u001b[39m     response,\n\u001b[32m    180\u001b[39m     headers=headers,\n\u001b[32m   (...)\u001b[39m\u001b[32m    187\u001b[39m     log_callback=log_callback,\n\u001b[32m    188\u001b[39m )\n\u001b[32m    189\u001b[39m \u001b[38;5;28;01mif\u001b[39;00m log_messages:\n",
      "\u001b[36mFile \u001b[39m\u001b[32mc:\\Users\\justa\\ML\\Weather\\.venv-3.12\\Lib\\site-packages\\ecmwf\\datastores\\processing.py:99\u001b[39m, in \u001b[36mcads_raise_for_status\u001b[39m\u001b[34m(response)\u001b[39m\n\u001b[32m     92\u001b[39m     \u001b[38;5;28;01melse\u001b[39;00m:\n\u001b[32m     93\u001b[39m         message = \u001b[33m\"\u001b[39m\u001b[38;5;130;01m\\n\u001b[39;00m\u001b[33m\"\u001b[39m.join(\n\u001b[32m     94\u001b[39m             [\n\u001b[32m     95\u001b[39m                 \u001b[33mf\u001b[39m\u001b[33m\"\u001b[39m\u001b[38;5;132;01m{\u001b[39;00mresponse.status_code\u001b[38;5;132;01m}\u001b[39;00m\u001b[33m Client Error: \u001b[39m\u001b[38;5;132;01m{\u001b[39;00mresponse.reason\u001b[38;5;132;01m}\u001b[39;00m\u001b[33m for url: \u001b[39m\u001b[38;5;132;01m{\u001b[39;00mresponse.url\u001b[38;5;132;01m}\u001b[39;00m\u001b[33m\"\u001b[39m,\n\u001b[32m     96\u001b[39m                 error_json_to_message(error_json),\n\u001b[32m     97\u001b[39m             ]\n\u001b[32m     98\u001b[39m         )\n\u001b[32m---> \u001b[39m\u001b[32m99\u001b[39m         \u001b[38;5;28;01mraise\u001b[39;00m requests.HTTPError(message, response=response)\n\u001b[32m    100\u001b[39m response.raise_for_status()\n",
      "\u001b[31mHTTPError\u001b[39m: 403 Client Error: Forbidden for url: https://cds.climate.copernicus.eu/api/retrieve/v1/processes/reanalysis-era5-single-levels-timeseries/execution\ncost limits exceeded\nYour request is too large, please reduce your selection."
     ]
    }
   ],
   "source": [
    "import cdsapi\n",
    "import os\n",
    "from collections import OrderedDict\n",
    "\n",
    "import cdsapi\n",
    "import os\n",
    "from collections import OrderedDict\n",
    "\n",
    "# === SETTINGS ===\n",
    "center_lat = -3.0\n",
    "center_lon = -60.0\n",
    "output_dir = \"brazil\"  # <-- Save here\n",
    "grid_size = 5  # 5x5 grid\n",
    "step = 0.25\n",
    "variables = ['u10', 'v10', 'd2m', 't2m', 'sp', 'tp']\n",
    "start_date = '2018-01-01'\n",
    "end_date   = '2025-01-01'\n",
    "time_zone = 'UTC'  # adjust if needed\n",
    "\n",
    "# === CREATE OUTPUT DIR ===\n",
    "os.makedirs(output_dir, exist_ok=True)\n",
    "\n",
    "# === GRID GENERATION ===\n",
    "def generate_grid(center_lat, center_lon, step=0.25, size=5):\n",
    "    grid = OrderedDict()\n",
    "    half = size // 2\n",
    "    for i in range(size):\n",
    "        for j in range(size):\n",
    "            lat_offset = half - i\n",
    "            lon_offset = j - half\n",
    "            lat = center_lat + lat_offset * step\n",
    "            lon = center_lon + lon_offset * step\n",
    "            label = ''\n",
    "            if lat_offset > 0:\n",
    "                label += 'N' + (str(lat_offset) if lat_offset > 1 else '')\n",
    "            elif lat_offset < 0:\n",
    "                label += 'S' + (str(abs(lat_offset)) if abs(lat_offset) > 1 else '')\n",
    "            if lon_offset > 0:\n",
    "                label += 'E' + (str(lon_offset) if lon_offset > 1 else '')\n",
    "            elif lon_offset < 0:\n",
    "                label += 'W' + (str(abs(lon_offset)) if abs(lon_offset) > 1 else '')\n",
    "            label = label or 'C'\n",
    "            grid[label.lower()] = (round(lat, 5), round(lon, 5))  # Make label lowercase here\n",
    "    return grid\n",
    "\n",
    "# === CDS API CLIENT ===\n",
    "c = cdsapi.Client()\n",
    "\n",
    "# === LOOP OVER GRID ===\n",
    "grid = generate_grid(center_lat, center_lon, step=step, size=grid_size)\n",
    "\n",
    "for label, (lat, lon) in grid.items():\n",
    "    output_path = os.path.join(output_dir, f'{label}.csv')  # e.g., brazil/2n2e.csv\n",
    "    \n",
    "    if os.path.exists(output_path):\n",
    "        print(f\"[SKIP] {label} already downloaded.\")\n",
    "        continue\n",
    "\n",
    "    print(f\"[DOWNLOAD] {label.upper()} at ({lat}, {lon})\")  # Print uppercase for readability\n",
    "\n",
    "    c.retrieve(\n",
    "        'reanalysis-era5-single-levels-timeseries',\n",
    "        {\n",
    "            'format': 'csv',\n",
    "            'product_type': 'reanalysis',\n",
    "            'variable': variables,\n",
    "            'year': [str(y) for y in range(2018, 2026)],\n",
    "            'month': [f\"{m:02d}\" for m in range(1, 13)],\n",
    "            'day': [f\"{d:02d}\" for d in range(1, 32)],\n",
    "            'time': [f\"{h:02d}:00\" for h in range(24)],\n",
    "            'area': [lat + 0.001, lon - 0.001, lat - 0.001, lon + 0.001],  # tiny box to simulate a point\n",
    "        },\n",
    "        output_path\n",
    "    )\n",
    "\n",
    "print(\"\\n✅ All downloads finished.\")\n"
   ]
  },
  {
   "cell_type": "code",
   "execution_count": 12,
   "id": "eea42bcc",
   "metadata": {},
   "outputs": [
    {
     "name": "stderr",
     "output_type": "stream",
     "text": [
      "2025-09-25 17:46:42,293 INFO [2025-09-03T00:00:00] To improve our C3S service, we need to hear from you! Please complete this very short [survey](https://confluence.ecmwf.int/x/E7uBEQ/). Thank you.\n",
      "2025-09-25 17:46:42,294 INFO [2024-09-26T00:00:00] Watch our [Forum](https://forum.ecmwf.int/) for Announcements, news and other discussed topics.\n",
      "2025-09-25 17:46:42,465 WARNING [2025-03-17T00:00:00] Please be aware that the generation of this dataset is using an alternative source for the ERA5 data and may be subject to changes over time (e.g. file format, data file structure, deprecation etc). This dataset should therefore be regarded as “experimental” and is **not recommended for use in a production environment**. \n",
      "\n",
      "Notification of changes via this catalogue entry banner and/or in the [Forum](https://forum.ecmwf.int/) will be provided on best efforts.\n",
      "2025-09-25 17:46:42,467 INFO Request ID is 9be765c5-fc60-48d2-87e9-36302bdd90e9\n"
     ]
    },
    {
     "name": "stdout",
     "output_type": "stream",
     "text": [
      "[TRY] N2W2 full range (2018–2025)\n"
     ]
    },
    {
     "name": "stderr",
     "output_type": "stream",
     "text": [
      "2025-09-25 17:46:42,735 INFO status has been updated to accepted\n",
      "2025-09-25 17:46:56,408 INFO status has been updated to running\n",
      "2025-09-25 17:47:04,077 INFO status has been updated to failed\n",
      "2025-09-25 17:47:04,398 WARNING [2025-03-17T00:00:00] Please be aware that the generation of this dataset is using an alternative source for the ERA5 data and may be subject to changes over time (e.g. file format, data file structure, deprecation etc). This dataset should therefore be regarded as “experimental” and is **not recommended for use in a production environment**. \n",
      "\n",
      "Notification of changes via this catalogue entry banner and/or in the [Forum](https://forum.ecmwf.int/) will be provided on best efforts.\n",
      "2025-09-25 17:47:04,399 INFO Request ID is 7d57b7db-7967-49d2-82d1-53530022579b\n"
     ]
    },
    {
     "name": "stdout",
     "output_type": "stream",
     "text": [
      "[FALLBACK] N2W2 failed full range. Trying year-by-year...\n",
      "[DOWNLOAD] N2W2 for 2018\n"
     ]
    },
    {
     "name": "stderr",
     "output_type": "stream",
     "text": [
      "2025-09-25 17:47:04,466 INFO status has been updated to accepted\n",
      "2025-09-25 17:47:25,674 INFO status has been updated to failed\n",
      "2025-09-25 17:47:25,965 WARNING [2025-03-17T00:00:00] Please be aware that the generation of this dataset is using an alternative source for the ERA5 data and may be subject to changes over time (e.g. file format, data file structure, deprecation etc). This dataset should therefore be regarded as “experimental” and is **not recommended for use in a production environment**. \n",
      "\n",
      "Notification of changes via this catalogue entry banner and/or in the [Forum](https://forum.ecmwf.int/) will be provided on best efforts.\n",
      "2025-09-25 17:47:25,966 INFO Request ID is e5bfebd5-37a1-49be-b877-efc481ff2597\n"
     ]
    },
    {
     "name": "stdout",
     "output_type": "stream",
     "text": [
      "[ERROR] N2W2 2018 failed. Reason: 400 Client Error: Bad Request for url: https://cds.climate.copernicus.eu/api/retrieve/v1/jobs/7d57b7db-7967-49d2-82d1-53530022579b/results\n",
      "The job has failed\n",
      "The job failed with: MultiAdaptorNoDataError\n",
      "[DOWNLOAD] N2W2 for 2019\n"
     ]
    },
    {
     "name": "stderr",
     "output_type": "stream",
     "text": [
      "2025-09-25 17:47:26,043 INFO status has been updated to accepted\n"
     ]
    },
    {
     "ename": "KeyboardInterrupt",
     "evalue": "",
     "output_type": "error",
     "traceback": [
      "\u001b[31m---------------------------------------------------------------------------\u001b[39m",
      "\u001b[31mHTTPError\u001b[39m                                 Traceback (most recent call last)",
      "\u001b[36mCell\u001b[39m\u001b[36m \u001b[39m\u001b[32mIn[12]\u001b[39m\u001b[32m, line 59\u001b[39m\n\u001b[32m     57\u001b[39m \u001b[38;5;28;01mtry\u001b[39;00m:\n\u001b[32m     58\u001b[39m     \u001b[38;5;66;03m# === TRY ALL YEARS AT ONCE ===\u001b[39;00m\n\u001b[32m---> \u001b[39m\u001b[32m59\u001b[39m     \u001b[43mc\u001b[49m\u001b[43m.\u001b[49m\u001b[43mretrieve\u001b[49m\u001b[43m(\u001b[49m\n\u001b[32m     60\u001b[39m \u001b[43m        \u001b[49m\u001b[33;43m'\u001b[39;49m\u001b[33;43mreanalysis-era5-single-levels-timeseries\u001b[39;49m\u001b[33;43m'\u001b[39;49m\u001b[43m,\u001b[49m\n\u001b[32m     61\u001b[39m \u001b[43m        \u001b[49m\u001b[43m{\u001b[49m\n\u001b[32m     62\u001b[39m \u001b[43m            \u001b[49m\u001b[33;43m'\u001b[39;49m\u001b[33;43mformat\u001b[39;49m\u001b[33;43m'\u001b[39;49m\u001b[43m:\u001b[49m\u001b[43m \u001b[49m\u001b[33;43m'\u001b[39;49m\u001b[33;43mcsv\u001b[39;49m\u001b[33;43m'\u001b[39;49m\u001b[43m,\u001b[49m\n\u001b[32m     63\u001b[39m \u001b[43m            \u001b[49m\u001b[33;43m'\u001b[39;49m\u001b[33;43mproduct_type\u001b[39;49m\u001b[33;43m'\u001b[39;49m\u001b[43m:\u001b[49m\u001b[43m \u001b[49m\u001b[33;43m'\u001b[39;49m\u001b[33;43mreanalysis\u001b[39;49m\u001b[33;43m'\u001b[39;49m\u001b[43m,\u001b[49m\n\u001b[32m     64\u001b[39m \u001b[43m            \u001b[49m\u001b[33;43m'\u001b[39;49m\u001b[33;43mvariable\u001b[39;49m\u001b[33;43m'\u001b[39;49m\u001b[43m:\u001b[49m\u001b[43m \u001b[49m\u001b[43mvariables\u001b[49m\u001b[43m,\u001b[49m\n\u001b[32m     65\u001b[39m \u001b[43m            \u001b[49m\u001b[33;43m'\u001b[39;49m\u001b[33;43myear\u001b[39;49m\u001b[33;43m'\u001b[39;49m\u001b[43m:\u001b[49m\u001b[43m \u001b[49m\u001b[43m[\u001b[49m\u001b[38;5;28;43mstr\u001b[39;49m\u001b[43m(\u001b[49m\u001b[43my\u001b[49m\u001b[43m)\u001b[49m\u001b[43m \u001b[49m\u001b[38;5;28;43;01mfor\u001b[39;49;00m\u001b[43m \u001b[49m\u001b[43my\u001b[49m\u001b[43m \u001b[49m\u001b[38;5;129;43;01min\u001b[39;49;00m\u001b[43m \u001b[49m\u001b[38;5;28;43mrange\u001b[39;49m\u001b[43m(\u001b[49m\u001b[43mstart_year\u001b[49m\u001b[43m,\u001b[49m\u001b[43m \u001b[49m\u001b[43mend_year\u001b[49m\u001b[43m \u001b[49m\u001b[43m+\u001b[49m\u001b[43m \u001b[49m\u001b[32;43m1\u001b[39;49m\u001b[43m)\u001b[49m\u001b[43m]\u001b[49m\u001b[43m,\u001b[49m\n\u001b[32m     66\u001b[39m \u001b[43m            \u001b[49m\u001b[33;43m'\u001b[39;49m\u001b[33;43mmonth\u001b[39;49m\u001b[33;43m'\u001b[39;49m\u001b[43m:\u001b[49m\u001b[43m \u001b[49m\u001b[43m[\u001b[49m\u001b[33;43mf\u001b[39;49m\u001b[33;43m\"\u001b[39;49m\u001b[38;5;132;43;01m{\u001b[39;49;00m\u001b[43mm\u001b[49m\u001b[38;5;132;43;01m:\u001b[39;49;00m\u001b[33;43m02d\u001b[39;49m\u001b[38;5;132;43;01m}\u001b[39;49;00m\u001b[33;43m\"\u001b[39;49m\u001b[43m \u001b[49m\u001b[38;5;28;43;01mfor\u001b[39;49;00m\u001b[43m \u001b[49m\u001b[43mm\u001b[49m\u001b[43m \u001b[49m\u001b[38;5;129;43;01min\u001b[39;49;00m\u001b[43m \u001b[49m\u001b[38;5;28;43mrange\u001b[39;49m\u001b[43m(\u001b[49m\u001b[32;43m1\u001b[39;49m\u001b[43m,\u001b[49m\u001b[43m \u001b[49m\u001b[32;43m13\u001b[39;49m\u001b[43m)\u001b[49m\u001b[43m]\u001b[49m\u001b[43m,\u001b[49m\n\u001b[32m     67\u001b[39m \u001b[43m            \u001b[49m\u001b[33;43m'\u001b[39;49m\u001b[33;43mday\u001b[39;49m\u001b[33;43m'\u001b[39;49m\u001b[43m:\u001b[49m\u001b[43m \u001b[49m\u001b[43m[\u001b[49m\u001b[33;43mf\u001b[39;49m\u001b[33;43m\"\u001b[39;49m\u001b[38;5;132;43;01m{\u001b[39;49;00m\u001b[43md\u001b[49m\u001b[38;5;132;43;01m:\u001b[39;49;00m\u001b[33;43m02d\u001b[39;49m\u001b[38;5;132;43;01m}\u001b[39;49;00m\u001b[33;43m\"\u001b[39;49m\u001b[43m \u001b[49m\u001b[38;5;28;43;01mfor\u001b[39;49;00m\u001b[43m \u001b[49m\u001b[43md\u001b[49m\u001b[43m \u001b[49m\u001b[38;5;129;43;01min\u001b[39;49;00m\u001b[43m \u001b[49m\u001b[38;5;28;43mrange\u001b[39;49m\u001b[43m(\u001b[49m\u001b[32;43m1\u001b[39;49m\u001b[43m,\u001b[49m\u001b[43m \u001b[49m\u001b[32;43m32\u001b[39;49m\u001b[43m)\u001b[49m\u001b[43m]\u001b[49m\u001b[43m,\u001b[49m\n\u001b[32m     68\u001b[39m \u001b[43m            \u001b[49m\u001b[33;43m'\u001b[39;49m\u001b[33;43mtime\u001b[39;49m\u001b[33;43m'\u001b[39;49m\u001b[43m:\u001b[49m\u001b[43m \u001b[49m\u001b[43m[\u001b[49m\u001b[33;43mf\u001b[39;49m\u001b[33;43m\"\u001b[39;49m\u001b[38;5;132;43;01m{\u001b[39;49;00m\u001b[43mh\u001b[49m\u001b[38;5;132;43;01m:\u001b[39;49;00m\u001b[33;43m02d\u001b[39;49m\u001b[38;5;132;43;01m}\u001b[39;49;00m\u001b[33;43m:00\u001b[39;49m\u001b[33;43m\"\u001b[39;49m\u001b[43m \u001b[49m\u001b[38;5;28;43;01mfor\u001b[39;49;00m\u001b[43m \u001b[49m\u001b[43mh\u001b[49m\u001b[43m \u001b[49m\u001b[38;5;129;43;01min\u001b[39;49;00m\u001b[43m \u001b[49m\u001b[38;5;28;43mrange\u001b[39;49m\u001b[43m(\u001b[49m\u001b[32;43m24\u001b[39;49m\u001b[43m)\u001b[49m\u001b[43m]\u001b[49m\u001b[43m,\u001b[49m\n\u001b[32m     69\u001b[39m \u001b[43m            \u001b[49m\u001b[33;43m'\u001b[39;49m\u001b[33;43mlongitude\u001b[39;49m\u001b[33;43m'\u001b[39;49m\u001b[43m:\u001b[49m\u001b[43m \u001b[49m\u001b[43mlon\u001b[49m\u001b[43m,\u001b[49m\n\u001b[32m     70\u001b[39m \u001b[43m            \u001b[49m\u001b[33;43m'\u001b[39;49m\u001b[33;43mlatitude\u001b[39;49m\u001b[33;43m'\u001b[39;49m\u001b[43m:\u001b[49m\u001b[43m \u001b[49m\u001b[43mlat\u001b[49m\n\u001b[32m     71\u001b[39m \u001b[43m        \u001b[49m\u001b[43m}\u001b[49m\u001b[43m,\u001b[49m\n\u001b[32m     72\u001b[39m \u001b[43m        \u001b[49m\u001b[43moutput_path\u001b[49m\n\u001b[32m     73\u001b[39m \u001b[43m    \u001b[49m\u001b[43m)\u001b[49m\n\u001b[32m     74\u001b[39m     \u001b[38;5;28mprint\u001b[39m(\u001b[33mf\u001b[39m\u001b[33m\"\u001b[39m\u001b[33m[SUCCESS] \u001b[39m\u001b[38;5;132;01m{\u001b[39;00mlabel.upper()\u001b[38;5;132;01m}\u001b[39;00m\u001b[33m full range saved as \u001b[39m\u001b[38;5;132;01m{\u001b[39;00moutput_path\u001b[38;5;132;01m}\u001b[39;00m\u001b[33m\"\u001b[39m)\n",
      "\u001b[36mFile \u001b[39m\u001b[32mc:\\Users\\justa\\ML\\Weather\\.venv-3.12\\Lib\\site-packages\\ecmwf\\datastores\\legacy_client.py:167\u001b[39m, in \u001b[36mLegacyClient.retrieve\u001b[39m\u001b[34m(self, name, request, target)\u001b[39m\n\u001b[32m    166\u001b[39m \u001b[38;5;28;01mif\u001b[39;00m \u001b[38;5;28mself\u001b[39m.wait_until_complete:\n\u001b[32m--> \u001b[39m\u001b[32m167\u001b[39m     submitted = \u001b[38;5;28;43mself\u001b[39;49m\u001b[43m.\u001b[49m\u001b[43mclient\u001b[49m\u001b[43m.\u001b[49m\u001b[43msubmit_and_wait_on_results\u001b[49m\u001b[43m(\u001b[49m\n\u001b[32m    168\u001b[39m \u001b[43m        \u001b[49m\u001b[43mcollection_id\u001b[49m\u001b[43m=\u001b[49m\u001b[43mname\u001b[49m\u001b[43m,\u001b[49m\n\u001b[32m    169\u001b[39m \u001b[43m        \u001b[49m\u001b[43mrequest\u001b[49m\u001b[43m=\u001b[49m\u001b[43mrequest\u001b[49m\u001b[43m,\u001b[49m\n\u001b[32m    170\u001b[39m \u001b[43m    \u001b[49m\u001b[43m)\u001b[49m\n\u001b[32m    171\u001b[39m \u001b[38;5;28;01melse\u001b[39;00m:\n",
      "\u001b[36mFile \u001b[39m\u001b[32mc:\\Users\\justa\\ML\\Weather\\.venv-3.12\\Lib\\site-packages\\ecmwf\\datastores\\client.py:414\u001b[39m, in \u001b[36mClient.submit_and_wait_on_results\u001b[39m\u001b[34m(self, collection_id, request)\u001b[39m\n\u001b[32m    401\u001b[39m \u001b[38;5;250m\u001b[39m\u001b[33;03m\"\"\"Submit a request and wait for the results to be ready.\u001b[39;00m\n\u001b[32m    402\u001b[39m \n\u001b[32m    403\u001b[39m \u001b[33;03mParameters\u001b[39;00m\n\u001b[32m   (...)\u001b[39m\u001b[32m    412\u001b[39m \u001b[33;03mdatastores.Results\u001b[39;00m\n\u001b[32m    413\u001b[39m \u001b[33;03m\"\"\"\u001b[39;00m\n\u001b[32m--> \u001b[39m\u001b[32m414\u001b[39m \u001b[38;5;28;01mreturn\u001b[39;00m \u001b[38;5;28;43mself\u001b[39;49m\u001b[43m.\u001b[49m\u001b[43m_retrieve_api\u001b[49m\u001b[43m.\u001b[49m\u001b[43msubmit\u001b[49m\u001b[43m(\u001b[49m\u001b[43mcollection_id\u001b[49m\u001b[43m,\u001b[49m\u001b[43m \u001b[49m\u001b[43mrequest\u001b[49m\u001b[43m)\u001b[49m\u001b[43m.\u001b[49m\u001b[43mget_results\u001b[49m\u001b[43m(\u001b[49m\u001b[43m)\u001b[49m\n",
      "\u001b[36mFile \u001b[39m\u001b[32mc:\\Users\\justa\\ML\\Weather\\.venv-3.12\\Lib\\site-packages\\ecmwf\\datastores\\processing.py:495\u001b[39m, in \u001b[36mRemote.get_results\u001b[39m\u001b[34m(self)\u001b[39m\n\u001b[32m    489\u001b[39m \u001b[38;5;250m\u001b[39m\u001b[33;03m\"\"\"Retrieve results.\u001b[39;00m\n\u001b[32m    490\u001b[39m \n\u001b[32m    491\u001b[39m \u001b[33;03mReturns\u001b[39;00m\n\u001b[32m    492\u001b[39m \u001b[33;03m-------\u001b[39;00m\n\u001b[32m    493\u001b[39m \u001b[33;03mdatastores.Results\u001b[39;00m\n\u001b[32m    494\u001b[39m \u001b[33;03m\"\"\"\u001b[39;00m\n\u001b[32m--> \u001b[39m\u001b[32m495\u001b[39m \u001b[38;5;28;01mreturn\u001b[39;00m \u001b[38;5;28;43mself\u001b[39;49m\u001b[43m.\u001b[49m\u001b[43m_make_results\u001b[49m\u001b[43m(\u001b[49m\u001b[43mwait\u001b[49m\u001b[43m=\u001b[49m\u001b[38;5;28;43;01mTrue\u001b[39;49;00m\u001b[43m)\u001b[49m\n",
      "\u001b[36mFile \u001b[39m\u001b[32mc:\\Users\\justa\\ML\\Weather\\.venv-3.12\\Lib\\site-packages\\ecmwf\\datastores\\processing.py:479\u001b[39m, in \u001b[36mRemote._make_results\u001b[39m\u001b[34m(self, wait)\u001b[39m\n\u001b[32m    478\u001b[39m \u001b[38;5;28;01mif\u001b[39;00m wait:\n\u001b[32m--> \u001b[39m\u001b[32m479\u001b[39m     \u001b[38;5;28;43mself\u001b[39;49m\u001b[43m.\u001b[49m\u001b[43m_wait_on_results\u001b[49m\u001b[43m(\u001b[49m\u001b[43m)\u001b[49m\n\u001b[32m    480\u001b[39m response = \u001b[38;5;28mself\u001b[39m._get_api_response(\u001b[33m\"\u001b[39m\u001b[33mget\u001b[39m\u001b[33m\"\u001b[39m)\n",
      "\u001b[36mFile \u001b[39m\u001b[32mc:\\Users\\justa\\ML\\Weather\\.venv-3.12\\Lib\\site-packages\\ecmwf\\datastores\\processing.py:457\u001b[39m, in \u001b[36mRemote._wait_on_results\u001b[39m\u001b[34m(self)\u001b[39m\n\u001b[32m    456\u001b[39m sleep = \u001b[32m1.0\u001b[39m\n\u001b[32m--> \u001b[39m\u001b[32m457\u001b[39m \u001b[38;5;28;01mwhile\u001b[39;00m \u001b[38;5;129;01mnot\u001b[39;00m \u001b[38;5;28;43mself\u001b[39;49m\u001b[43m.\u001b[49m\u001b[43mresults_ready\u001b[49m:\n\u001b[32m    458\u001b[39m     \u001b[38;5;28mself\u001b[39m.debug(\u001b[33mf\u001b[39m\u001b[33m\"\u001b[39m\u001b[33mresults not ready, waiting for \u001b[39m\u001b[38;5;132;01m{\u001b[39;00msleep\u001b[38;5;132;01m}\u001b[39;00m\u001b[33m seconds\u001b[39m\u001b[33m\"\u001b[39m)\n",
      "\u001b[36mFile \u001b[39m\u001b[32mc:\\Users\\justa\\ML\\Weather\\.venv-3.12\\Lib\\site-packages\\ecmwf\\datastores\\processing.py:471\u001b[39m, in \u001b[36mRemote.results_ready\u001b[39m\u001b[34m(self)\u001b[39m\n\u001b[32m    470\u001b[39m \u001b[38;5;28;01mif\u001b[39;00m status \u001b[38;5;129;01min\u001b[39;00m (\u001b[33m\"\u001b[39m\u001b[33mfailed\u001b[39m\u001b[33m\"\u001b[39m, \u001b[33m\"\u001b[39m\u001b[33mrejected\u001b[39m\u001b[33m\"\u001b[39m):\n\u001b[32m--> \u001b[39m\u001b[32m471\u001b[39m     results = \u001b[38;5;28;43mself\u001b[39;49m\u001b[43m.\u001b[49m\u001b[43m_make_results\u001b[49m\u001b[43m(\u001b[49m\u001b[43mwait\u001b[49m\u001b[43m=\u001b[49m\u001b[38;5;28;43;01mFalse\u001b[39;49;00m\u001b[43m)\u001b[49m\n\u001b[32m    472\u001b[39m     \u001b[38;5;28;01mraise\u001b[39;00m ProcessingFailedError(error_json_to_message(results._json_dict))\n",
      "\u001b[36mFile \u001b[39m\u001b[32mc:\\Users\\justa\\ML\\Weather\\.venv-3.12\\Lib\\site-packages\\ecmwf\\datastores\\processing.py:485\u001b[39m, in \u001b[36mRemote._make_results\u001b[39m\u001b[34m(self, wait)\u001b[39m\n\u001b[32m    484\u001b[39m     results_url = \u001b[33mf\u001b[39m\u001b[33m\"\u001b[39m\u001b[38;5;132;01m{\u001b[39;00m\u001b[38;5;28mself\u001b[39m.url\u001b[38;5;132;01m}\u001b[39;00m\u001b[33m/results\u001b[39m\u001b[33m\"\u001b[39m\n\u001b[32m--> \u001b[39m\u001b[32m485\u001b[39m results = \u001b[43mResults\u001b[49m\u001b[43m.\u001b[49m\u001b[43mfrom_request\u001b[49m\u001b[43m(\u001b[49m\u001b[33;43m\"\u001b[39;49m\u001b[33;43mget\u001b[39;49m\u001b[33;43m\"\u001b[39;49m\u001b[43m,\u001b[49m\u001b[43m \u001b[49m\u001b[43mresults_url\u001b[49m\u001b[43m,\u001b[49m\u001b[43m \u001b[49m\u001b[43m*\u001b[49m\u001b[43m*\u001b[49m\u001b[38;5;28;43mself\u001b[39;49m\u001b[43m.\u001b[49m\u001b[43m_request_kwargs\u001b[49m\u001b[43m)\u001b[49m\n\u001b[32m    486\u001b[39m \u001b[38;5;28;01mreturn\u001b[39;00m results\n",
      "\u001b[36mFile \u001b[39m\u001b[32mc:\\Users\\justa\\ML\\Weather\\.venv-3.12\\Lib\\site-packages\\ecmwf\\datastores\\processing.py:176\u001b[39m, in \u001b[36mApiResponse.from_request\u001b[39m\u001b[34m(cls, method, url, headers, session, retry_options, request_options, download_options, sleep_max, cleanup, log_callback, log_messages, **kwargs)\u001b[39m\n\u001b[32m    174\u001b[39m log(logging.DEBUG, \u001b[33mf\u001b[39m\u001b[33m\"\u001b[39m\u001b[33mREPLY \u001b[39m\u001b[38;5;132;01m{\u001b[39;00mresponse.text\u001b[38;5;132;01m}\u001b[39;00m\u001b[33m\"\u001b[39m, callback=log_callback)\n\u001b[32m--> \u001b[39m\u001b[32m176\u001b[39m \u001b[43mcads_raise_for_status\u001b[49m\u001b[43m(\u001b[49m\u001b[43mresponse\u001b[49m\u001b[43m)\u001b[49m\n\u001b[32m    178\u001b[39m \u001b[38;5;28mself\u001b[39m = \u001b[38;5;28mcls\u001b[39m(\n\u001b[32m    179\u001b[39m     response,\n\u001b[32m    180\u001b[39m     headers=headers,\n\u001b[32m   (...)\u001b[39m\u001b[32m    187\u001b[39m     log_callback=log_callback,\n\u001b[32m    188\u001b[39m )\n",
      "\u001b[36mFile \u001b[39m\u001b[32mc:\\Users\\justa\\ML\\Weather\\.venv-3.12\\Lib\\site-packages\\ecmwf\\datastores\\processing.py:99\u001b[39m, in \u001b[36mcads_raise_for_status\u001b[39m\u001b[34m(response)\u001b[39m\n\u001b[32m     93\u001b[39m         message = \u001b[33m\"\u001b[39m\u001b[38;5;130;01m\\n\u001b[39;00m\u001b[33m\"\u001b[39m.join(\n\u001b[32m     94\u001b[39m             [\n\u001b[32m     95\u001b[39m                 \u001b[33mf\u001b[39m\u001b[33m\"\u001b[39m\u001b[38;5;132;01m{\u001b[39;00mresponse.status_code\u001b[38;5;132;01m}\u001b[39;00m\u001b[33m Client Error: \u001b[39m\u001b[38;5;132;01m{\u001b[39;00mresponse.reason\u001b[38;5;132;01m}\u001b[39;00m\u001b[33m for url: \u001b[39m\u001b[38;5;132;01m{\u001b[39;00mresponse.url\u001b[38;5;132;01m}\u001b[39;00m\u001b[33m\"\u001b[39m,\n\u001b[32m     96\u001b[39m                 error_json_to_message(error_json),\n\u001b[32m     97\u001b[39m             ]\n\u001b[32m     98\u001b[39m         )\n\u001b[32m---> \u001b[39m\u001b[32m99\u001b[39m         \u001b[38;5;28;01mraise\u001b[39;00m requests.HTTPError(message, response=response)\n\u001b[32m    100\u001b[39m response.raise_for_status()\n",
      "\u001b[31mHTTPError\u001b[39m: 400 Client Error: Bad Request for url: https://cds.climate.copernicus.eu/api/retrieve/v1/jobs/9be765c5-fc60-48d2-87e9-36302bdd90e9/results\nThe job has failed\nThe job failed with: MultiAdaptorNoDataError",
      "\nDuring handling of the above exception, another exception occurred:\n",
      "\u001b[31mKeyboardInterrupt\u001b[39m                         Traceback (most recent call last)",
      "\u001b[36mCell\u001b[39m\u001b[36m \u001b[39m\u001b[32mIn[12]\u001b[39m\u001b[32m, line 88\u001b[39m\n\u001b[32m     86\u001b[39m \u001b[38;5;28;01mtry\u001b[39;00m:\n\u001b[32m     87\u001b[39m     \u001b[38;5;28mprint\u001b[39m(\u001b[33mf\u001b[39m\u001b[33m\"\u001b[39m\u001b[33m[DOWNLOAD] \u001b[39m\u001b[38;5;132;01m{\u001b[39;00mlabel.upper()\u001b[38;5;132;01m}\u001b[39;00m\u001b[33m for \u001b[39m\u001b[38;5;132;01m{\u001b[39;00myear\u001b[38;5;132;01m}\u001b[39;00m\u001b[33m\"\u001b[39m)\n\u001b[32m---> \u001b[39m\u001b[32m88\u001b[39m     \u001b[43mc\u001b[49m\u001b[43m.\u001b[49m\u001b[43mretrieve\u001b[49m\u001b[43m(\u001b[49m\n\u001b[32m     89\u001b[39m \u001b[43m        \u001b[49m\u001b[33;43m'\u001b[39;49m\u001b[33;43mreanalysis-era5-single-levels-timeseries\u001b[39;49m\u001b[33;43m'\u001b[39;49m\u001b[43m,\u001b[49m\n\u001b[32m     90\u001b[39m \u001b[43m        \u001b[49m\u001b[43m{\u001b[49m\n\u001b[32m     91\u001b[39m \u001b[43m            \u001b[49m\u001b[33;43m'\u001b[39;49m\u001b[33;43mformat\u001b[39;49m\u001b[33;43m'\u001b[39;49m\u001b[43m:\u001b[49m\u001b[43m \u001b[49m\u001b[33;43m'\u001b[39;49m\u001b[33;43mcsv\u001b[39;49m\u001b[33;43m'\u001b[39;49m\u001b[43m,\u001b[49m\n\u001b[32m     92\u001b[39m \u001b[43m            \u001b[49m\u001b[33;43m'\u001b[39;49m\u001b[33;43mproduct_type\u001b[39;49m\u001b[33;43m'\u001b[39;49m\u001b[43m:\u001b[49m\u001b[43m \u001b[49m\u001b[33;43m'\u001b[39;49m\u001b[33;43mreanalysis\u001b[39;49m\u001b[33;43m'\u001b[39;49m\u001b[43m,\u001b[49m\n\u001b[32m     93\u001b[39m \u001b[43m            \u001b[49m\u001b[33;43m'\u001b[39;49m\u001b[33;43mvariable\u001b[39;49m\u001b[33;43m'\u001b[39;49m\u001b[43m:\u001b[49m\u001b[43m \u001b[49m\u001b[43mvariables\u001b[49m\u001b[43m,\u001b[49m\n\u001b[32m     94\u001b[39m \u001b[43m            \u001b[49m\u001b[33;43m'\u001b[39;49m\u001b[33;43myear\u001b[39;49m\u001b[33;43m'\u001b[39;49m\u001b[43m:\u001b[49m\u001b[43m \u001b[49m\u001b[38;5;28;43mstr\u001b[39;49m\u001b[43m(\u001b[49m\u001b[43myear\u001b[49m\u001b[43m)\u001b[49m\u001b[43m,\u001b[49m\n\u001b[32m     95\u001b[39m \u001b[43m            \u001b[49m\u001b[33;43m'\u001b[39;49m\u001b[33;43mmonth\u001b[39;49m\u001b[33;43m'\u001b[39;49m\u001b[43m:\u001b[49m\u001b[43m \u001b[49m\u001b[43m[\u001b[49m\u001b[33;43mf\u001b[39;49m\u001b[33;43m\"\u001b[39;49m\u001b[38;5;132;43;01m{\u001b[39;49;00m\u001b[43mm\u001b[49m\u001b[38;5;132;43;01m:\u001b[39;49;00m\u001b[33;43m02d\u001b[39;49m\u001b[38;5;132;43;01m}\u001b[39;49;00m\u001b[33;43m\"\u001b[39;49m\u001b[43m \u001b[49m\u001b[38;5;28;43;01mfor\u001b[39;49;00m\u001b[43m \u001b[49m\u001b[43mm\u001b[49m\u001b[43m \u001b[49m\u001b[38;5;129;43;01min\u001b[39;49;00m\u001b[43m \u001b[49m\u001b[38;5;28;43mrange\u001b[39;49m\u001b[43m(\u001b[49m\u001b[32;43m1\u001b[39;49m\u001b[43m,\u001b[49m\u001b[43m \u001b[49m\u001b[32;43m13\u001b[39;49m\u001b[43m)\u001b[49m\u001b[43m]\u001b[49m\u001b[43m,\u001b[49m\n\u001b[32m     96\u001b[39m \u001b[43m            \u001b[49m\u001b[33;43m'\u001b[39;49m\u001b[33;43mday\u001b[39;49m\u001b[33;43m'\u001b[39;49m\u001b[43m:\u001b[49m\u001b[43m \u001b[49m\u001b[43m[\u001b[49m\u001b[33;43mf\u001b[39;49m\u001b[33;43m\"\u001b[39;49m\u001b[38;5;132;43;01m{\u001b[39;49;00m\u001b[43md\u001b[49m\u001b[38;5;132;43;01m:\u001b[39;49;00m\u001b[33;43m02d\u001b[39;49m\u001b[38;5;132;43;01m}\u001b[39;49;00m\u001b[33;43m\"\u001b[39;49m\u001b[43m \u001b[49m\u001b[38;5;28;43;01mfor\u001b[39;49;00m\u001b[43m \u001b[49m\u001b[43md\u001b[49m\u001b[43m \u001b[49m\u001b[38;5;129;43;01min\u001b[39;49;00m\u001b[43m \u001b[49m\u001b[38;5;28;43mrange\u001b[39;49m\u001b[43m(\u001b[49m\u001b[32;43m1\u001b[39;49m\u001b[43m,\u001b[49m\u001b[43m \u001b[49m\u001b[32;43m32\u001b[39;49m\u001b[43m)\u001b[49m\u001b[43m]\u001b[49m\u001b[43m,\u001b[49m\n\u001b[32m     97\u001b[39m \u001b[43m            \u001b[49m\u001b[33;43m'\u001b[39;49m\u001b[33;43mtime\u001b[39;49m\u001b[33;43m'\u001b[39;49m\u001b[43m:\u001b[49m\u001b[43m \u001b[49m\u001b[43m[\u001b[49m\u001b[33;43mf\u001b[39;49m\u001b[33;43m\"\u001b[39;49m\u001b[38;5;132;43;01m{\u001b[39;49;00m\u001b[43mh\u001b[49m\u001b[38;5;132;43;01m:\u001b[39;49;00m\u001b[33;43m02d\u001b[39;49m\u001b[38;5;132;43;01m}\u001b[39;49;00m\u001b[33;43m:00\u001b[39;49m\u001b[33;43m\"\u001b[39;49m\u001b[43m \u001b[49m\u001b[38;5;28;43;01mfor\u001b[39;49;00m\u001b[43m \u001b[49m\u001b[43mh\u001b[49m\u001b[43m \u001b[49m\u001b[38;5;129;43;01min\u001b[39;49;00m\u001b[43m \u001b[49m\u001b[38;5;28;43mrange\u001b[39;49m\u001b[43m(\u001b[49m\u001b[32;43m24\u001b[39;49m\u001b[43m)\u001b[49m\u001b[43m]\u001b[49m\u001b[43m,\u001b[49m\n\u001b[32m     98\u001b[39m \u001b[43m            \u001b[49m\u001b[33;43m'\u001b[39;49m\u001b[33;43mlongitude\u001b[39;49m\u001b[33;43m'\u001b[39;49m\u001b[43m:\u001b[49m\u001b[43m \u001b[49m\u001b[43mlon\u001b[49m\u001b[43m,\u001b[49m\n\u001b[32m     99\u001b[39m \u001b[43m            \u001b[49m\u001b[33;43m'\u001b[39;49m\u001b[33;43mlatitude\u001b[39;49m\u001b[33;43m'\u001b[39;49m\u001b[43m:\u001b[49m\u001b[43m \u001b[49m\u001b[43mlat\u001b[49m\u001b[43m,\u001b[49m\n\u001b[32m    100\u001b[39m \n\u001b[32m    101\u001b[39m \u001b[43m        \u001b[49m\u001b[43m}\u001b[49m\u001b[43m,\u001b[49m\n\u001b[32m    102\u001b[39m \u001b[43m        \u001b[49m\u001b[43myearly_output\u001b[49m\n\u001b[32m    103\u001b[39m \u001b[43m    \u001b[49m\u001b[43m)\u001b[49m\n\u001b[32m    104\u001b[39m     \u001b[38;5;28mprint\u001b[39m(\u001b[33mf\u001b[39m\u001b[33m\"\u001b[39m\u001b[33m[SUCCESS] \u001b[39m\u001b[38;5;132;01m{\u001b[39;00mlabel.upper()\u001b[38;5;132;01m}\u001b[39;00m\u001b[33m \u001b[39m\u001b[38;5;132;01m{\u001b[39;00myear\u001b[38;5;132;01m}\u001b[39;00m\u001b[33m saved.\u001b[39m\u001b[33m\"\u001b[39m)\n\u001b[32m    105\u001b[39m \u001b[38;5;28;01mexcept\u001b[39;00m \u001b[38;5;167;01mException\u001b[39;00m \u001b[38;5;28;01mas\u001b[39;00m e:\n",
      "\u001b[36mFile \u001b[39m\u001b[32mc:\\Users\\justa\\ML\\Weather\\.venv-3.12\\Lib\\site-packages\\ecmwf\\datastores\\legacy_client.py:167\u001b[39m, in \u001b[36mLegacyClient.retrieve\u001b[39m\u001b[34m(self, name, request, target)\u001b[39m\n\u001b[32m    165\u001b[39m submitted: datastores.Remote | datastores.Results\n\u001b[32m    166\u001b[39m \u001b[38;5;28;01mif\u001b[39;00m \u001b[38;5;28mself\u001b[39m.wait_until_complete:\n\u001b[32m--> \u001b[39m\u001b[32m167\u001b[39m     submitted = \u001b[38;5;28;43mself\u001b[39;49m\u001b[43m.\u001b[49m\u001b[43mclient\u001b[49m\u001b[43m.\u001b[49m\u001b[43msubmit_and_wait_on_results\u001b[49m\u001b[43m(\u001b[49m\n\u001b[32m    168\u001b[39m \u001b[43m        \u001b[49m\u001b[43mcollection_id\u001b[49m\u001b[43m=\u001b[49m\u001b[43mname\u001b[49m\u001b[43m,\u001b[49m\n\u001b[32m    169\u001b[39m \u001b[43m        \u001b[49m\u001b[43mrequest\u001b[49m\u001b[43m=\u001b[49m\u001b[43mrequest\u001b[49m\u001b[43m,\u001b[49m\n\u001b[32m    170\u001b[39m \u001b[43m    \u001b[49m\u001b[43m)\u001b[49m\n\u001b[32m    171\u001b[39m \u001b[38;5;28;01melse\u001b[39;00m:\n\u001b[32m    172\u001b[39m     submitted = \u001b[38;5;28mself\u001b[39m.client.submit(\n\u001b[32m    173\u001b[39m         collection_id=name,\n\u001b[32m    174\u001b[39m         request=request,\n\u001b[32m    175\u001b[39m     )\n",
      "\u001b[36mFile \u001b[39m\u001b[32mc:\\Users\\justa\\ML\\Weather\\.venv-3.12\\Lib\\site-packages\\ecmwf\\datastores\\client.py:414\u001b[39m, in \u001b[36mClient.submit_and_wait_on_results\u001b[39m\u001b[34m(self, collection_id, request)\u001b[39m\n\u001b[32m    398\u001b[39m \u001b[38;5;28;01mdef\u001b[39;00m\u001b[38;5;250m \u001b[39m\u001b[34msubmit_and_wait_on_results\u001b[39m(\n\u001b[32m    399\u001b[39m     \u001b[38;5;28mself\u001b[39m, collection_id: \u001b[38;5;28mstr\u001b[39m, request: \u001b[38;5;28mdict\u001b[39m[\u001b[38;5;28mstr\u001b[39m, Any]\n\u001b[32m    400\u001b[39m ) -> datastores.Results:\n\u001b[32m    401\u001b[39m \u001b[38;5;250m    \u001b[39m\u001b[33;03m\"\"\"Submit a request and wait for the results to be ready.\u001b[39;00m\n\u001b[32m    402\u001b[39m \n\u001b[32m    403\u001b[39m \u001b[33;03m    Parameters\u001b[39;00m\n\u001b[32m   (...)\u001b[39m\u001b[32m    412\u001b[39m \u001b[33;03m    datastores.Results\u001b[39;00m\n\u001b[32m    413\u001b[39m \u001b[33;03m    \"\"\"\u001b[39;00m\n\u001b[32m--> \u001b[39m\u001b[32m414\u001b[39m     \u001b[38;5;28;01mreturn\u001b[39;00m \u001b[38;5;28;43mself\u001b[39;49m\u001b[43m.\u001b[49m\u001b[43m_retrieve_api\u001b[49m\u001b[43m.\u001b[49m\u001b[43msubmit\u001b[49m\u001b[43m(\u001b[49m\u001b[43mcollection_id\u001b[49m\u001b[43m,\u001b[49m\u001b[43m \u001b[49m\u001b[43mrequest\u001b[49m\u001b[43m)\u001b[49m\u001b[43m.\u001b[49m\u001b[43mget_results\u001b[49m\u001b[43m(\u001b[49m\u001b[43m)\u001b[49m\n",
      "\u001b[36mFile \u001b[39m\u001b[32mc:\\Users\\justa\\ML\\Weather\\.venv-3.12\\Lib\\site-packages\\ecmwf\\datastores\\processing.py:495\u001b[39m, in \u001b[36mRemote.get_results\u001b[39m\u001b[34m(self)\u001b[39m\n\u001b[32m    488\u001b[39m \u001b[38;5;28;01mdef\u001b[39;00m\u001b[38;5;250m \u001b[39m\u001b[34mget_results\u001b[39m(\u001b[38;5;28mself\u001b[39m) -> Results:\n\u001b[32m    489\u001b[39m \u001b[38;5;250m    \u001b[39m\u001b[33;03m\"\"\"Retrieve results.\u001b[39;00m\n\u001b[32m    490\u001b[39m \n\u001b[32m    491\u001b[39m \u001b[33;03m    Returns\u001b[39;00m\n\u001b[32m    492\u001b[39m \u001b[33;03m    -------\u001b[39;00m\n\u001b[32m    493\u001b[39m \u001b[33;03m    datastores.Results\u001b[39;00m\n\u001b[32m    494\u001b[39m \u001b[33;03m    \"\"\"\u001b[39;00m\n\u001b[32m--> \u001b[39m\u001b[32m495\u001b[39m     \u001b[38;5;28;01mreturn\u001b[39;00m \u001b[38;5;28;43mself\u001b[39;49m\u001b[43m.\u001b[49m\u001b[43m_make_results\u001b[49m\u001b[43m(\u001b[49m\u001b[43mwait\u001b[49m\u001b[43m=\u001b[49m\u001b[38;5;28;43;01mTrue\u001b[39;49;00m\u001b[43m)\u001b[49m\n",
      "\u001b[36mFile \u001b[39m\u001b[32mc:\\Users\\justa\\ML\\Weather\\.venv-3.12\\Lib\\site-packages\\ecmwf\\datastores\\processing.py:479\u001b[39m, in \u001b[36mRemote._make_results\u001b[39m\u001b[34m(self, wait)\u001b[39m\n\u001b[32m    477\u001b[39m \u001b[38;5;28;01mdef\u001b[39;00m\u001b[38;5;250m \u001b[39m\u001b[34m_make_results\u001b[39m(\u001b[38;5;28mself\u001b[39m, wait: \u001b[38;5;28mbool\u001b[39m) -> Results:\n\u001b[32m    478\u001b[39m     \u001b[38;5;28;01mif\u001b[39;00m wait:\n\u001b[32m--> \u001b[39m\u001b[32m479\u001b[39m         \u001b[38;5;28;43mself\u001b[39;49m\u001b[43m.\u001b[49m\u001b[43m_wait_on_results\u001b[49m\u001b[43m(\u001b[49m\u001b[43m)\u001b[49m\n\u001b[32m    480\u001b[39m     response = \u001b[38;5;28mself\u001b[39m._get_api_response(\u001b[33m\"\u001b[39m\u001b[33mget\u001b[39m\u001b[33m\"\u001b[39m)\n\u001b[32m    481\u001b[39m     \u001b[38;5;28;01mtry\u001b[39;00m:\n",
      "\u001b[36mFile \u001b[39m\u001b[32mc:\\Users\\justa\\ML\\Weather\\.venv-3.12\\Lib\\site-packages\\ecmwf\\datastores\\processing.py:459\u001b[39m, in \u001b[36mRemote._wait_on_results\u001b[39m\u001b[34m(self)\u001b[39m\n\u001b[32m    457\u001b[39m \u001b[38;5;28;01mwhile\u001b[39;00m \u001b[38;5;129;01mnot\u001b[39;00m \u001b[38;5;28mself\u001b[39m.results_ready:\n\u001b[32m    458\u001b[39m     \u001b[38;5;28mself\u001b[39m.debug(\u001b[33mf\u001b[39m\u001b[33m\"\u001b[39m\u001b[33mresults not ready, waiting for \u001b[39m\u001b[38;5;132;01m{\u001b[39;00msleep\u001b[38;5;132;01m}\u001b[39;00m\u001b[33m seconds\u001b[39m\u001b[33m\"\u001b[39m)\n\u001b[32m--> \u001b[39m\u001b[32m459\u001b[39m     \u001b[43mtime\u001b[49m\u001b[43m.\u001b[49m\u001b[43msleep\u001b[49m\u001b[43m(\u001b[49m\u001b[43msleep\u001b[49m\u001b[43m)\u001b[49m\n\u001b[32m    460\u001b[39m     sleep = \u001b[38;5;28mmin\u001b[39m(sleep * \u001b[32m1.5\u001b[39m, \u001b[38;5;28mself\u001b[39m.sleep_max)\n",
      "\u001b[31mKeyboardInterrupt\u001b[39m: "
     ]
    }
   ],
   "source": [
    "import cdsapi\n",
    "import os\n",
    "from collections import OrderedDict\n",
    "\n",
    "# === SETTINGS ===\n",
    "center_lat = -3.0\n",
    "center_lon = -60.0\n",
    "output_dir = \"brazil\"\n",
    "grid_size = 5\n",
    "step = 0.25\n",
    "variables = ['u10', 'v10', 'd2m', 't2m', 'sp', 'tp']\n",
    "start_year = 2018\n",
    "end_year = 2025\n",
    "time_zone = 'UTC'  # Not used directly, but can adjust timestamps later if needed\n",
    "\n",
    "# === CREATE OUTPUT DIR ===\n",
    "os.makedirs(output_dir, exist_ok=True)\n",
    "\n",
    "# === GRID GENERATION ===\n",
    "def generate_grid(center_lat, center_lon, step=0.25, size=5):\n",
    "    grid = OrderedDict()\n",
    "    half = size // 2\n",
    "    for i in range(size):\n",
    "        for j in range(size):\n",
    "            lat_offset = half - i\n",
    "            lon_offset = j - half\n",
    "            lat = center_lat + lat_offset * step\n",
    "            lon = center_lon + lon_offset * step\n",
    "            label = ''\n",
    "            if lat_offset > 0:\n",
    "                label += 'N' + (str(lat_offset) if lat_offset > 1 else '')\n",
    "            elif lat_offset < 0:\n",
    "                label += 'S' + (str(abs(lat_offset)) if abs(lat_offset) > 1 else '')\n",
    "            if lon_offset > 0:\n",
    "                label += 'E' + (str(lon_offset) if lon_offset > 1 else '')\n",
    "            elif lon_offset < 0:\n",
    "                label += 'W' + (str(abs(lon_offset)) if abs(lon_offset) > 1 else '')\n",
    "            label = label or 'C'\n",
    "            grid[label.lower()] = (round(lat, 5), round(lon, 5))\n",
    "    return grid\n",
    "\n",
    "# === CDS API CLIENT ===\n",
    "c = cdsapi.Client()\n",
    "\n",
    "# === LOOP OVER GRID POINTS ===\n",
    "grid = generate_grid(center_lat, center_lon, step=step, size=grid_size)\n",
    "\n",
    "for label, (lat, lon) in grid.items():\n",
    "    output_path = os.path.join(output_dir, f'{label}.csv')\n",
    "    \n",
    "    if os.path.exists(output_path):\n",
    "        print(f\"[SKIP] {label} already downloaded.\")\n",
    "        continue\n",
    "\n",
    "    print(f\"[TRY] {label.upper()} full range (2018–2025)\")\n",
    "\n",
    "    try:\n",
    "        # === TRY ALL YEARS AT ONCE ===\n",
    "        c.retrieve(\n",
    "            'reanalysis-era5-single-levels-timeseries',\n",
    "            {\n",
    "                'format': 'csv',\n",
    "                'product_type': 'reanalysis',\n",
    "                'variable': variables,\n",
    "                'year': [str(y) for y in range(start_year, end_year + 1)],\n",
    "                'month': [f\"{m:02d}\" for m in range(1, 13)],\n",
    "                'day': [f\"{d:02d}\" for d in range(1, 32)],\n",
    "                'time': [f\"{h:02d}:00\" for h in range(24)],\n",
    "                'longitude': lon,\n",
    "                'latitude': lat\n",
    "            },\n",
    "            output_path\n",
    "        )\n",
    "        print(f\"[SUCCESS] {label.upper()} full range saved as {output_path}\")\n",
    "\n",
    "    except Exception as e:\n",
    "        print(f\"[FALLBACK] {label.upper()} failed full range. Trying year-by-year...\")\n",
    "\n",
    "        # Fallback: download year by year\n",
    "        for year in range(start_year, end_year + 1):\n",
    "            yearly_output = os.path.join(output_dir, f\"{label}_{year}.csv\")\n",
    "            if os.path.exists(yearly_output):\n",
    "                print(f\"[SKIP] {label.upper()} {year} already exists.\")\n",
    "                continue\n",
    "\n",
    "            try:\n",
    "                print(f\"[DOWNLOAD] {label.upper()} for {year}\")\n",
    "                c.retrieve(\n",
    "                    'reanalysis-era5-single-levels-timeseries',\n",
    "                    {\n",
    "                        'format': 'csv',\n",
    "                        'product_type': 'reanalysis',\n",
    "                        'variable': variables,\n",
    "                        'year': str(year),\n",
    "                        'month': [f\"{m:02d}\" for m in range(1, 13)],\n",
    "                        'day': [f\"{d:02d}\" for d in range(1, 32)],\n",
    "                        'time': [f\"{h:02d}:00\" for h in range(24)],\n",
    "                        'longitude': lon,\n",
    "                        'latitude': lat,\n",
    "\n",
    "                    },\n",
    "                    yearly_output\n",
    "                )\n",
    "                print(f\"[SUCCESS] {label.upper()} {year} saved.\")\n",
    "            except Exception as e:\n",
    "                print(f\"[ERROR] {label.upper()} {year} failed. Reason: {e}\")\n",
    "\n",
    "print(\"\\n✅ All downloads finished.\")\n"
   ]
  }
 ],
 "metadata": {
  "kernelspec": {
   "display_name": ".venv-3.12",
   "language": "python",
   "name": "python3"
  },
  "language_info": {
   "codemirror_mode": {
    "name": "ipython",
    "version": 3
   },
   "file_extension": ".py",
   "mimetype": "text/x-python",
   "name": "python",
   "nbconvert_exporter": "python",
   "pygments_lexer": "ipython3",
   "version": "3.12.10"
  }
 },
 "nbformat": 4,
 "nbformat_minor": 5
}
